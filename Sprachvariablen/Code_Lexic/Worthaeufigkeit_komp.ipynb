{
 "cells": [
  {
   "cell_type": "markdown",
   "id": "ca65d47e",
   "metadata": {},
   "source": [
    "*lh_ran, lh_freq, lh_lnfr, lh_inv*"
   ]
  },
  {
   "cell_type": "code",
   "execution_count": 1,
   "id": "fac2468f",
   "metadata": {},
   "outputs": [],
   "source": [
    "from cltk.lemmatize.lat import LatinBackoffLemmatizer\n",
    "import string\n",
    "import re\n",
    "import math\n",
    "from collections import Counter\n",
    "\n",
    "def count_rank(sentence):\n",
    "    \n",
    "    # Initialize the lemmatizer\n",
    "    lemmatizer = LatinBackoffLemmatizer()\n",
    "    \n",
    "    # import Latin corpus\n",
    "    with open('basic_voces.txt', 'r') as f:\n",
    "        corpus = f.read()\n",
    "    \n",
    "    # Remove Arabic numerals from the text\n",
    "    corpus = re.sub(r'\\d+', '', corpus)\n",
    "    \n",
    "    # Remove punctuation marks from corpus\n",
    "    corpus = corpus.translate(str.maketrans('', '', string.punctuation))\n",
    "\n",
    "    # Split corpus into words and convert each word to lowercase\n",
    "    words_corpus = corpus.lower().split()\n",
    "\n",
    "    # Lemmatize the words and extract the lemmas\n",
    "    lemmas_corpus = [re.sub(r'[1-4]$', '', lemma[1]) for lemma in lemmatizer.lemmatize(words_corpus)]\n",
    "\n",
    "    # Count the frequency of each lemma\n",
    "    lemma_counts = Counter(lemmas_corpus)\n",
    "\n",
    "    # Sort the dictionary by frequency and create a list of tuples\n",
    "    ranked_lemmas = sorted(lemma_counts.items(), key=lambda x: x[1], reverse=True)\n",
    "\n",
    "    # Assign the same rank to lemmas with the same frequency\n",
    "    rank_count = 0\n",
    "    prev_count = -1\n",
    "    ranked_lemmata = []\n",
    "    for rank, (lemma, count) in enumerate(ranked_lemmas):\n",
    "        if count != prev_count:\n",
    "            rank_count += 1\n",
    "        ranked_lemmata.append((rank_count, lemma, count))\n",
    "        prev_count = count\n",
    "    \n",
    "    # Lemmatize the Latin sentence\n",
    "    # Remove punctuation marks from sentence\n",
    "    sentence = sentence.translate(str.maketrans('', '', string.punctuation))\n",
    "\n",
    "    # Split sentence into words\n",
    "    words = sentence.split()\n",
    "\n",
    "    # Lemmatize the words\n",
    "    lemmas = lemmatizer.lemmatize(words)\n",
    "    \n",
    "    # the LatinBackoffLemmatizer gives us a tuple of the token and the lemma. Because we only need the lemma, we cut out the token.\n",
    "    # and we cut out the numerals 1 to 4, which may stand after a lemma.\n",
    "    lemmata = [re.sub(r'[1-4]$', '', lemma[1]) for lemma in lemmas]\n",
    "    \n",
    "    # give the sum of the rank of each lemma\n",
    "    rank_sum = 0\n",
    "    for lemma in lemmata:\n",
    "        for freq in ranked_lemmata:\n",
    "            if lemma == freq[1]:\n",
    "                rank_sum += freq[0]\n",
    "                \n",
    "    ranked_text = round(rank_sum / len(words),3)\n",
    "    \n",
    "    # give the sum of the frequency of each lemma\n",
    "    freq_sum = 0\n",
    "    for lemma in lemmata:\n",
    "        for frq in ranked_lemmata:\n",
    "            if lemma == frq[1]:\n",
    "                freq_sum += frq[2]\n",
    "                \n",
    "    freq_text = round(freq_sum / len(words),3)\n",
    "    \n",
    "    # give the sum of the log frequency of each lemma\n",
    "    logfreq_sum = 0\n",
    "    for lemma in lemmata:\n",
    "        for frq in ranked_lemmata:\n",
    "            if lemma == frq[1]:\n",
    "                logfreq_sum += math.log(frq[2])\n",
    "                \n",
    "                \n",
    "    logfreq_text = round(logfreq_sum / len(words),3)\n",
    "    \n",
    "    # give the inverse lemma frequency\n",
    "    inv_sum = 0\n",
    "    for lemma in lemmata:\n",
    "        for frq in ranked_lemmata:\n",
    "            if lemma == frq[1]:\n",
    "                inv_sum += 1/frq[2]\n",
    "                \n",
    "    inv_text = round((inv_sum / len(words))*100,3)\n",
    "    \n",
    "    return ranked_text, freq_text, logfreq_text, inv_text"
   ]
  },
  {
   "cell_type": "markdown",
   "id": "ee9212c5",
   "metadata": {},
   "source": [
    "*lh_100*"
   ]
  },
  {
   "cell_type": "code",
   "execution_count": 2,
   "id": "3a88495f",
   "metadata": {},
   "outputs": [],
   "source": [
    "from cltk.lemmatize.lat import LatinBackoffLemmatizer\n",
    "import string\n",
    "import re\n",
    "import math\n",
    "from collections import Counter\n",
    "\n",
    "def count_grouprank(sentence):\n",
    "    \n",
    "    # Initialize the lemmatizer\n",
    "    lemmatizer = LatinBackoffLemmatizer()\n",
    "    \n",
    "    # import Latin corpus\n",
    "    with open('basic_voces.txt', 'r') as f:\n",
    "        corpus = f.read()\n",
    "    \n",
    "    # Remove Arabic numerals from the text\n",
    "    corpus = re.sub(r'\\d+', '', corpus)\n",
    "    \n",
    "    # Remove punctuation marks from corpus\n",
    "    corpus = corpus.translate(str.maketrans('', '', string.punctuation))\n",
    "\n",
    "    # Split corpus into words and convert each word to lowercase\n",
    "    words_corpus = corpus.lower().split()\n",
    "\n",
    "    # Lemmatize the words and extract the lemmas\n",
    "    lemmas_corpus = [re.sub(r'[1-4]$', '', lemma[1]) for lemma in lemmatizer.lemmatize(words_corpus)]\n",
    "\n",
    "    # Count the frequency of each lemma\n",
    "    lemma_counts = Counter(lemmas_corpus)\n",
    "\n",
    "    # Sort the dictionary by frequency and create a list of tuples\n",
    "    ranked_lemmas = sorted(lemma_counts.items(), key=lambda x: x[1], reverse=True)\n",
    "\n",
    "    # Assign the same rank to lemmas with the same frequency\n",
    "    rank_count = 0\n",
    "    prev_count = -1\n",
    "    ranked_lemmata = []\n",
    "    for rank, (lemma, count) in enumerate(ranked_lemmas):\n",
    "        if count != prev_count:\n",
    "            rank_count += 1\n",
    "        ranked_lemmata.append((rank_count, lemma, count))\n",
    "        prev_count = count\n",
    "    \n",
    "    # Group the lemmas by frequency ranks\n",
    "    freq_groups = {}\n",
    "    for rank, lemma, count in ranked_lemmata:\n",
    "        group = math.ceil(rank / 100)\n",
    "        if group not in freq_groups:\n",
    "            freq_groups[group] = []\n",
    "        freq_groups[group].append((lemma, group))\n",
    "\n",
    "    # Flatten the list of grouped lemmas, iterating over each group in the freq_groups, then over eachlemma in the group\n",
    "    grouped_lemmata = [lemma for group in freq_groups.values() for lemma in group]\n",
    "    \n",
    "    # Lemmatize the Latin sentence\n",
    "    # Remove punctuation marks from sentence\n",
    "    sentence = sentence.translate(str.maketrans('', '', string.punctuation))\n",
    "\n",
    "    # Split sentence into words\n",
    "    words = sentence.split()\n",
    "\n",
    "    # Lemmatize the words\n",
    "    lemmas = lemmatizer.lemmatize(words)\n",
    "    \n",
    "    # the LatinBackoffLemmatizer gives us a tuple of the token and the lemma. Because we only need the lemma, we cut out the token.\n",
    "    # and we cut out the numerals 1 to 4, which may stand after a lemma.\n",
    "    lemmata = [re.sub(r'[1-4]$', '', lemma[1]) for lemma in lemmas]\n",
    "    \n",
    "    # give the sum of the group of each lemma\n",
    "    group_sum = 0\n",
    "    for lemma in lemmata:\n",
    "        for group in grouped_lemmata:\n",
    "            if lemma == group[0]:\n",
    "                group_sum += group[1]\n",
    "                \n",
    "    groupfreq_text = round(group_sum / len(words),3)\n",
    "    \n",
    "    return groupfreq_text"
   ]
  },
  {
   "cell_type": "markdown",
   "id": "7a6c4ec5",
   "metadata": {},
   "source": [
    "*lhsw_ran, lhsw_freq, lhsw_lnfr*"
   ]
  },
  {
   "cell_type": "code",
   "execution_count": 3,
   "id": "b0f550fe",
   "metadata": {},
   "outputs": [],
   "source": [
    "from cltk.lemmatize.lat import LatinBackoffLemmatizer\n",
    "from cltk.stops.words import Stops\n",
    "import string\n",
    "import re\n",
    "import math\n",
    "from collections import Counter\n",
    "\n",
    "def count_content(sentence):\n",
    "    \n",
    "    # Initialize the lemmatizer\n",
    "    lemmatizer = LatinBackoffLemmatizer()\n",
    "    \n",
    "    # import Latin corpus\n",
    "    with open('basic_voces.txt', 'r') as f:\n",
    "        corpus = f.read()\n",
    "    \n",
    "    # Remove Arabic numerals from the text\n",
    "    corpus = re.sub(r'\\d+', '', corpus)\n",
    "    \n",
    "    # Remove punctuation marks from corpus\n",
    "    corpus = corpus.translate(str.maketrans('', '', string.punctuation))\n",
    "\n",
    "    # Split corpus into words and convert each word to lowercase\n",
    "    words_corpus = corpus.lower().split()\n",
    "\n",
    "    # Lemmatize the words and extract the lemmas\n",
    "    lemmas_corpus = [re.sub(r'[1-4]$', '', lemma[1]) for lemma in lemmatizer.lemmatize(words_corpus)]\n",
    "\n",
    "    # Count the frequency of each lemma\n",
    "    lemma_counts = Counter(lemmas_corpus)\n",
    "\n",
    "    # Sort the dictionary by frequency and create a list of tuples\n",
    "    ranked_lemmas = sorted(lemma_counts.items(), key=lambda x: x[1], reverse=True)\n",
    "\n",
    "    # Assign the same rank to lemmas with the same frequency\n",
    "    rank_count = 0\n",
    "    prev_count = -1\n",
    "    ranked_lemmata = []\n",
    "    for rank, (lemma, count) in enumerate(ranked_lemmas):\n",
    "        if count != prev_count:\n",
    "            rank_count += 1\n",
    "        ranked_lemmata.append((rank_count, lemma, count))\n",
    "        prev_count = count\n",
    "    \n",
    "    # Lemmatize the Latin sentence\n",
    "    # Remove punctuation marks from sentence\n",
    "    sentence = sentence.translate(str.maketrans('', '', string.punctuation))\n",
    "\n",
    "    # Split sentence into words\n",
    "    words = sentence.split()\n",
    "\n",
    "    # Lemmatize the words\n",
    "    lemmas = lemmatizer.lemmatize(words)\n",
    "    \n",
    "    # the LatinBackoffLemmatizer gives us a tuple of the token and the lemma. Because we only need the lemma, we cut out the token.\n",
    "    # and we cut out the numerals 1 to 4, which may stand after a lemma.\n",
    "    lemmata = [re.sub(r'[1-4]$', '', lemma[1]) for lemma in lemmas]\n",
    "    \n",
    "    # we remove the Latin stop words.\n",
    "    stops_obj = Stops(iso_code=\"lat\")\n",
    "    tokens_filtered = stops_obj.remove_stopwords(tokens=lemmata)\n",
    "    \n",
    "    # give the sum of the rank of each lemma\n",
    "    rank_sum = 0\n",
    "    for lemma in tokens_filtered:\n",
    "        for freq in ranked_lemmata:\n",
    "            if lemma == freq[1]:\n",
    "                rank_sum += freq[0]\n",
    "                \n",
    "    ranked_text = round(rank_sum / len(tokens_filtered),3)\n",
    "    \n",
    "    # give the sum of the frequency of each lemma\n",
    "    freq_sum = 0\n",
    "    for lemma in tokens_filtered:\n",
    "        for frq in ranked_lemmata:\n",
    "            if lemma == frq[1]:\n",
    "                freq_sum += frq[2]\n",
    "                \n",
    "    freq_text = round(freq_sum / len(tokens_filtered),3)\n",
    "    \n",
    "    # give the sum of the log frequency of each lemma\n",
    "    logfreq_sum = 0\n",
    "    for lemma in tokens_filtered:\n",
    "        for frq in ranked_lemmata:\n",
    "            if lemma == frq[1]:\n",
    "                logfreq_sum += math.log(frq[2])\n",
    "                \n",
    "    logfreq_text = round(logfreq_sum / len(tokens_filtered),3)\n",
    "    \n",
    "    return ranked_text, freq_text, logfreq_text"
   ]
  },
  {
   "cell_type": "markdown",
   "id": "b17b93d5",
   "metadata": {},
   "source": [
    "*lhsw_100*"
   ]
  },
  {
   "cell_type": "code",
   "execution_count": 4,
   "id": "aff83efb",
   "metadata": {},
   "outputs": [],
   "source": [
    "from cltk.lemmatize.lat import LatinBackoffLemmatizer\n",
    "from cltk.stops.words import Stops\n",
    "import string\n",
    "import re\n",
    "import math\n",
    "from collections import Counter\n",
    "\n",
    "def count_content_group(sentence):\n",
    "    \n",
    "    # Initialize the lemmatizer\n",
    "    lemmatizer = LatinBackoffLemmatizer()\n",
    "    \n",
    "    # import Latin corpus\n",
    "    with open('basic_voces.txt', 'r') as f:\n",
    "        corpus = f.read()\n",
    "    \n",
    "    # Remove Arabic numerals from the text\n",
    "    corpus = re.sub(r'\\d+', '', corpus)\n",
    "    \n",
    "    # Remove punctuation marks from corpus\n",
    "    corpus = corpus.translate(str.maketrans('', '', string.punctuation))\n",
    "\n",
    "    # Split corpus into words and convert each word to lowercase\n",
    "    words_corpus = corpus.lower().split()\n",
    "\n",
    "    # Lemmatize the words and extract the lemmas\n",
    "    lemmas_corpus = [re.sub(r'[1-4]$', '', lemma[1]) for lemma in lemmatizer.lemmatize(words_corpus)]\n",
    "\n",
    "    # Count the frequency of each lemma\n",
    "    lemma_counts = Counter(lemmas_corpus)\n",
    "\n",
    "    # Sort the dictionary by frequency and create a list of tuples\n",
    "    ranked_lemmas = sorted(lemma_counts.items(), key=lambda x: x[1], reverse=True)\n",
    "\n",
    "    # Assign the same rank to lemmas with the same frequency\n",
    "    rank_count = 0\n",
    "    prev_count = -1\n",
    "    ranked_lemmata = []\n",
    "    for rank, (lemma, count) in enumerate(ranked_lemmas):\n",
    "        if count != prev_count:\n",
    "            rank_count += 1\n",
    "        ranked_lemmata.append((rank_count, lemma, count))\n",
    "        prev_count = count\n",
    "    \n",
    "    # Group the lemmas by frequency ranks\n",
    "    freq_groups = {}\n",
    "    for rank, lemma, count in ranked_lemmata:\n",
    "        group = math.ceil(rank / 100)\n",
    "        if group not in freq_groups:\n",
    "            freq_groups[group] = []\n",
    "        freq_groups[group].append((lemma, group))\n",
    "\n",
    "    # Flatten the list of grouped lemmas, iterating over each group in the freq_groups, then over eachlemma in the group\n",
    "    grouped_lemmata = [lemma for group in freq_groups.values() for lemma in group]\n",
    "    \n",
    "    # Lemmatize the Latin sentence\n",
    "    # Remove punctuation marks from sentence\n",
    "    sentence = sentence.translate(str.maketrans('', '', string.punctuation))\n",
    "\n",
    "    # Split sentence into words\n",
    "    words = sentence.split()\n",
    "\n",
    "    # Lemmatize the words\n",
    "    lemmas = lemmatizer.lemmatize(words)\n",
    "    \n",
    "    # the LatinBackoffLemmatizer gives us a tuple of the token and the lemma. Because we only need the lemma, we cut out the token.\n",
    "    # and we cut out the numerals 1 to 4, which may stand after a lemma.\n",
    "    lemmata = [re.sub(r'[1-4]$', '', lemma[1]) for lemma in lemmas]\n",
    "    \n",
    "    # we remove the Latin stop words.\n",
    "    stops_obj = Stops(iso_code=\"lat\")\n",
    "    tokens_filtered = stops_obj.remove_stopwords(tokens=lemmata)\n",
    "    \n",
    "    # give the sum of the group of each lemma\n",
    "    group_sum = 0\n",
    "    for lemma in tokens_filtered:\n",
    "        for group in grouped_lemmata:\n",
    "            if lemma == group[0]:\n",
    "                group_sum += group[1]\n",
    "                \n",
    "    groupfreq_text = round(group_sum / len(tokens_filtered),3)\n",
    "    \n",
    "    return groupfreq_text"
   ]
  },
  {
   "cell_type": "markdown",
   "id": "f70bbe37",
   "metadata": {},
   "source": [
    "*wh_ran, wh_freq, wh_lnfr*"
   ]
  },
  {
   "cell_type": "code",
   "execution_count": 5,
   "id": "34893b52",
   "metadata": {},
   "outputs": [],
   "source": [
    "import string\n",
    "import re\n",
    "import math\n",
    "from collections import Counter\n",
    "\n",
    "def count_words(sentence):\n",
    "    \n",
    "    # import Latin corpus\n",
    "    with open('basic_voces.txt', 'r') as f:\n",
    "        corpus = f.read()\n",
    "    \n",
    "    # Remove Arabic numerals from the text\n",
    "    corpus = re.sub(r'\\d+', '', corpus)\n",
    "    \n",
    "    # Remove punctuation marks from corpus\n",
    "    corpus = corpus.translate(str.maketrans('', '', string.punctuation))\n",
    "\n",
    "    # Split corpus into words and convert each word to lowercase\n",
    "    words_corpus = corpus.lower().split()\n",
    "\n",
    "    # Count the frequency of each word\n",
    "    word_counts = Counter(words_corpus)\n",
    "\n",
    "    # Sort the dictionary by frequency and create a list of tuples\n",
    "    ranked_words = sorted(word_counts.items(), key=lambda x: x[1], reverse=True)\n",
    "\n",
    "    # Assign the same rank to words with the same frequency\n",
    "    rank_count = 0\n",
    "    prev_count = -1\n",
    "    rank_words = []\n",
    "    for rank, (word, count) in enumerate(ranked_words):\n",
    "        if count != prev_count:\n",
    "            rank_count += 1\n",
    "        rank_words.append((rank_count, word, count))\n",
    "        prev_count = count\n",
    "    \n",
    "    # Remove punctuation marks from sentence\n",
    "    sentence = sentence.translate(str.maketrans('', '', string.punctuation))\n",
    "\n",
    "    # Split sentence into words\n",
    "    words = sentence.split()\n",
    "    \n",
    "    # give the sum of the rank of each word\n",
    "    rank_sum = 0\n",
    "    for word in words:\n",
    "        for freq in rank_words:\n",
    "            if word == freq[1]:\n",
    "                rank_sum += freq[0]\n",
    "                \n",
    "    ranked_text = round(rank_sum / len(words),3)\n",
    "    \n",
    "    # give the sum of the frequency of each word\n",
    "    freq_sum = 0\n",
    "    for word in words:\n",
    "        for frq in rank_words:\n",
    "            if word == frq[1]:\n",
    "                freq_sum += frq[2]\n",
    "                \n",
    "    freq_text = round(freq_sum / len(words),3)\n",
    "    \n",
    "    # give the sum of the log frequency of each word\n",
    "    logfreq_sum = 0\n",
    "    for word in words:\n",
    "        for frq in rank_words:\n",
    "            if word == frq[1]:\n",
    "                logfreq_sum += math.log(frq[2])\n",
    "                \n",
    "    logfreq_text = round(logfreq_sum / len(words),3)\n",
    "    \n",
    "    return ranked_text, freq_text, logfreq_text"
   ]
  },
  {
   "cell_type": "markdown",
   "id": "8006e53e",
   "metadata": {},
   "source": [
    "*wh_100*"
   ]
  },
  {
   "cell_type": "code",
   "execution_count": 6,
   "id": "38314544",
   "metadata": {},
   "outputs": [],
   "source": [
    "import string\n",
    "import re\n",
    "import math\n",
    "from collections import Counter\n",
    "\n",
    "def count_grouprank_words(sentence):\n",
    "    \n",
    "    # import Latin corpus\n",
    "    with open('basic_voces.txt', 'r') as f:\n",
    "        corpus = f.read()\n",
    "    \n",
    "    # Remove Arabic numerals from the text\n",
    "    corpus = re.sub(r'\\d+', '', corpus)\n",
    "    \n",
    "    # Remove punctuation marks from corpus\n",
    "    corpus = corpus.translate(str.maketrans('', '', string.punctuation))\n",
    "\n",
    "    # Split corpus into words and convert each word to lowercase\n",
    "    words_corpus = corpus.lower().split()\n",
    "\n",
    "    # Count the frequency of each word form\n",
    "    word_counts = Counter(words_corpus)\n",
    "\n",
    "    # Sort the dictionary by frequency and create a list of tuples\n",
    "    ranked_words = sorted(word_counts.items(), key=lambda x: x[1], reverse=True)\n",
    "\n",
    "    # Assign the same rank to words with the same frequency\n",
    "    rank_count = 0\n",
    "    prev_count = -1\n",
    "    rank_words = []\n",
    "    for rank, (word, count) in enumerate(ranked_words):\n",
    "        if count != prev_count:\n",
    "            rank_count += 1\n",
    "        rank_words.append((rank_count, word, count))\n",
    "        prev_count = count\n",
    "    \n",
    "    # Group the lemmas by frequency ranks\n",
    "    freq_groups = {}\n",
    "    for rank, word, count in rank_words:\n",
    "        group = math.ceil(rank / 100)\n",
    "        if group not in freq_groups:\n",
    "            freq_groups[group] = []\n",
    "        freq_groups[group].append((word, group))\n",
    "\n",
    "    # Flatten the list of grouped words, iterating over each group in the freq_groups, then over each word in the group\n",
    "    grouped_words = [word for group in freq_groups.values() for word in group]\n",
    "    \n",
    "    # Remove punctuation marks from sentence\n",
    "    sentence = sentence.translate(str.maketrans('', '', string.punctuation))\n",
    "\n",
    "    # Split sentence into words\n",
    "    words = sentence.split()\n",
    "    \n",
    "    # give the sum of the group of each word\n",
    "    group_sum = 0\n",
    "    for word in words:\n",
    "        for group in grouped_words:\n",
    "            if word == group[0]:\n",
    "                group_sum += group[1]\n",
    "                \n",
    "    groupfreq_text = round(group_sum / len(words),3)\n",
    "    \n",
    "    return groupfreq_text"
   ]
  },
  {
   "cell_type": "markdown",
   "id": "1597c199",
   "metadata": {},
   "source": [
    "*whsw_ran, whsw_freq, whsw_lnfr*"
   ]
  },
  {
   "cell_type": "code",
   "execution_count": 7,
   "id": "3e02033f",
   "metadata": {},
   "outputs": [],
   "source": [
    "from cltk.lemmatize.lat import LatinBackoffLemmatizer\n",
    "from cltk.stops.words import Stops\n",
    "import string\n",
    "import re\n",
    "import math\n",
    "from collections import Counter\n",
    "\n",
    "def count_content_words(sentence):\n",
    "    \n",
    "    # import Latin corpus\n",
    "    with open('basic_voces.txt', 'r') as f:\n",
    "        corpus = f.read()\n",
    "    \n",
    "    # Remove Arabic numerals from the text\n",
    "    corpus = re.sub(r'\\d+', '', corpus)\n",
    "    \n",
    "    # Remove punctuation marks from corpus\n",
    "    corpus = corpus.translate(str.maketrans('', '', string.punctuation))\n",
    "\n",
    "    # Split corpus into words and convert each word to lowercase\n",
    "    words_corpus = corpus.lower().split()\n",
    "\n",
    "    # Count the frequency of each word\n",
    "    word_counts = Counter(words_corpus)\n",
    "\n",
    "    # Sort the dictionary by frequency and create a list of tuples\n",
    "    ranked_words = sorted(word_counts.items(), key=lambda x: x[1], reverse=True)\n",
    "\n",
    "    # Assign the same rank to words with the same frequency\n",
    "    rank_count = 0\n",
    "    prev_count = -1\n",
    "    rank_words = []\n",
    "    for rank, (word, count) in enumerate(ranked_words):\n",
    "        if count != prev_count:\n",
    "            rank_count += 1\n",
    "        rank_words.append((rank_count, word, count))\n",
    "        prev_count = count\n",
    "    \n",
    "    # Remove punctuation marks from sentence\n",
    "    sentence = sentence.translate(str.maketrans('', '', string.punctuation))\n",
    "\n",
    "    # Split sentence into words\n",
    "    words = sentence.split()\n",
    "    \n",
    "    # Initialize the lemmatizer\n",
    "    lemmatizer = LatinBackoffLemmatizer()\n",
    "    \n",
    "    # Lemmatize the words\n",
    "    lemmas = lemmatizer.lemmatize(words)\n",
    "    \n",
    "    # the LatinBackoffLemmatizer gives us a tuple of the token and the lemma. Because we only need the lemma, we cut out the token.\n",
    "    # and we cut out the numerals 1 to 4, which may stand after a lemma.\n",
    "    # Create a list of (token, lemma) pairs\n",
    "    token_lemma_pairs = [(word, lemma[1].rstrip('1234')) for word, lemma in zip(words, lemmas)]\n",
    "\n",
    "    # Remove Latin stop words from the list of lemmas\n",
    "    stops_obj = Stops(iso_code=\"lat\")\n",
    "    filtered_lemmas = stops_obj.remove_stopwords(tokens=[lemma[1].rstrip('1234') for lemma in lemmas])\n",
    "\n",
    "    # Create a list of tokens from the list of (token, lemma) pairs, excluding stop words\n",
    "    tokens_filtered = [pair[0] for pair in token_lemma_pairs if pair[1] in filtered_lemmas]\n",
    "\n",
    "    \n",
    "    # give the sum of the rank of each word\n",
    "    rank_sum = 0\n",
    "    for word in tokens_filtered:\n",
    "        for freq in rank_words:\n",
    "            if word == freq[1]:\n",
    "                rank_sum += freq[0]\n",
    "                \n",
    "    ranked_text = round(rank_sum / len(tokens_filtered),3)\n",
    "    \n",
    "    # give the sum of the frequency of each word\n",
    "    freq_sum = 0\n",
    "    for word in tokens_filtered:\n",
    "        for frq in rank_words:\n",
    "            if word == frq[1]:\n",
    "                freq_sum += frq[2]\n",
    "                \n",
    "    freq_text = round(freq_sum / len(tokens_filtered),3)\n",
    "    \n",
    "    # give the sum of the log frequency of each word\n",
    "    logfreq_sum = 0\n",
    "    for word in tokens_filtered:\n",
    "        for frq in rank_words:\n",
    "            if word == frq[1]:\n",
    "                logfreq_sum += math.log(frq[2])\n",
    "                \n",
    "    logfreq_text = round(logfreq_sum / len(tokens_filtered),3)\n",
    "    \n",
    "    return ranked_text, freq_text, logfreq_text"
   ]
  },
  {
   "cell_type": "markdown",
   "id": "a0e921d2",
   "metadata": {},
   "source": [
    "*whsw_100*"
   ]
  },
  {
   "cell_type": "code",
   "execution_count": 8,
   "id": "a633d426",
   "metadata": {},
   "outputs": [],
   "source": [
    "from cltk.lemmatize.lat import LatinBackoffLemmatizer\n",
    "import string\n",
    "import re\n",
    "import math\n",
    "from collections import Counter\n",
    "\n",
    "def count_grouprank_contentwords(sentence):\n",
    "    \n",
    "    # import Latin corpus\n",
    "    with open('basic_voces.txt', 'r') as f:\n",
    "        corpus = f.read()\n",
    "    \n",
    "    # Remove Arabic numerals from the text\n",
    "    corpus = re.sub(r'\\d+', '', corpus)\n",
    "    \n",
    "    # Remove punctuation marks from corpus\n",
    "    corpus = corpus.translate(str.maketrans('', '', string.punctuation))\n",
    "\n",
    "    # Split corpus into words and convert each word to lowercase\n",
    "    words_corpus = corpus.lower().split()\n",
    "\n",
    "    # Count the frequency of each word form\n",
    "    word_counts = Counter(words_corpus)\n",
    "\n",
    "    # Sort the dictionary by frequency and create a list of tuples\n",
    "    ranked_words = sorted(word_counts.items(), key=lambda x: x[1], reverse=True)\n",
    "\n",
    "    # Assign the same rank to words with the same frequency\n",
    "    rank_count = 0\n",
    "    prev_count = -1\n",
    "    rank_words = []\n",
    "    for rank, (word, count) in enumerate(ranked_words):\n",
    "        if count != prev_count:\n",
    "            rank_count += 1\n",
    "        rank_words.append((rank_count, word, count))\n",
    "        prev_count = count\n",
    "    \n",
    "    # Group the lemmas by frequency ranks\n",
    "    freq_groups = {}\n",
    "    for rank, word, count in rank_words:\n",
    "        group = math.ceil(rank / 100)\n",
    "        if group not in freq_groups:\n",
    "            freq_groups[group] = []\n",
    "        freq_groups[group].append((word, group))\n",
    "\n",
    "    # Flatten the list of grouped words, iterating over each group in the freq_groups, then over each word in the group\n",
    "    grouped_words = [word for group in freq_groups.values() for word in group]\n",
    "    \n",
    "    # Remove punctuation marks from sentence\n",
    "    sentence = sentence.translate(str.maketrans('', '', string.punctuation))\n",
    "\n",
    "    # Split sentence into words\n",
    "    words = sentence.split()\n",
    "    \n",
    "    # Initialize the lemmatizer\n",
    "    lemmatizer = LatinBackoffLemmatizer()\n",
    "    \n",
    "    # Lemmatize the words\n",
    "    lemmas = lemmatizer.lemmatize(words)\n",
    "    \n",
    "    # the LatinBackoffLemmatizer gives us a tuple of the token and the lemma. Because we only need the lemma, we cut out the token.\n",
    "    # and we cut out the numerals 1 to 4, which may stand after a lemma.\n",
    "    # Create a list of (token, lemma) pairs\n",
    "    token_lemma_pairs = [(word, lemma[1].rstrip('1234')) for word, lemma in zip(words, lemmas)]\n",
    "\n",
    "    # Remove Latin stop words from the list of lemmas\n",
    "    stops_obj = Stops(iso_code=\"lat\")\n",
    "    filtered_lemmas = stops_obj.remove_stopwords(tokens=[lemma[1].rstrip('1234') for lemma in lemmas])\n",
    "\n",
    "    # Create a list of tokens from the list of (token, lemma) pairs, excluding stop words\n",
    "    tokens_filtered = [pair[0] for pair in token_lemma_pairs if pair[1] in filtered_lemmas]\n",
    "    \n",
    "    # give the sum of the group of each word\n",
    "    group_sum = 0\n",
    "    for word in tokens_filtered:\n",
    "        for group in grouped_words:\n",
    "            if word == group[0]:\n",
    "                group_sum += group[1]\n",
    "                \n",
    "    groupfreq_text = round(group_sum / len(tokens_filtered),3)\n",
    "    \n",
    "    return groupfreq_text"
   ]
  },
  {
   "cell_type": "markdown",
   "id": "7af40b23",
   "metadata": {},
   "source": [
    "*rr_10, rr_25, rr_50, rr_75*"
   ]
  },
  {
   "cell_type": "code",
   "execution_count": 9,
   "id": "11ebbe8c",
   "metadata": {},
   "outputs": [],
   "source": [
    "from cltk.lemmatize.lat import LatinBackoffLemmatizer\n",
    "import string\n",
    "import re\n",
    "import math\n",
    "from collections import Counter\n",
    "\n",
    "def rare_words(sentence):\n",
    "    \n",
    "    # Initialize the lemmatizer\n",
    "    lemmatizer = LatinBackoffLemmatizer()\n",
    "    \n",
    "    # import Latin corpus\n",
    "    with open('basic_voces.txt', 'r') as f:\n",
    "        corpus = f.read()\n",
    "    \n",
    "    # Remove Arabic numerals from the text\n",
    "    corpus = re.sub(r'\\d+', '', corpus)\n",
    "    \n",
    "    # Remove punctuation marks from corpus\n",
    "    corpus = corpus.translate(str.maketrans('', '', string.punctuation))\n",
    "\n",
    "    # Split corpus into words and convert each word to lowercase\n",
    "    words_corpus = corpus.lower().split()\n",
    "\n",
    "    # Lemmatize the words and extract the lemmas\n",
    "    lemmas_corpus = [re.sub(r'[1-4]$', '', lemma[1]) for lemma in lemmatizer.lemmatize(words_corpus)]\n",
    "\n",
    "    # Count the frequency of each lemma\n",
    "    lemma_counts = Counter(lemmas_corpus)\n",
    "\n",
    "    # Sort the dictionary by frequency and create a list of tuples\n",
    "    ranked_lemmas = sorted(lemma_counts.items(), key=lambda x: x[1], reverse=True)\n",
    "\n",
    "    # Assign the same rank to lemmas with the same frequency\n",
    "    rank_count = 0\n",
    "    prev_count = -1\n",
    "    ranked_lemmata = []\n",
    "    for rank, (lemma, count) in enumerate(ranked_lemmas):\n",
    "        if count != prev_count:\n",
    "            rank_count += 1\n",
    "        ranked_lemmata.append((rank_count, lemma, count))\n",
    "        prev_count = count\n",
    "    \n",
    "    # Lemmatize the Latin sentence\n",
    "    # Remove punctuation marks from sentence\n",
    "    sentence = sentence.translate(str.maketrans('', '', string.punctuation))\n",
    "\n",
    "    # Split sentence into words\n",
    "    words = sentence.split()\n",
    "\n",
    "    # Lemmatize the words\n",
    "    lemmas = lemmatizer.lemmatize(words)\n",
    "    \n",
    "    # the LatinBackoffLemmatizer gives us a tuple of the token and the lemma. Because we only need the lemma, we cut out the token.\n",
    "    # and we cut out the numerals 1 to 4, which may stand after a lemma.\n",
    "    lemmata = [re.sub(r'[1-4]$', '', lemma[1]) for lemma in lemmas]\n",
    "    \n",
    "    # give the number of words not in list of 100 most frequent words\n",
    "    rank_sum_100 = 0\n",
    "    for lemma in lemmata:\n",
    "        for freq in ranked_lemmata:\n",
    "            if lemma == freq[1]:\n",
    "                if freq[0] >= 100:\n",
    "                    rank_sum_100 += 1\n",
    "                \n",
    "    ranked_text_100 = round(rank_sum_100 / len(words),3)\n",
    "    \n",
    "    # give the number of words not in list of 250 most frequent words\n",
    "    rank_sum_250 = 0\n",
    "    for lemma in lemmata:\n",
    "        for freq in ranked_lemmata:\n",
    "            if lemma == freq[1]:\n",
    "                if freq[0] >= 250:\n",
    "                    rank_sum_250 += 1\n",
    "                \n",
    "    ranked_text_250 = round(rank_sum_250 / len(words),3)\n",
    "    \n",
    "    # give the number of words not in list of 500 most frequent words\n",
    "    rank_sum_500 = 0\n",
    "    for lemma in lemmata:\n",
    "        for freq in ranked_lemmata:\n",
    "            if lemma == freq[1]:\n",
    "                if freq[0] >= 500:\n",
    "                    rank_sum_500 += 1\n",
    "                \n",
    "    ranked_text_500 = round(rank_sum_500 / len(words),3)\n",
    "    \n",
    "    # give the number of words not in list of 750 most frequent words\n",
    "    rank_sum_750 = 0\n",
    "    for lemma in lemmata:\n",
    "        for freq in ranked_lemmata:\n",
    "            if lemma == freq[1]:\n",
    "                if freq[0] >= 750:\n",
    "                    rank_sum_750 += 1\n",
    "                \n",
    "    ranked_text_750 = round(rank_sum_750 / len(words),3)\n",
    "    \n",
    "    return ranked_text_100, ranked_text_250, ranked_text_500, ranked_text_750"
   ]
  },
  {
   "cell_type": "code",
   "execution_count": 10,
   "id": "6fa777ad",
   "metadata": {},
   "outputs": [
    {
     "name": "stdout",
     "output_type": "stream",
     "text": [
      "(266.123, 9728.097, 7.116, 1.489)\n",
      "3.25\n",
      "(398.503, 1693.128, 5.727)\n",
      "4.456\n",
      "(377.483, 3918.364, 5.389)\n",
      "4.229\n",
      "(520.174, 337.208, 3.746)\n",
      "5.51\n",
      "(0.487, 0.352, 0.263, 0.144)\n"
     ]
    }
   ],
   "source": [
    "sentence = \"Desine ergo philosophis pecunia interdicere: nemo sapientiam paupertate damnavit. Habebit philosophus amplas opes, sed nulli detractas nec alieno sanguine cruentas, sine cuiusquam iniuria partas, sine sordidis quaestibus, quarum tam honestus sit exitus quam introitus, quibus nemo ingemescat nisi malignus. In quantum vis, exaggera illas: honestae sunt, in quibus, cum multa sint, quae sua quisque dici velit, nihil est, quod quisquam suum possit dicere. Ille vero fortunae benignitatem a se non summovebit et patrimonio per honesta quaesito nec gloriabitur nec erubescet. Habebit tamen etiam, quo glorietur, si aperta domo et admissa in res suas civitate poterit dicere: quod quisque agnoverit, tollat. O magnum virum, o optime divitem, si post hanc vocem tantundem habuerit! Ita dico: si tuto et securus scrutationem populo praebuerit, si nihil quisquam apud illum invenerit, quod manus iniciat, audaciter et propalam erit dives. Sapiens nullum denarium intra limen suum admittet male intrantem; idem magnas opes, munus fortunae fructumque virtutis, non repudiabit nec excludet. Quid enim est, quare illis bono loco invideat? veniant, hospitentur. Nec iactabit illas nec abscondet, alterum infruniti animi est, alterum timidi et pusilli, velut magnum bonum intra sinum continentis, nec, ut dixi, eiciet illas e domo. Quid enim dicet? utrumne inutiles estis an ego uti divitiis nescio? Quemadmdum etiam pedibus suis poterit iter conficere, escendere tamen vehiculum malet, sic pauper poterit esse, dives volet. Habebit itaque opes, sed tamquam leves et avolaturas, nec ulli alii eas nec sibi graves esse patietur.\"\n",
    "print(count_rank(sentence))\n",
    "print(count_grouprank(sentence))\n",
    "print(count_content(sentence))\n",
    "print(count_content_group(sentence))\n",
    "print(count_words(sentence))\n",
    "print(count_grouprank_words(sentence))\n",
    "print(count_content_words(sentence))\n",
    "print(count_grouprank_contentwords(sentence))\n",
    "print(rare_words(sentence))"
   ]
  },
  {
   "cell_type": "code",
   "execution_count": 11,
   "id": "3b24fb85",
   "metadata": {},
   "outputs": [
    {
     "name": "stdout",
     "output_type": "stream",
     "text": [
      "(228.781, 10066.26, 7.372, 0.409)\n",
      "2.884\n",
      "(352.023, 1849.6, 6.008)\n",
      "3.992\n",
      "(354.456, 4114.549, 5.64)\n",
      "4.019\n",
      "(497.231, 347.454, 3.989)\n",
      "5.3\n",
      "(0.46, 0.316, 0.219, 0.093)\n"
     ]
    }
   ],
   "source": [
    "sentence = \"Desine ergo philosophis pecunia interdicere: nemo sapientiam paupertate damnavit. Habebit philosophus amplas opes, sed nulli detractas nec alieno sanguine cruentas, sine cuiusquam iniuria partas, sine sordidis quaestibus, quarum tam honestus sit exitus quam, quibus nemo ingemescat nisi. In quantum vis, illas: honestae sunt, in quibus, cum multa sint, quae sua quisque dici velit, quisquam suum possit dicere. Ille vero fortunae benignitatem a se non summovebit et patrimonio per honesta quaesito nec gloriabitur nec. Habebit tamen etiam, quo glorietur, si aperta domo et admissa in res suas civitate poterit dicere: quod quisque agnoverit, tollat. O magnum virum, o optime divitem, si post hanc vocem habuerit! Ita dico: si tuto et populo praebuerit, si nihil quisquam apud illum invenerit, quod audaciter et propalam erit dives. Sapiens nullum intra limen suum admittet male intrantem; idem magnas opes, munus fortunae fructumque virtutis, non repudiabit nec excludet. Quid enim est, quare illis bono loco invideat? veniant. Nec illas nec, alterum animi est, alterum timidi et, velut magnum bonum intra sinum continentis, nec, ut dixi, eiciet illas e domo. Quid enim dicet? utrumne inutiles estis an ego uti divitiis nescio? Quemadmdum etiam pedibus suis poterit iter conficere, tamen malet, sic pauper poterit esse, dives volet. Habebit itaque opes, sed tamquam leves et, nec ulli alii eas nec sibi graves esse patietur.\"\n",
    "print(count_rank(sentence))\n",
    "print(count_grouprank(sentence))\n",
    "print(count_content(sentence))\n",
    "print(count_content_group(sentence))\n",
    "print(count_words(sentence))\n",
    "print(count_grouprank_words(sentence))\n",
    "print(count_content_words(sentence))\n",
    "print(count_grouprank_contentwords(sentence))\n",
    "print(rare_words(sentence))"
   ]
  },
  {
   "cell_type": "code",
   "execution_count": 11,
   "id": "c146412d",
   "metadata": {},
   "outputs": [
    {
     "name": "stdout",
     "output_type": "stream",
     "text": [
      "(301.228, 8324.28, 6.779, 1.228)\n",
      "3.56\n",
      "(453.26, 1169.024, 5.263)\n",
      "4.959\n",
      "(354.316, 3722.984, 5.131)\n",
      "3.974\n",
      "(500.878, 260.171, 3.285)\n",
      "5.309\n",
      "(0.523, 0.389, 0.295, 0.181)\n"
     ]
    }
   ],
   "source": [
    "sentence = \"Nunc experiar, sitne aceto tibi cor acre in pectore. sequere! Quo sequar? quo ducis nunc me? Ad illam, quae tuom perdidit, pessum dedit tibi filium unice unicum. Heia, Lyde, leniter qui saeviunt, sapiunt magis. minus mirandumst, illaec aetas si quid illorum facit, quam si non faciat. feci ego istaec itidem in adulescentia. dum caveatur, praeter aequom ne quid delinquat, sine! Non sino neque equidem illum me vivo corrumpi sinam. sed tu, qui pro tam corrupto dicis causam filio, eademne erat haec disciplina tibi, cum tu adulescens eras? ante solem exorientem nisi in palaestram veneras, gymnasi praefecto haud mediocris poenas penderes. ibi cursu, luctando, hasta, disco, pugilatu, pila, saliendo sese exercebant magis quam scorto aut saviis: ibi suam aetatem extendebant, non in latebrosis locis. inde de hippodromo et palaestra ubi revenisses domum, cincticulo praecinctus in sella apud magistrum adsideres cum libro: cum legeres, si unam peccavisses syllabam, fieret corium tam maculosum, quam est nutricis pallium. Alii, Lyde, nunc sunt mores. Id equidem ego certo scio. nam olim populi prius honorem capiebat suffragio, quam magistro desinebat esse dicto oboediens; at nunc, prius quam septuennis est, si attingas eum manu, extemplo puer paedagogo tabula disrumpit caput!\"\n",
    "print(count_rank(sentence))\n",
    "print(count_grouprank(sentence))\n",
    "print(count_content(sentence))\n",
    "print(count_content_group(sentence))\n",
    "print(count_words(sentence))\n",
    "print(count_grouprank_words(sentence))\n",
    "print(count_content_words(sentence))\n",
    "print(count_grouprank_contentwords(sentence))\n",
    "print(rare_words(sentence))"
   ]
  },
  {
   "cell_type": "code",
   "execution_count": 12,
   "id": "a5b31ad8",
   "metadata": {},
   "outputs": [
    {
     "name": "stdout",
     "output_type": "stream",
     "text": [
      "(228.616, 9725.36, 7.335, 0.549)\n",
      "2.848\n",
      "(373.479, 1405.989, 5.764)\n",
      "4.149\n",
      "(319.671, 4367.049, 5.672)\n",
      "3.671\n",
      "(485.649, 315.543, 3.66)\n",
      "5.191\n",
      "(0.47, 0.311, 0.213, 0.091)\n"
     ]
    }
   ],
   "source": [
    "sentence = \"Nunc experiar, sitne tibi cor acre in pectore. sequere! Quo sequar? quo ducis nunc me? Ad illam, quae tuom perdidit, tibi filium unice unicum. Heia, Lyde, leniter qui saeviunt, sapiunt magis. minus mirandumst, aetas si quid illorum facit, quam si non faciat. feci ego istaec in adulescentia. dum caveatur, praeter aequom ne quid sine. Non sino neque equidem illum me vivo corrumpi sinam. sed tu, qui pro tam corrupto dicis causam filio, eademne erat haec disciplina tibi, cum tu adulescens eras? ante solem nisi in veneras, haud mediocris poenas penderes. ibi cursu, luctando, saliendo sese exercebant magis quam aut: ibi suam aetatem extendebant, non in locis. inde de et ubi revenisses domum, in apud magistrum adsideres cum libro: cum legeres, si unam peccavisses fieret tam quam est nutricis Alii, Lyde, nunc sunt mores. Id equidem ego certo scio. nam olim prius honorem capiebat quam magistro desinebat esse dicto oboediens; at nunc, prius quam septuennis est, si attingas eum manu, extemplo puer paedagogo tabula caput!\"\n",
    "print(count_rank(sentence))\n",
    "print(count_grouprank(sentence))\n",
    "print(count_content(sentence))\n",
    "print(count_content_group(sentence))\n",
    "print(count_words(sentence))\n",
    "print(count_grouprank_words(sentence))\n",
    "print(count_content_words(sentence))\n",
    "print(count_grouprank_contentwords(sentence))\n",
    "print(rare_words(sentence))"
   ]
  },
  {
   "cell_type": "code",
   "execution_count": 13,
   "id": "c6a7da8e",
   "metadata": {},
   "outputs": [
    {
     "name": "stdout",
     "output_type": "stream",
     "text": [
      "(230.51, 10379.409, 7.104, 0.424)\n",
      "2.861\n",
      "(345.564, 1533.226, 5.631)\n",
      "3.872\n",
      "(330.861, 3797.966, 5.446)\n",
      "3.75\n",
      "(479.098, 300.586, 3.71)\n",
      "5.098\n",
      "(0.452, 0.317, 0.212, 0.096)\n"
     ]
    }
   ],
   "source": [
    "sentence = \"Senatus consultis perfectis, L. Aemilius consul e curia in contionem processit orationemque talem habuit: „animadvertisse videor, Quirites, maiorem mihi sortito Macedoniam provinciam gratulationem factam quam cum aut conpulsus consulatus, aut quo die magistratum inii, neque id ob aliam causam, quam quia bello in Macedonia, quod diu trahitur, existimastis dignum maiestate populi Romani exitum per me imponi posse. Deos quoque huic favisse sorti spero eosdemque in rebus gerendis adfuturos esse. Haec partim ominari, partim sperare possum; illud adfirmare pro certo audeo me omni ope adnisurum esse, ne frustra vos hanc spem de me conceperitis. Quae ad bellum opus sunt, et senatus decrevit et, quoniam extemplo proficisci placet neque ego in mora sum, C. Licinius collega, vir egregius, aeque enixe parabit, ac si ipse id bellum gesturus esset; vos, quae scripsero senatui ac vobis rumores credulitate vestra alatis, quorum auctor nemo exstabit. Nam nunc quidem, quod volgo fieri, hoc praecipue bello, animadverti, nemo tam famae contemptor est, cuius non debilitari animus possit. In omnibus circulis atque etiam, si dis placet, in conviviis sunt, qui exercitus in Macedoniam ducant, ubi castra locanda sint, sciant, quae loca praesidiis occupanda, quando aut quo saltu intranda Macedonia, ubi horrea ponenda, qua terra mari subvehendi commeatus, quando cum hoste manus conserendae, quando quiesse sit melius.\"\n",
    "print(count_rank(sentence))\n",
    "print(count_grouprank(sentence))\n",
    "print(count_content(sentence))\n",
    "print(count_content_group(sentence))\n",
    "print(count_words(sentence))\n",
    "print(count_grouprank_words(sentence))\n",
    "print(count_content_words(sentence))\n",
    "print(count_grouprank_contentwords(sentence))\n",
    "print(rare_words(sentence))"
   ]
  },
  {
   "cell_type": "code",
   "execution_count": 14,
   "id": "2e732f5b",
   "metadata": {},
   "outputs": [
    {
     "name": "stdout",
     "output_type": "stream",
     "text": [
      "(211.86, 10782.05, 7.254, 0.25)\n",
      "2.675\n",
      "(323.088, 1611.296, 5.776)\n",
      "3.64\n",
      "(319.245, 3945.71, 5.58)\n",
      "3.645\n",
      "(470.0, 313.144, 3.814)\n",
      "5.016\n",
      "(0.435, 0.3, 0.19, 0.07)\n"
     ]
    }
   ],
   "source": [
    "sentence = \"Senatus consultis perfectis, L. Aemilius consul e curia in contionem processit orationemque talem habuit: „animadvertisse videor, Quirites, maiorem mihi sortito Macedoniam provinciam gratulationem factam quam cum aut conpulsus consulatus, aut quo die magistratum inii, neque id ob aliam causam, quam quia bello in Macedonia, quod diu trahitur, existimastis dignum maiestate populi Romani exitum per me imponi posse. Deos quoque huic favisse sorti spero eosdemque in rebus gerendis adfuturos esse. Haec partim, partim sperare possum; illud adfirmare pro certo audeo me omni ope adnisurum esse, ne frustra vos hanc spem de me conceperitis. Quae ad bellum opus sunt, et senatus decrevit et, quoniam extemplo proficisci placet neque ego in mora sum, C. Licinius collega, vir egregius, aeque parabit, ac si ipse id bellum gesturus esset; vos, quae scripsero senatui ac vobis rumores vestra alatis, quorum auctor nemo exstabit. Nam nunc quidem, quod volgo fieri, hoc praecipue bello, animadverti, nemo tam famae contemptor est, cuius non animus possit. In omnibus atque etiam, si dis placet, in conviviis sunt, qui exercitus in Macedoniam ducant, ubi castra locanda sint, sciant, quae loca praesidiis occupanda, quando aut quo saltu intranda Macedonia, ubi horrea ponenda, qua terra mari commeatus, quando cum hoste, quando quiesse sit melius.\"\n",
    "print(count_rank(sentence))\n",
    "print(count_grouprank(sentence))\n",
    "print(count_content(sentence))\n",
    "print(count_content_group(sentence))\n",
    "print(count_words(sentence))\n",
    "print(count_grouprank_words(sentence))\n",
    "print(count_content_words(sentence))\n",
    "print(count_grouprank_contentwords(sentence))\n",
    "print(rare_words(sentence))"
   ]
  },
  {
   "cell_type": "code",
   "execution_count": 15,
   "id": "23e6bf4b",
   "metadata": {},
   "outputs": [
    {
     "name": "stdout",
     "output_type": "stream",
     "text": [
      "(269.618, 9221.048, 6.902, 0.502)\n",
      "3.28\n",
      "(385.764, 1529.591, 5.57)\n",
      "4.331\n",
      "(377.124, 4186.855, 5.475)\n",
      "4.237\n",
      "(524.094, 241.677, 3.947)\n",
      "5.591\n",
      "(0.495, 0.382, 0.258, 0.151)\n"
     ]
    }
   ],
   "source": [
    "sentence = \"Micipsa filius regnum solus obtinuit Mastanabale et Gulussa fratribus morbo absumptis. Is Adherbalem et Hiempsalem ex sese genuit Iugurthamque filium Mastanabalis fratris, quem Massinissa, quod ortus ex concubina erat, privatum dereliquerat, eodem cultu, quo liberos suos, domi habuit. Qui ubi primum adolevit, pollens viribus, decora facie, sed multo maxime ingenio validus, non se luxu neque inertiae corrumpendum dedit, sed, uti mos gentis illius est, equitare, iaculari; cursu cum aequalibus certare et, cum omnis gloria anteiret, omnibus tamen carus esse; ad hoc pleraque tempora in venando agere, leonem atque alias feras primus aut in primis ferire: plurimum facere, minimum ipse de se loqui. Quibus rebus Micipsa tametsi initio laetus fuerat, existimans virtutem Iugurthae regno suo gloriae fore, tamen, postquam hominem adulescentem exacta sua aetate et parvis liberis magis magisque crescere intellegit, vehementer eo negotio permotus multa cum animo suo volvebat: Terrebat eum natura mortalium avida imperi et praeceps ad explendam animi cupidinem, praeterea opportunitas suae liberorumque aetatis, quae etiam mediocris viros spe praedae transversos agit, ad hoc studia Numidarum in Iugurtham accensa, ex quibus, si talem virum dolis interfecisset, ne qua seditio aut bellum oriretur, anxius erat.\"\n",
    "print(count_rank(sentence))\n",
    "print(count_grouprank(sentence))\n",
    "print(count_content(sentence))\n",
    "print(count_content_group(sentence))\n",
    "print(count_words(sentence))\n",
    "print(count_grouprank_words(sentence))\n",
    "print(count_content_words(sentence))\n",
    "print(count_grouprank_contentwords(sentence))\n",
    "print(rare_words(sentence))"
   ]
  },
  {
   "cell_type": "code",
   "execution_count": 16,
   "id": "bb7e751d",
   "metadata": {},
   "outputs": [
    {
     "name": "stdout",
     "output_type": "stream",
     "text": [
      "(243.102, 9721.074, 7.098, 0.241)\n",
      "3.023\n",
      "(355.803, 1624.376, 5.75)\n",
      "4.034\n",
      "(359.057, 4423.483, 5.667)\n",
      "4.074\n",
      "(509.479, 260.436, 4.105)\n",
      "5.462\n",
      "(0.477, 0.358, 0.227, 0.114)\n"
     ]
    }
   ],
   "source": [
    "sentence = \"Micipsa filius regnum solus obtinuit Mastanabale et Gulussa fratribus morbo absumptis. Is Adherbalem et Hiempsalem ex sese genuit Iugurthamque filium Mastanabalis fratris, quem Massinissa, quod ortus ex erat, privatum dereliquerat, eodem cultu, quo liberos suos, domi habuit. Qui ubi primum viribus, decora facie, sed multo maxime ingenio validus, non se neque inertiae corrumpendum dedit, sed, uti mos gentis illius est, cursu cum aequalibus certare et, cum omnis gloria anteiret, omnibus tamen carus esse; ad hoc pleraque tempora in agere, leonem atque alias feras primus aut in primis ferire: plurimum facere, minimum ipse de se loqui. Quibus rebus Micipsa tametsi initio laetus fuerat, existimans virtutem Iugurthae regno suo gloriae fore, tamen, postquam hominem adulescentem exacta sua aetate et parvis liberis magis magisque crescere intellegit, vehementer eo negotio permotus multa cum animo suo volvebat: Terrebat eum natura mortalium avida imperi et praeceps ad explendam animi cupidinem, praeterea opportunitas suae liberorumque aetatis, quae etiam mediocris viros spe praedae, ad hoc studia in Iugurtham accensa, ex quibus, si talem virum dolis interfecisset, ne qua seditio aut bellum oriretur, anxius erat.\"\n",
    "print(count_rank(sentence))\n",
    "print(count_grouprank(sentence))\n",
    "print(count_content(sentence))\n",
    "print(count_content_group(sentence))\n",
    "print(count_words(sentence))\n",
    "print(count_grouprank_words(sentence))\n",
    "print(count_content_words(sentence))\n",
    "print(count_grouprank_contentwords(sentence))\n",
    "print(rare_words(sentence))"
   ]
  },
  {
   "cell_type": "code",
   "execution_count": 17,
   "id": "9453ff81",
   "metadata": {},
   "outputs": [
    {
     "name": "stdout",
     "output_type": "stream",
     "text": [
      "(329.534, 9571.988, 6.644, 1.106)\n",
      "3.888\n",
      "(491.89, 1027.982, 5.004)\n",
      "5.378\n",
      "(359.1, 5269.299, 5.161)\n",
      "4.024\n",
      "(528.384, 210.652, 3.107)\n",
      "5.555\n",
      "(0.514, 0.422, 0.335, 0.239)\n"
     ]
    }
   ],
   "source": [
    "sentence = \"Dixi de quodam oratore saeculi nostri recto quidem et sano, sed parum grandi et ornato, ut opinor, apte: Nihil peccat, nisi quod nihil peccat. Debet enim orator erigi, attolli, interdum etiam effervescere, ecferri, ac saepe accedere ad praeceps; nam plerumque altis et excelsis adiacent abrupta. Tutius per plana, sed humilius et depressius iter; frequentior currentibus quam reptantibus lapsus, sed his non labentibus nulla, illis non nulla laus, etiamsi labantur. Nam ut quasdam artes, ita eloquentiam nihil magis quam ancipitia commendant. Vides qui per funem in summa nituntur, quantos soleant excitare clamores, cum iamiamque casuri videntur. Sunt enim maxime mirabilia, quae maxime insperata, maxime periculosa utque Graeci magis exprimunt. Ideo nequaquam par gubernatoris est virtus, cum placido et cum turbato mari vehitur: tunc admirante nullo inlaudatus, inglorius subit portum, at cum stridunt funes, curvatur arbor, gubernacula gemunt, tunc ille clarus et dis maris proximus. Cur haec? Quia visus es mihi in scriptis meis adnotasse quaedam ut tumida, quae ego sublimia, ut improba, quae ego audentia, ut nimia, quae ego plena arbitrabar. Plurimum autem refert, reprehendenda adnotes an insignia. Omnis enim advertit, quod eminet et exstat; sed acri intentione diiudicandum est, immodicum sit an grande, altum an enorme. Atque ut Homerum potissimum attingam: Quem tandem alterutram in partem potest fugere et totum illud. Sed opus est examine et libra, incredibilia sint haec et inania an magnifica, caelestia. Nec nunc ego me his similia aut dixisse aut posse dicere puto, sed hoc intellegi volo, laxandos esse eloquentiae frenos, nec angustissimo gyro ingeniorum impetus refringendos.\"\n",
    "print(count_rank(sentence))\n",
    "print(count_grouprank(sentence))\n",
    "print(count_content(sentence))\n",
    "print(count_content_group(sentence))\n",
    "print(count_words(sentence))\n",
    "print(count_grouprank_words(sentence))\n",
    "print(count_content_words(sentence))\n",
    "print(count_grouprank_contentwords(sentence))\n",
    "print(rare_words(sentence))"
   ]
  },
  {
   "cell_type": "code",
   "execution_count": 18,
   "id": "f9d43cd6",
   "metadata": {},
   "outputs": [
    {
     "name": "stdout",
     "output_type": "stream",
     "text": [
      "(280.148, 10437.326, 6.936, 0.593)\n",
      "3.396\n",
      "(436.301, 1165.07, 5.232)\n",
      "4.804\n",
      "(344.152, 5749.63, 5.52)\n",
      "3.904\n",
      "(529.203, 240.336, 3.383)\n",
      "5.587\n",
      "(0.47, 0.37, 0.278, 0.174)\n"
     ]
    }
   ],
   "source": [
    "sentence = \"Dixi de quodam oratore saeculi nostri recto quidem et sano, sed parum grandi et, ut opinor, apte: Nihil peccat, nisi quod nihil peccat. Debet enim orator erigi, attolli, interdum etiam, efferri, ac saepe accedere ad praeceps; nam plerumque altis et excelsis adiacent. Tutius per plana, sed humilius et iter; frequentior currentibus quam lapsus, sed his non labentibus nulla, illis non nulla laus, etiamsi labantur. Nam ut quasdam artes, ita eloquentiam nihil magis quam ancipitia. Vides qui per funem in summa nituntur, quantos soleant excitare clamores, cum casuri videntur. Sunt enim maxime mirabilia, quae maxime, maxime periculosa utque Graeci magis exprimunt. Ideo par gubernatoris est virtus, cum placido et cum turbato mari vehitur: tunc admirante nullo inlaudatus, inglorius subit portum, at cum funes, curvatur arbor, gemunt, tunc ille clarus et dis maris proximus. Cur haec? Quia visus es mihi in scriptis meis quaedam ut tumida, quae ego sublimia, ut improba, quae ego, ut nimia, quae ego plena arbitrabar. Plurimum autem refert, reprehendenda adnotes an insignia. Omnis enim, quod et exstat; sed acri diiudicandum est, sit an grande, altum an. Atque ut Homerum potissimum attingam: Quem tandem alterutram in partem potest fugere et totum illud. Sed opus est examine et libra, incredibilia sint haec et inania an magnifica, caelestia. Nec nunc ego me his similia aut dixisse aut posse dicere puto, sed hoc intellegi volo, esse eloquentiae frenos, nec angustissimo ingeniorum impetus.\"\n",
    "print(count_rank(sentence))\n",
    "print(count_grouprank(sentence))\n",
    "print(count_content(sentence))\n",
    "print(count_content_group(sentence))\n",
    "print(count_words(sentence))\n",
    "print(count_grouprank_words(sentence))\n",
    "print(count_content_words(sentence))\n",
    "print(count_grouprank_contentwords(sentence))\n",
    "print(rare_words(sentence))"
   ]
  },
  {
   "cell_type": "code",
   "execution_count": 19,
   "id": "03914bb6",
   "metadata": {},
   "outputs": [
    {
     "name": "stdout",
     "output_type": "stream",
     "text": [
      "(348.522, 5776.597, 6.105, 1.541)\n",
      "3.989\n",
      "(427.685, 1117.664, 5.234)\n",
      "4.711\n",
      "(445.823, 2532.258, 4.614)\n",
      "4.844\n",
      "(534.43, 206.396, 3.644)\n",
      "5.658\n",
      "(0.618, 0.478, 0.333, 0.204)\n"
     ]
    }
   ],
   "source": [
    "sentence = \"Aulus milites mense Ianuario ex hibernis in expeditionem evocat, magnisque itineribus hieme aspera pervenit ad oppidum Suthul, ubi regis thesauri erant. Quod quamquam et saevitia temporis et opportunitate loci neque capi neque obsideri poterat, tamen cupidine caecus ob thesauros oppidi potiendi vineas agere, aggerem iacere aliaque, quae incepto usui forent, properare. At Iugurtha cognita vanitate atque imperitia legati subdole eius augere amentiam, missitare supplicantis legatos, ipse quasi vitabundus per saltuosa loca et tramites exercitum ductare. Denique Aulum perpulit, uti relicto Suthule in abditas regiones sese veluti cedentem insequeretur. Interea per homines callidos diu noctuque exercitum temptabat, centuriones ducesque turmarum, partim uti transfugerent, corrumpere, alii signo dato locum uti desererent. Quae postquam ex sententia instruit, intempesta nocte de improviso multitudine Numidarum Auli castra circumvenit. Milites Romani, perculsi tumultu insolito, arma capere alii, alii se abdere, pars territos confirmare, trepidare omnibus locis. Vis magna hostium, caelum nocte atque nubibus obscuratum, periculum anceps; postremo fugere an manere tutius foret, in incerto erat. Sed ex eo numero, quos paulo ante corruptos diximus, cohors una Ligurum cum paucis militibus transiere ad regem. Nostri foeda fuga, plerique abiectis armis, proximum collem occupaverunt.\"\n",
    "print(count_rank(sentence))\n",
    "print(count_grouprank(sentence))\n",
    "print(count_content(sentence))\n",
    "print(count_content_group(sentence))\n",
    "print(count_words(sentence))\n",
    "print(count_grouprank_words(sentence))\n",
    "print(count_content_words(sentence))\n",
    "print(count_grouprank_contentwords(sentence))\n",
    "print(rare_words(sentence))"
   ]
  },
  {
   "cell_type": "code",
   "execution_count": 20,
   "id": "2b904f1a",
   "metadata": {},
   "outputs": [
    {
     "name": "stdout",
     "output_type": "stream",
     "text": [
      "(302.414, 6354.521, 6.452, 0.391)\n",
      "3.538\n",
      "(378.848, 1257.568, 5.566)\n",
      "4.227\n",
      "(420.929, 2785.982, 4.915)\n",
      "4.621\n",
      "(513.97, 231.697, 3.904)\n",
      "5.477\n",
      "(0.592, 0.438, 0.278, 0.136)\n"
     ]
    }
   ],
   "source": [
    "sentence = \"Aulus milites mense Ianuario ex hibernis in expeditionem evocat, magnisque itineribus hieme aspera pervenit ad oppidum Suthul, ubi regis erant. Quod quamquam et saevitia temporis et opportunitate loci neque capi neque obsideri poterat, tamen cupidine caecus ob thesauros oppidi potiendi vineas agere, aggerem iacere aliaque, quae usui forent, properare. At Iugurtha cognita atque legati subdole eius augere legatos, ipse quasi per loca et exercitum. Denique Aulum uti relicto Suthule in abditas regiones sese veluti cedentem insequeretur. Interea per homines callidos diu noctuque exercitum temptabat, centuriones ducesque turmarum, partim uti transfugerent, corrumpere, alii signo dato locum uti desererent. Quae postquam ex sententia instruit, nocte de improviso multitudine Auli castra circumvenit. Milites Romani, perculsi tumultu arma capere alii, alii se abdere, pars territos confirmare, trepidare omnibus locis. Vis magna hostium, caelum nocte atque nubibus periculum anceps; postremo fugere an manere tutius foret, in incerto erat. Sed ex eo numero, quos paulo ante corruptos diximus, cohors una cum paucis militibus transiere ad regem. Nostri foeda fuga, plerique abiectis armis, proximum collem occupaverunt.\"\n",
    "print(count_rank(sentence))\n",
    "print(count_grouprank(sentence))\n",
    "print(count_content(sentence))\n",
    "print(count_content_group(sentence))\n",
    "print(count_words(sentence))\n",
    "print(count_grouprank_words(sentence))\n",
    "print(count_content_words(sentence))\n",
    "print(count_grouprank_contentwords(sentence))\n",
    "print(rare_words(sentence))"
   ]
  },
  {
   "cell_type": "code",
   "execution_count": 21,
   "id": "83a1e6df",
   "metadata": {},
   "outputs": [
    {
     "name": "stdout",
     "output_type": "stream",
     "text": [
      "(208.402, 9105.238, 7.126, 0.396)\n",
      "2.646\n",
      "(301.206, 1612.04, 5.838)\n",
      "3.444\n",
      "(365.397, 3696.085, 5.324)\n",
      "4.116\n",
      "(499.444, 287.246, 3.787)\n",
      "5.357\n",
      "(0.466, 0.296, 0.185, 0.053)\n"
     ]
    }
   ],
   "source": [
    "sentence = \"Consedere duces et vulgi stante corona surgit ad hos clipei dominus septemplicis Aiax intendensque manus agimus, pro Iuppiter! inquit ante rates causam, et mecum confertur Ulixes! at non Hectoreis dubitavit cedere flammis, quas ego sustinui, quas hac a classe fugavi. tutius est igitur fictis contendere verbis, quam pugnare manu, sed nec mihi dicere promptum nec facere est isti: quantumque ego Marte feroci inque acie valeo, tantum valet iste loquendo. nec memoranda tamen vobis mea facta, Pelasgi, esse reor: vidistis enim; sua narret Ulixes, quae sine teste gerit, quorum nox conscia sola est! Hector adest secumque deos in proelia ducit, quaque ruit, non tu tantum terreris, Ulixe, sed fortes etiam: tantum trahit ille timoris. hunc ego poscentem, cum quo concurreret, unus sustinui: sortemque meam vovistis, Achivi, et vestrae valuere preces. si quaeritis huius fortunam pugnae, non sum superatus ab illo. ecce ferunt Troes ferrumque ignesque Iovemque in Danaas classes: ubi nunc facundus Ulixes? nempe ego mille meo protexi pectore puppes, spem vestri reditus: date pro tot navibus arma! Quodsi vera licet mihi dicere, quaeritur istis quam mihi maior honos, coniunctaque gloria nostra est, atque Aiax armis, non Aiaci arma petuntur.\"\n",
    "print(count_rank(sentence))\n",
    "print(count_grouprank(sentence))\n",
    "print(count_content(sentence))\n",
    "print(count_content_group(sentence))\n",
    "print(count_words(sentence))\n",
    "print(count_grouprank_words(sentence))\n",
    "print(count_content_words(sentence))\n",
    "print(count_grouprank_contentwords(sentence))\n",
    "print(rare_words(sentence))"
   ]
  },
  {
   "cell_type": "code",
   "execution_count": 22,
   "id": "96213d80",
   "metadata": {},
   "outputs": [
    {
     "name": "stdout",
     "output_type": "stream",
     "text": [
      "(196.828, 9490.218, 7.494, 0.105)\n",
      "2.552\n",
      "(291.204, 1791.708, 6.298)\n",
      "3.363\n",
      "(369.483, 3876.879, 5.613)\n",
      "4.184\n",
      "(515.345, 319.531, 4.119)\n",
      "5.549\n",
      "(0.471, 0.287, 0.167, 0.029)\n"
     ]
    }
   ],
   "source": [
    "sentence = \"Consedere duces et vulgi stante corona surgit ad hos dominus Aiax intendensque manus agimus, Iuppiter! inquit ante rates causam, et mecum confertur Ulixes! at non dubitavit cedere flammis, quas ego sustinui, quas hac a classe fugavi. tutius est igitur fictis contendere verbis, quam pugnare manu, sed nec mihi dicere  nec facere isti: quantumque ego feroci inque acie valeo, tantum valet iste loquendo. nec memoranda tamen vobis mea facta, esse reor: vidistis enim; sua narret Ulixes, quae sine teste gerit, quorum nox conscia sola est! Hector adest secumque deos in proelia ducit, quaque ruit, non tu tantum terreris, Ulixe, sed fortes etiam: tantum trahit ille timoris. hunc ego poscentem, cum quo concurreret, unus sustinui: sortemque meam et vestrae valuere preces. si quaeritis huius fortunam pugnae, non sum superatus ab illo. ecce ferunt ferrumque ignesque in classes: ubi nunc Ulixes? nempe ego mille meo protexi pectore spem vestri reditus: date pro tot navibus arma! Quodsi vera licet mihi dicere, quaeritur istis quam mihi maior honos, coniunctaque gloria nostra est, atque Aiax armis, non Aiaci arma petuntur.\"\n",
    "print(count_rank(sentence))\n",
    "print(count_grouprank(sentence))\n",
    "print(count_content(sentence))\n",
    "print(count_content_group(sentence))\n",
    "print(count_words(sentence))\n",
    "print(count_grouprank_words(sentence))\n",
    "print(count_content_words(sentence))\n",
    "print(count_grouprank_contentwords(sentence))\n",
    "print(rare_words(sentence))"
   ]
  },
  {
   "cell_type": "code",
   "execution_count": 23,
   "id": "9307c479",
   "metadata": {},
   "outputs": [
    {
     "name": "stdout",
     "output_type": "stream",
     "text": [
      "(361.946, 4338.509, 6.229, 1.096)\n",
      "4.126\n",
      "(436.306, 1059.294, 5.511)\n",
      "4.817\n",
      "(473.378, 2655.77, 4.602)\n",
      "5.144\n",
      "(567.017, 201.1, 3.667)\n",
      "6.022\n",
      "(0.676, 0.509, 0.356, 0.198)\n"
     ]
    }
   ],
   "source": [
    "sentence = \"maxime Teucrorum ductor, quo sospite numquam res equidem Troiae victas aut regna fatebor, nobis ad belli auxilium pro nomine tanto exiguae vires; hinc Tusco claudimur amni, hinc Rutulus premit et murum circumsonat armis. sed tibi ego ingentis populos opulentaque regnis iungere castra paro, quam fors inopina salutem ostentat: fatis huc te poscentibus adfers. haud procul hinc saxo incolitur fundata vetusto urbis Agyllinae sedes, ubi Lydia quondam gens, bello praeclara, iugis insedit Etruscis. hanc multos florentem annos rex deinde superbo imperio et saevis tenuit Mezentius armis. quid memorem infandas caedes, quid facta tyranni effera? di capiti ipsius generique reservent! mortua quin etiam iungebat corpora vivis componens manibusque manus atque oribus ora, tormenti genus, et sanie taboque fluentis complexu in misero longa sic morte necabat. at fessi tandem cives infanda furentem armati circumsistunt ipsumque domumque, obtruncant socios, ignem ad fastigia iactant. ille inter caedem Rutulorum elapsus in agros confugere et Turni defendier hospitis armis. ergo omnis furiis surrexit Etruria iustis, regem ad supplicium praesenti Marte reposcunt. his ego te, Aenea, ductorem milibus addam. toto namque fremunt condensae litore puppes signaque ferre iubent, retinet longaevus haruspex fata canens: o Maeoniae delecta iuventus, flos veterum virtusque virum, quos iustus in hostem fert dolor et merita accendit Mezentius ira, nulli fas Italo tantam subiungere gentem: externos optate duces. tum Etrusca resedit hoc acies campo monitis exterrita divum.\"\n",
    "print(count_rank(sentence))\n",
    "print(count_grouprank(sentence))\n",
    "print(count_content(sentence))\n",
    "print(count_content_group(sentence))\n",
    "print(count_words(sentence))\n",
    "print(count_grouprank_words(sentence))\n",
    "print(count_content_words(sentence))\n",
    "print(count_grouprank_contentwords(sentence))\n",
    "print(rare_words(sentence))"
   ]
  },
  {
   "cell_type": "code",
   "execution_count": 24,
   "id": "d9205b6d",
   "metadata": {},
   "outputs": [
    {
     "name": "stdout",
     "output_type": "stream",
     "text": [
      "(362.462, 4738.839, 6.67, 0.919)\n",
      "4.156\n",
      "(445.095, 1188.241, 5.989)\n",
      "4.93\n",
      "(485.452, 2928.824, 4.985)\n",
      "5.302\n",
      "(592.43, 227.146, 4.045)\n",
      "6.316\n",
      "(0.698, 0.518, 0.352, 0.186)\n"
     ]
    }
   ],
   "source": [
    "sentence = \"maxime ductor, quo sospite numquam res equidem Troiae victas aut regna fatebor, nobis ad belli auxilium pro nomine tanto exiguae vires; hinc claudimur amni, hinc premit et murum armis. sed tibi ego ingentis populos opulentaque regnis iungere castra paro, quam fors salutem ostentat: fatis huc poscentibus. haud procul hinc saxo incolitur fundata vetusto urbis sedes, ubi quondam gens, bello praeclara, iugis. hanc multos florentem annos rex deinde superbo imperio et saevis tenuit Mezentius armis. quid memorem infandas caedes, quid facta tyranni effera? di capiti ipsius generique! mortua quin etiam corpora vivis manibusque manus atque oribus ora, tormenti genus, et sanie taboque fluentis complexu in misero longa sic morte necabat. at fessi tandem cives infanda furentem armati circumsistunt ipsumque domumque, obtruncant, ignem ad fastigia iactant. ille inter caedem elapsus in agros confugere et Turni defendier hospitis armis. ergo omnis surrexit iustis, regem ad supplicium praesenti Marte reposcunt. his ego te, Aenea, ductorem milibus addam. toto namque fremunt litore puppes signaque ferre iubent, retinet longaevus haruspex fata canens: o delecta iuventus, flos veterum virtusque virum, quos iustus in hostem fert dolor et merita accendit Mezentius ira, nulli fas tantam gentem: externos optate duces. tum resedit hoc acies campo monitis exterrita divum.\"\n",
    "print(count_rank(sentence))\n",
    "print(count_grouprank(sentence))\n",
    "print(count_content(sentence))\n",
    "print(count_content_group(sentence))\n",
    "print(count_words(sentence))\n",
    "print(count_grouprank_words(sentence))\n",
    "print(count_content_words(sentence))\n",
    "print(count_grouprank_contentwords(sentence))\n",
    "print(rare_words(sentence))"
   ]
  },
  {
   "cell_type": "code",
   "execution_count": 25,
   "id": "9787ef3f",
   "metadata": {},
   "outputs": [
    {
     "name": "stdout",
     "output_type": "stream",
     "text": [
      "(301.506, 7716.08, 6.736, 1.154)\n",
      "3.602\n",
      "(404.969, 1464.992, 5.637)\n",
      "4.562\n",
      "(434.403, 3645.25, 4.985)\n",
      "4.761\n",
      "(574.883, 190.141, 3.578)\n",
      "6.07\n",
      "(0.528, 0.398, 0.284, 0.176)\n"
     ]
    }
   ],
   "source": [
    "sentence = \"Nox erat et terris animalia somnus habebat: effigies sacrae divum Phrygiique penates, quos mecum a Troia mediisque ex ignibus urbis extuleram, visi ante oculos astare iacentis in somnis multo manifesti lumine, qua se plena per insertas fundebat luna fenestras; tum sic adfari et curas his demere dictis: quod tibi delato Ortygiam dicturus Apollo est, hic canit et tua nos en ultro ad limina mittit. nos te Dardania incensa tuaque arma secuti, nos tumidum sub te permensi classibus aequor, idem venturos tollemus in astra nepotes imperiumque urbi dabimus. tu moenia magnis magna para longumque fugae ne linque laborem. mutandae sedes. non haec tibi litora suasit Delius aut Cretae iussit considere Apollo. est locus, Hesperiam Grai cognomine dicunt, terra antiqua, potens armis atque ubere glaebae; Oenotri coluere viri; nunc fama minores Italiam dixisse ducis de nomine gentem. talibus attonitus visis et voce deorum (nec sopor illud erat, sed coram agnoscere vultus velatasque comas praesentiaque ora videbar; tum gelidus toto manabat corpore sudor) corripio e stratis corpus tendoque supinas ad caelum cum voce manus et munera libo intemerata focis.\"\n",
    "print(count_rank(sentence))\n",
    "print(count_grouprank(sentence))\n",
    "print(count_content(sentence))\n",
    "print(count_content_group(sentence))\n",
    "print(count_words(sentence))\n",
    "print(count_grouprank_words(sentence))\n",
    "print(count_content_words(sentence))\n",
    "print(count_grouprank_contentwords(sentence))\n",
    "print(rare_words(sentence))"
   ]
  },
  {
   "cell_type": "code",
   "execution_count": 26,
   "id": "23d81586",
   "metadata": {},
   "outputs": [
    {
     "name": "stdout",
     "output_type": "stream",
     "text": [
      "(299.048, 8016.461, 6.874, 1.198)\n",
      "3.587\n",
      "(404.595, 1541.719, 5.791)\n",
      "4.57\n",
      "(437.826, 3796.222, 5.12)\n",
      "4.808\n",
      "(582.107, 200.826, 3.732)\n",
      "6.157\n",
      "(0.527, 0.395, 0.281, 0.174)\n"
     ]
    }
   ],
   "source": [
    "sentence = \"Nox erat et terris animalia somnus habebat: effigies sacrae divum Phrygiique penates, quos mecum a Troia mediisque ex ignibus urbis extuleram, visi ante oculos astare iacentis in somnis multo lumine, qua se plena per fundebat luna fenestras; tum sic adfari et curas his demere dictis: quod tibi dicturus Apollo est, hic canit et tua nos en ultro ad limina mittit. nos te incensa tuaque arma secuti, nos tumidum permensi classibus aequor, idem venturos tollemus in astra nepotes imperiumque urbi dabimus. tu moenia magnis magna para longumque fugae ne linque laborem. mutandae sedes. non haec tibi litora suasit Delius aut Cretae iussit Apollo. est locus, Hesperiam Grai cognomine dicunt, terra antiqua, potens armis atque ubere glaebae; coluere viri; nunc fama minores Italiam dixisse ducis de nomine gentem. talibus attonitus visis et voce deorum (nec sopor illud erat, sed coram agnoscere vultus velatasque comas praesentiaque ora videbar; tum gelidus toto manabat corpore sudor) corripio e stratis corpus tendoque supinas ad caelum cum voce manus et munera libo intemerata focis.\"\n",
    "print(count_rank(sentence))\n",
    "print(count_grouprank(sentence))\n",
    "print(count_content(sentence))\n",
    "print(count_content_group(sentence))\n",
    "print(count_words(sentence))\n",
    "print(count_grouprank_words(sentence))\n",
    "print(count_content_words(sentence))\n",
    "print(count_grouprank_contentwords(sentence))\n",
    "print(rare_words(sentence))"
   ]
  },
  {
   "cell_type": "code",
   "execution_count": 27,
   "id": "f4098313",
   "metadata": {},
   "outputs": [
    {
     "name": "stdout",
     "output_type": "stream",
     "text": [
      "(388.802, 6024.562, 6.125, 1.449)\n",
      "4.411\n",
      "(477.824, 958.549, 5.234)\n",
      "5.229\n",
      "(468.484, 3282.26, 4.49)\n",
      "5.083\n",
      "(572.203, 175.556, 3.395)\n",
      "6.039\n",
      "(0.661, 0.542, 0.38, 0.25)\n"
     ]
    }
   ],
   "source": [
    "sentence = \"At non in Pharia manes iacuere favilla nec cinis exiguus tantam conpescuit umbram; prosiluit busto semustaque membra relinquens degeneremque rogum sequitur convexa Tonantis. qua niger astriferis conectitur axibus aer, semidei manes habitant, quos ignea virtus innocuos vita patientes aetheris imi fecit. non illuc auro positi nec ture sepulti perveniunt. illic postquam se lumine vero implevit, stellasque vagas miratus et astra fixa polis, vidit quanta sub nocte iaceret nostra dies risitque sui ludibria trunci. hinc super Emathiae campos et signa cruenti Caesaris ac sparsas volitavit in aequore classes, et scelerum vindex in sancto pectore Bruti sedit et invicti posuit se mente Catonis. Ille, ubi pendebant casus dubiumque manebat quem dominum mundi facerent civilia bella, oderat et Magnum, quamvis comes isset in arma auspiciis raptus patriae ductuque senatus; at post Thessalicas clades iam pectore toto Pompeianus erat. patriam tutore carentem excepit, populi trepidantia membra refovit, ignavis manibus proiectos reddidit enses, nec regnum cupiens gessit civilia bella nec servire timens. nil causa fecit in armis ipse sua: totae post Magni funera partes libertatis erant. quas ne per litora fusas colligeret rapido victoria Caesaris actu, Corcyrae secreta petit ac mille carinis abstulit Emathiae secum fragmenta ruinae.\"\n",
    "print(count_rank(sentence))\n",
    "print(count_grouprank(sentence))\n",
    "print(count_content(sentence))\n",
    "print(count_content_group(sentence))\n",
    "print(count_words(sentence))\n",
    "print(count_grouprank_words(sentence))\n",
    "print(count_content_words(sentence))\n",
    "print(count_grouprank_contentwords(sentence))\n",
    "print(rare_words(sentence))"
   ]
  },
  {
   "cell_type": "code",
   "execution_count": 28,
   "id": "8f63d6f0",
   "metadata": {},
   "outputs": [
    {
     "name": "stdout",
     "output_type": "stream",
     "text": [
      "(386.05, 6455.648, 6.418, 1.269)\n",
      "4.402\n",
      "(482.571, 1039.307, 5.526)\n",
      "5.293\n",
      "(472.749, 3519.229, 4.713)\n",
      "5.145\n",
      "(587.286, 190.057, 3.579)\n",
      "6.207\n",
      "(0.67, 0.542, 0.369, 0.24)\n"
     ]
    }
   ],
   "source": [
    "sentence = \"At non in manes iacuere favilla nec cinis exiguus tantam umbram; prosiluit membra relinquens degeneremque rogum sequitur Tonantis. qua niger astriferis conectitur axibus aer, semidei manes habitant, quos ignea virtus innocuos vita patientes aetheris imi fecit. non illuc auro positi nec ture sepulti perveniunt. illic postquam se lumine vero implevit, stellasque vagas miratus et astra fixa polis, vidit quanta sub nocte iaceret nostra dies risitque sui ludibria trunci. hinc super et signa cruenti Caesaris ac sparsas volitavit in aequore classes, et scelerum vindex in sancto pectore Bruti sedit et invicti posuit se mente Catonis. Ille, ubi pendebant casus dubiumque manebat quem dominum mundi facerent civilia bella, oderat et Magnum, quamvis comes isset in arma auspiciis raptus patriae ductuque senatus; at post iam pectore toto erat. patriam tutore carentem excepit, populi trepidantia membra refovit, ignavis manibus proiectos reddidit enses, nec regnum cupiens gessit civilia bella nec servire timens. nil causa fecit in armis ipse sua: totae post Magni funera partes libertatis erant. quas ne per litora fusas colligeret rapido victoria Caesaris actu, secreta petit ac mille carinis abstulit secum fragmenta.\"\n",
    "print(count_rank(sentence))\n",
    "print(count_grouprank(sentence))\n",
    "print(count_content(sentence))\n",
    "print(count_content_group(sentence))\n",
    "print(count_words(sentence))\n",
    "print(count_grouprank_words(sentence))\n",
    "print(count_content_words(sentence))\n",
    "print(count_grouprank_contentwords(sentence))\n",
    "print(rare_words(sentence))"
   ]
  },
  {
   "cell_type": "code",
   "execution_count": 29,
   "id": "443dcb05",
   "metadata": {},
   "outputs": [
    {
     "name": "stdout",
     "output_type": "stream",
     "text": [
      "(352.728, 6426.456, 6.441, 1.499)\n",
      "4.056\n",
      "(453.906, 1045.416, 5.448)\n",
      "4.98\n",
      "(453.277, 2594.051, 4.74)\n",
      "4.928\n",
      "(572.275, 232.067, 3.553)\n",
      "6.034\n",
      "(0.605, 0.487, 0.354, 0.205)\n"
     ]
    }
   ],
   "source": [
    "sentence = \"Primum facinus novi principatus fuit Postumi Agrippae caedes, quem ignarum inerumumque quamvis firmatus animo centurio aegre confecit. nihil de ea re Tiberius apud senatum disseruit: patris iussa simulabat, quibus praescripsisset tribuno custodiae adposito, ne cunctaretur Agrippam morte adficere, quandoque ipse supremum diem explevisset. multa sine dubio saevaque Augustus de moribus adulescentis questus, ut exilium eius senatus consulto sanciretur perfecerat: ceterum in nullius umquam suorum necem duravit, neque mortem nepoti pro securitate privigni inlatam credibile erat. propius vero Tiberium ac Liviam, illum metu, hanc novercalibus odiis, suspecti et invisi iuvenis caedem festinavisse. nuntianti centurioni, ut mos militiae, factum esse quod imperasset, neque imperasse sese et rationem facti reddendam apud senatum respondit. quod postquam Sallustius Crispus particeps secretorum, is ad tribunum miserat codicillos, comperit, metuens ne reus subderetur, iuxta periculoso ficta seu vera promeret, monuit Liviam ne arcana domus, ne consilia amicorum, ministeria militum vulgarentur, neve Tiberius vim principatus resolveret cunta ad senatum vocando: eam condicionem esse imperandi, ut non aliter ratio constet quam si uni reddatur. At Romae ruere in servitium consules, patres, eques. quanto quis inlustrior, tanto magis falsi ac festinantes, vultuque composito, ne laeti excessu principis neu tristiores primordio, lacrimas gaudium, questus adulationem miscebant.\"\n",
    "print(count_rank(sentence))\n",
    "print(count_grouprank(sentence))\n",
    "print(count_content(sentence))\n",
    "print(count_content_group(sentence))\n",
    "print(count_words(sentence))\n",
    "print(count_grouprank_words(sentence))\n",
    "print(count_content_words(sentence))\n",
    "print(count_grouprank_contentwords(sentence))\n",
    "print(rare_words(sentence))"
   ]
  },
  {
   "cell_type": "code",
   "execution_count": 30,
   "id": "f6f1ecf5",
   "metadata": {},
   "outputs": [
    {
     "name": "stdout",
     "output_type": "stream",
     "text": [
      "(350.149, 6459.082, 6.451, 1.501)\n",
      "4.031\n",
      "(451.209, 1051.824, 5.454)\n",
      "4.953\n",
      "(451.526, 2607.402, 4.757)\n",
      "4.912\n",
      "(570.784, 233.608, 3.567)\n",
      "6.02\n",
      "(0.603, 0.485, 0.351, 0.201)\n"
     ]
    }
   ],
   "source": [
    "sentence = \"Primum facinus novi principatus fuit Postumi Agrippae caedes, quem ignarum inerumumque quamvis firmatus animo centurio aegre confecit. nihil de ea re Tiberius apud senatum disseruit: patris iussa simulabat, quibus praescripsisset tribuno custodiae adposito, ne cunctaretur Agrippam morte adficere, quandoque ipse supremum diem explevisset. multa sine dubio saevaque Augustus de moribus adulescentis questus, ut exilium eius senatus consulto sanciretur perfecerat: ceterum in nullius umquam suorum necem, neque mortem nepoti pro securitate privigni inlatam credibile erat. propius vero Tiberium ac Liviam, illum metu, hanc novercalibus odiis, suspecti et invisi iuvenis caedem festinavisse. nuntianti centurioni, ut mos militiae, factum esse quod imperasset, neque imperasse sese et rationem facti reddendam apud senatum respondit. quod postquam Sallustius Crispus particeps secretorum, is ad tribunum miserat codicillos, comperit, metuens ne reus subderetur, iuxta periculoso ficta seu vera promeret, monuit Liviam ne arcana domus, ne consilia amicorum, ministeria militum vulgarentur, neve Tiberius vim principatus resolveret cunta ad senatum vocando: eam condicionem esse imperandi, ut non aliter ratio constet quam si uni reddatur. At Romae ruere in servitium consules, patres, eques. quanto quis inlustrior, tanto magis falsi ac festinantes, vultuque composito, ne laeti excessu principis neu tristiores primordio, lacrimas gaudium, questus adulationem miscebant.\"\n",
    "print(count_rank(sentence))\n",
    "print(count_grouprank(sentence))\n",
    "print(count_content(sentence))\n",
    "print(count_content_group(sentence))\n",
    "print(count_words(sentence))\n",
    "print(count_grouprank_words(sentence))\n",
    "print(count_content_words(sentence))\n",
    "print(count_grouprank_contentwords(sentence))\n",
    "print(rare_words(sentence))"
   ]
  },
  {
   "cell_type": "code",
   "execution_count": 31,
   "id": "a3e40a1a",
   "metadata": {},
   "outputs": [
    {
     "name": "stdout",
     "output_type": "stream",
     "text": [
      "(251.779, 9909.913, 6.22, 0.264)\n",
      "3.046\n",
      "(345.101, 919.551, 4.679)\n",
      "3.841\n",
      "(341.508, 4572.938, 4.881)\n",
      "3.821\n",
      "(459.123, 181.92, 3.226)\n",
      "4.87\n",
      "(0.477, 0.364, 0.246, 0.123)\n"
     ]
    }
   ],
   "source": [
    "sentence = \"Perseus ad Pieriam silvam via militari frequenti agmine equitum et regio comitatu fugit. Simul in silvam ventum est, ubi plures diversae semitae erant, et nox adpropinquabat, cum perpaucis maxime fidis via devertit. Equites sine duce relicti alii alia in civitates suas dilapsi sunt; perpauci inde Pellam celerius quam ipse Perseus, quia recta et expedita via ierant, pervenerunt. Rex ad mediam ferme noctem errore et variis difficultatibus viae vexatus est; in regia Perseo, qui Pellae praeerant, Euctus Eulaeusque et regii pueri praesto erant. Contra ea amicorum, qui alii alio casu servati ex proelio Pellam venerant, cum saepe arcessiti essent, nemo ad eum venit. Tres erant tantum cum eo fugae comites, Euander Cretensis, Neo Boeotus, et Archidamus Aetolus. Cum iis, iam metuens, ne, qui venire ad se abnuerent, maius aliquid mox auderent, quarta vigilia profugit. Secuti eum sunt admodum quingenti Cretenses. Petebat Amphipolim; sed nocte a Pella exierat, properans ante lucem Axium amnem traicere, eum finem sequendi propter difficultatem transitus fore ratus Romanis. Consulem, cum se in castra victor recepisset, ne sincero gaudio frueretur, cura de minore filio stimulabat. P. Scipio is erat, Africanus et ipse postea deleta Carthagine appellatus, naturalis consulis Paulli filius, adoptione Africani nepos.\"\n",
    "print(count_rank(sentence))\n",
    "print(count_grouprank(sentence))\n",
    "print(count_content(sentence))\n",
    "print(count_content_group(sentence))\n",
    "print(count_words(sentence))\n",
    "print(count_grouprank_words(sentence))\n",
    "print(count_content_words(sentence))\n",
    "print(count_grouprank_contentwords(sentence))\n",
    "print(rare_words(sentence))"
   ]
  },
  {
   "cell_type": "code",
   "execution_count": 32,
   "id": "5595f044",
   "metadata": {},
   "outputs": [
    {
     "name": "stdout",
     "output_type": "stream",
     "text": [
      "(250.549, 10496.641, 6.493, 0.243)\n",
      "3.054\n",
      "(351.402, 990.921, 4.94)\n",
      "3.921\n",
      "(349.87, 4845.38, 5.123)\n",
      "3.924\n",
      "(481.425, 196.315, 3.433)\n",
      "5.11\n",
      "(0.484, 0.364, 0.245, 0.114)\n"
     ]
    }
   ],
   "source": [
    "sentence = \"Perseus ad silvam via militari frequenti agmine equitum et regio comitatu fugit. Simul in silvam ventum est, ubi plures diversae semitae erant, et nox adpropinquabat, cum perpaucis maxime fidis via. Equites sine duce relicti alii alia in civitates suas dilapsi sunt; perpauci inde celerius quam ipse Perseus, quia recta et expedita via ierant, pervenerunt. Rex ad mediam ferme noctem errore et variis difficultatibus viae vexatus est; in regia Perseo, qui Pellae praeerant, Euctus Eulaeusque et regii praesto erant. Contra ea amicorum, qui alii alio casu servati ex proelio Pellam venerant, cum saepe arcessiti essent, nemo ad eum venit. Tres erant tantum cum eo fugae comites, Euander, Neo, et Archidamus. Cum iis, iam metuens, ne, qui venire ad se abnuerent, maius aliquid mox auderent, quarta vigilia profugit. Secuti eum sunt admodum quingenti Cretenses. Petebat; sed nocte a Pella exierat, properans ante lucem amnem traicere, eum finem sequendi propter difficultatem transitus fore ratus Romanis. Consulem, cum se in castra victor recepisset, ne gaudio frueretur, cura de minore filio. P. Scipio is erat, Africanus et ipse postea deleta Carthagine appellatus, naturalis consulis Paulli filius, adoptione Africani nepos.\"\n",
    "print(count_rank(sentence))\n",
    "print(count_grouprank(sentence))\n",
    "print(count_content(sentence))\n",
    "print(count_content_group(sentence))\n",
    "print(count_words(sentence))\n",
    "print(count_grouprank_words(sentence))\n",
    "print(count_content_words(sentence))\n",
    "print(count_grouprank_contentwords(sentence))\n",
    "print(rare_words(sentence))"
   ]
  },
  {
   "cell_type": "code",
   "execution_count": 33,
   "id": "fdfea349",
   "metadata": {},
   "outputs": [
    {
     "name": "stdout",
     "output_type": "stream",
     "text": [
      "(238.067, 9915.553, 7.323, 0.807)\n",
      "2.966\n",
      "(371.608, 1530.431, 5.837)\n",
      "4.146\n",
      "(364.986, 4171.793, 5.583)\n",
      "4.115\n",
      "(539.954, 307.085, 3.774)\n",
      "5.715\n",
      "(0.447, 0.327, 0.231, 0.125)\n"
     ]
    }
   ],
   "source": [
    "sentence = \"Quaeret quispiam: Quid? Illi ipsi summi viri, quorum virtutes litteris proditae sunt, istane doctrina, quam tu effers laudibus, eruditi fuerunt? Difficile est hoc de omnibus confirmare, sed tamen est certe, quod respondeam: Ego multos homines excellenti animo ac virtute fuisse et sine doctrina naturae ipsius habitu prope divino per se ipsos et moderatos et gravis exstitisse fateor. etiam illud adiungo saepius ad laudem atque virtutem naturam sine doctrina quam sine natura valuisse doctrinam. Atque idem ego contendo, cum ad naturam eximiam atque illustrem accesserit ratio quaedam conformatioque doctrinae, tum illud nescio quid praeclarum ac singulare solere exsistere. Ex hoc esse hunc numero, quem patres nostri viderunt, divinum hominem Africanum; ex hoc fortissimum virum et illis temporibus doctissimum, M. Catonem illum senem: qui profecto si nihil ad percipiendam virtutem litteris adiuvarentur, numquam se ad earum studium contulissent. Quodsi non his tantus fructus ostenderetur et si ex his studiis delectatio sola peteretur, tamen, ut opinor, hanc animi adversionem humanissimam ac liberalissimam iudicaretis. Nam ceterae neque temporum sunt neque aetatum omnium neque locorum; haec studia adulescentiam alunt, senectutem oblectant, secundas res ornant, adversis perfugium ac solacium praebent, delectant domi, non impediunt foris. Quodsi ipsi haec neque attingere neque sensu nostro gustare possemus, tamen ea mirari deberemus, etiam cum in aliis videremus.\"\n",
    "print(count_rank(sentence))\n",
    "print(count_grouprank(sentence))\n",
    "print(count_content(sentence))\n",
    "print(count_content_group(sentence))\n",
    "print(count_words(sentence))\n",
    "print(count_grouprank_words(sentence))\n",
    "print(count_content_words(sentence))\n",
    "print(count_grouprank_contentwords(sentence))\n",
    "print(rare_words(sentence))"
   ]
  },
  {
   "cell_type": "code",
   "execution_count": 34,
   "id": "33aef8df",
   "metadata": {},
   "outputs": [
    {
     "name": "stdout",
     "output_type": "stream",
     "text": [
      "(218.016, 10539.385, 7.579, 0.152)\n",
      "2.771\n",
      "(348.179, 1649.162, 6.139)\n",
      "3.906\n",
      "(358.917, 4440.698, 5.77)\n",
      "4.073\n",
      "(541.735, 327.06, 3.945)\n",
      "5.752\n",
      "(0.438, 0.307, 0.208, 0.094)\n"
     ]
    }
   ],
   "source": [
    "sentence = \"Quaeret quispiam: Quid? Illi ipsi summi viri, quorum virtutes litteris proditae sunt, istane doctrina, quam tu effers laudibus, eruditi fuerunt? Difficile est hoc de omnibus confirmare, sed tamen est certe, quod respondeam: Ego multos homines excellenti animo ac virtute fuisse et sine doctrina naturae ipsius habitu prope divino per se ipsos et moderatos et gravis exstitisse fateor. etiam illud adiungo saepius ad laudem atque virtutem naturam sine doctrina quam sine natura valuisse doctrinam. Atque contendo, cum ad naturam atque illustrem accesserit ratio quaedam doctrinae, tum illud praeclarum ac singulare solere exsistere. Ex hoc esse hunc numero, quem patres nostri viderunt, divinum hominem; ex hoc fortissimum virum et illis temporibus doctissimum, illum senem: qui profecto si nihil ad percipiendam virtutem litteris adiuvarentur, numquam se ad earum studium contulissent. Quodsi non his tantus fructus ostenderetur et si ex his studiis sola peteretur, tamen, ut opinor, hanc humanissimam ac liberalissimam iudicaretis. Nam ceterae neque temporum sunt neque aetatum omnium neque locorum; haec studia adulescentiam alunt, senectutem, secundas res ornant, adversis ac praebent, delectant domi, non impediunt foris. Quodsi ipsi haec neque attingere neque sensu nostro possemus, tamen ea mirari deberemus, etiam cum in aliis videremus.\"\n",
    "print(count_rank(sentence))\n",
    "print(count_grouprank(sentence))\n",
    "print(count_content(sentence))\n",
    "print(count_content_group(sentence))\n",
    "print(count_words(sentence))\n",
    "print(count_grouprank_words(sentence))\n",
    "print(count_content_words(sentence))\n",
    "print(count_grouprank_contentwords(sentence))\n",
    "print(rare_words(sentence))"
   ]
  },
  {
   "cell_type": "code",
   "execution_count": 35,
   "id": "fe459c7a",
   "metadata": {},
   "outputs": [
    {
     "name": "stdout",
     "output_type": "stream",
     "text": [
      "(421.657, 6014.652, 5.869, 2.074)\n",
      "4.75\n",
      "(525.267, 887.547, 4.875)\n",
      "5.72\n",
      "(478.431, 2668.681, 4.304)\n",
      "5.152\n",
      "(581.242, 192.478, 3.212)\n",
      "6.099\n",
      "(0.652, 0.554, 0.461, 0.328)\n"
     ]
    }
   ],
   "source": [
    "sentence = \"Tarpeium nemus et Tarpeiae turpe sepulcrum fabor et antiqui limina capta Iouis. lucus erat felix hederoso conditus antro, multaque nativis obstrepit arbor aquis, Silvani ramosa domus, quo dulcis ab aestu fistula poturas ire iubebat ovis. hunc Tatius fontem vallo praecingit acerno, fidaque suggesta castra coronat humo. quid tum Roma fuit, tubicen vicina Curetis cum quateret lento murmure saxa Iovis? atque ubi nunc terris dicuntur iura subactis, stabant Romano pila Sabina Foro. murus erant montes: ubi nunc est curia saepta, bellicus ex illo fonte bibebat equus. hinc Tarpeia deae fontem libavit: at illi urgebat medium fictilis urna caput. vidit harenosis Tatium proludere campis pictaque per flavas arma leuare iubas: obstipuit regis facie et regalibus armis, interque oblitas excidit urna manus. annua pastorum convivia, lusus in urbe, cum pagana madent fercula divitiis, Romulus excubias decrevit in otia solvi atque intermissa castra silere tuba. hoc Tarpeia suum tempus rata convenit hostem: pacta ligat, pactis ipsa futura comes. omnia praebebant somnos: sed Iuppiter unus decrevit poenis invigilare suis. prodiderat portaeque fidem patriamque iacentem, nubendique petit, quem velit, ipsa diem. at Tatius, neque enim sceleri dedit hostis honorem, nube ait et regni scande cubile mei! dixit, et ingestis comitum super obruit armis. haec, virgo, officiis dos erat apta tuis.\"\n",
    "print(count_rank(sentence))\n",
    "print(count_grouprank(sentence))\n",
    "print(count_content(sentence))\n",
    "print(count_content_group(sentence))\n",
    "print(count_words(sentence))\n",
    "print(count_grouprank_words(sentence))\n",
    "print(count_content_words(sentence))\n",
    "print(count_grouprank_contentwords(sentence))\n",
    "print(rare_words(sentence))"
   ]
  },
  {
   "cell_type": "code",
   "execution_count": 36,
   "id": "862e661d",
   "metadata": {},
   "outputs": [
    {
     "name": "stdout",
     "output_type": "stream",
     "text": [
      "(409.104, 6389.891, 6.129, 1.804)\n",
      "4.63\n",
      "(517.436, 958.154, 5.131)\n",
      "5.644\n",
      "(475.255, 2835.344, 4.541)\n",
      "5.141\n",
      "(585.43, 207.812, 3.429)\n",
      "6.161\n",
      "(0.651, 0.547, 0.448, 0.307)\n"
     ]
    }
   ],
   "source": [
    "sentence = \"nemus et turpe sepulcrum fabor et antiqui limina capta Iouis. lucus erat felix hederoso conditus antro, multaque obstrepit arbor aquis, ramosa domus, quo dulcis ab aestu fistula poturas ire iubebat ovis. hunc Tatius fontem vallo praecingit, fidaque castra coronat humo. quid tum Roma fuit, vicina cum quateret lento murmure saxa Iovis? atque ubi nunc terris dicuntur iura subactis, stabant Romano pila Sabina Foro. murus erant montes: ubi nunc est curia saepta, bellicus ex illo fonte bibebat equus. hinc Tarpeia deae fontem libavit: at illi urgebat medium urna caput. vidit harenosis Tatium campis pictaque per flavas arma leuare iubas: obstipuit regis facie et regalibus armis, interque oblitas excidit urna manus. annua pastorum convivia, lusus in urbe, cum madent divitiis, Romulus excubias decrevit in otia solvi atque intermissa castra silere tuba. hoc Tarpeia suum tempus rata convenit hostem: pacta ligat, pactis ipsa futura comes. omnia praebebant somnos: sed Iuppiter unus decrevit poenis invigilare suis. prodiderat portaeque fidem patriamque iacentem, nubendique petit, quem velit, ipsa diem. at Tatius, neque enim sceleri dedit hostis honorem, nube ait et regni scande cubile mei! dixit, et ingestis comitum super obruit armis. haec, virgo, officiis dos erat apta tuis.\"\n",
    "print(count_rank(sentence))\n",
    "print(count_grouprank(sentence))\n",
    "print(count_content(sentence))\n",
    "print(count_content_group(sentence))\n",
    "print(count_words(sentence))\n",
    "print(count_grouprank_words(sentence))\n",
    "print(count_content_words(sentence))\n",
    "print(count_grouprank_contentwords(sentence))\n",
    "print(rare_words(sentence))"
   ]
  },
  {
   "cell_type": "code",
   "execution_count": 37,
   "id": "b362915a",
   "metadata": {},
   "outputs": [
    {
     "name": "stdout",
     "output_type": "stream",
     "text": [
      "(463.74, 6314.183, 6.132, 1.444)\n",
      "5.178\n",
      "(552.683, 938.23, 5.334)\n",
      "5.993\n",
      "(549.509, 3434.675, 4.434)\n",
      "5.882\n",
      "(649.353, 134.417, 3.483)\n",
      "6.813\n",
      "(0.728, 0.627, 0.479, 0.343)\n"
     ]
    }
   ],
   "source": [
    "sentence = \"Cadmus agit grates peregrinaeque oscula terrae figit et ignotos montes agrosque salutat. Sacra Iovi facturus erat: iubet ire ministros et petere e vivis libandas fontibus undas. silva vetus stabat nulla violata securi, et specus in media virgis ac vimine densus efficiens humilem lapidum conpagibus arcum uberibus fecundus aquis; ubi conditus antro Martius anguis erat, cristis praesignis et auro; igne micant oculi, corpus tumet omne venenis, tres vibrant linguae, triplici stant ordine dentes. quem postquam Tyria lucum de gente profecti infausto tetigere gradu, demissaque in undas urna dedit sonitum, longo caput extulit antro caeruleus serpens horrendaque sibila misit. effluxere urnae manibus sanguisque reliquit corpus et attonitos subitus tremor occupat artus. ille volubilibus squamosos nexibus orbes torquet et inmensos saltu sinuatur in arcus ac media plus parte leves erectus in auras despicit omne nemus tantoque est corpore, quanto, si totum spectes, geminas qui separat arctos. nec mora, Phoenicas, sive illi tela parabant sive fugam, sive ipse timor prohibebat utrumque, occupat: hos morsu, longis conplexibus illos, hos necat adflati funesta tabe veneni.\"\n",
    "print(count_rank(sentence))\n",
    "print(count_grouprank(sentence))\n",
    "print(count_content(sentence))\n",
    "print(count_content_group(sentence))\n",
    "print(count_words(sentence))\n",
    "print(count_grouprank_words(sentence))\n",
    "print(count_content_words(sentence))\n",
    "print(count_grouprank_contentwords(sentence))\n",
    "print(rare_words(sentence))"
   ]
  },
  {
   "cell_type": "code",
   "execution_count": 38,
   "id": "b990c83c",
   "metadata": {},
   "outputs": [
    {
     "name": "stdout",
     "output_type": "stream",
     "text": [
      "(443.692, 6706.138, 6.34, 1.064)\n",
      "4.981\n",
      "(534.868, 1004.597, 5.53)\n",
      "5.814\n",
      "(539.667, 3649.981, 4.597)\n",
      "5.799\n",
      "(644.961, 143.961, 3.612)\n",
      "6.783\n",
      "(0.717, 0.61, 0.459, 0.314)\n"
     ]
    }
   ],
   "source": [
    "sentence = \"Cadmus agit peregrinaeque oscula terrae figit et ignotos montes agrosque salutat. Sacra Iovi facturus erat: iubet ire ministros et petere e vivis libandas fontibus undas. silva vetus stabat nulla violata securi, et specus in media virgis ac densus humilem lapidum arcum uberibus fecundus aquis; ubi conditus antro anguis erat, cristis praesignis et auro; igne micant oculi, corpus tumet omne venenis, tres vibrant linguae, triplici stant ordine dentes. quem postquam Tyria lucum de gente profecti infausto tetigere gradu, demissaque in undas dedit sonitum, longo caput extulit antro caeruleus serpens horrendaque sibila misit. effluxere urnae manibus sanguisque reliquit corpus et attonitos subitus tremor occupat artus. ille squamosos orbes torquet et inmensos saltu in arcus ac media plus parte leves erectus in auras despicit omne nemus tantoque est corpore, quanto, si totum spectes, geminas qui separat. nec mora, Phoenicas, sive illi tela parabant sive fugam, sive ipse timor prohibebat utrumque, occupat: hos morsu, longis conplexibus illos, hos necat adflati funesta tabe veneni.\"\n",
    "print(count_rank(sentence))\n",
    "print(count_grouprank(sentence))\n",
    "print(count_content(sentence))\n",
    "print(count_content_group(sentence))\n",
    "print(count_words(sentence))\n",
    "print(count_grouprank_words(sentence))\n",
    "print(count_content_words(sentence))\n",
    "print(count_grouprank_contentwords(sentence))\n",
    "print(rare_words(sentence))"
   ]
  },
  {
   "cell_type": "code",
   "execution_count": 39,
   "id": "70c594da",
   "metadata": {},
   "outputs": [
    {
     "name": "stdout",
     "output_type": "stream",
     "text": [
      "(349.622, 8656.659, 6.923, 1.727)\n",
      "4.114\n",
      "(456.05, 1279.583, 5.955)\n",
      "5.115\n",
      "(468.822, 3569.795, 5.067)\n",
      "5.157\n",
      "(590.568, 243.676, 3.942)\n",
      "6.302\n",
      "(0.643, 0.503, 0.351, 0.173)\n"
     ]
    }
   ],
   "source": [
    "sentence = \"Tarquinius iuvenis socios dapibusque meroque accipit; ex illis rege creatus ait: ecquid in officio torus est socialis? et ecquid coniugibus nostris mutua cura sumus? quisque suam laudat: studiis certamina crescunt, et fervet multo linguaque corque mero. surgit, cui dederat clarum Collatia nomen: non opus est verbis, credite rebus ait. nox superest: tollamur equis Urbemque petamus! dicta placent, frenis impediuntur equi. pertulerant dominos. regalia protinus illi tecta petunt: custos in fore nullus erat. ecce nurum regis fusis per colla coronis inveniunt posito pervigilare mero. inde cito passu petitur Lucretia, cuius ante torum calathi lanaque mollis erat. lumen ad exiguum famulae data pensa trahebant; inter quas tenui sic ait illa sono: mittenda est domino, nunc, nunc properate, puellae! quam primum nostra facta lacerna manu. quid tamen auditis, nam plura audire potestis? quantum de bello dicitur esse super? mens abit et morior, quotiens pugnantis imago me subit, et gelidum pectora frigus habet. desinit in lacrimas inceptaque fila remisit, in gremio voltum deposuitque suum. hoc ipsum decuit: lacrimae decuere pudicam, et facies animo dignaque parque fuit. pone metum, veni coniunx ait; illa revixit, deque viri collo dulce pependit onus.\"\n",
    "print(count_rank(sentence))\n",
    "print(count_grouprank(sentence))\n",
    "print(count_content(sentence))\n",
    "print(count_content_group(sentence))\n",
    "print(count_words(sentence))\n",
    "print(count_grouprank_words(sentence))\n",
    "print(count_content_words(sentence))\n",
    "print(count_grouprank_contentwords(sentence))\n",
    "print(rare_words(sentence))"
   ]
  },
  {
   "cell_type": "code",
   "execution_count": 40,
   "id": "85bd7c4a",
   "metadata": {},
   "outputs": [
    {
     "name": "stdout",
     "output_type": "stream",
     "text": [
      "(309.267, 9414.565, 7.285, 1.458)\n",
      "3.727\n",
      "(414.381, 1442.424, 6.329)\n",
      "4.712\n",
      "(455.068, 3953.037, 5.338)\n",
      "5.037\n",
      "(583.958, 269.169, 4.196)\n",
      "6.254\n",
      "(0.621, 0.466, 0.304, 0.106)\n"
     ]
    }
   ],
   "source": [
    "sentence = \"Tarquinius iuvenis socios dapibusque meroque accipit; ex illis rege creatus ait: in officio est et coniugibus nostris cura sumus? quisque suam laudat: studiis certamina crescunt, et fervet multo linguaque corque mero. surgit, cui dederat clarum nomen: non opus est verbis, credite rebus ait. nox superest: tollamur equis petamus! dicta placent, frenis equi. pertulerant dominos. protinus illi tecta petunt: custos in fore nullus erat. ecce regis fusis per colla coronis inveniunt posito pervigilare mero. inde cito passu petitur Lucretia, cuius ante lanaque mollis erat. lumen ad exiguum data inter quas tenui sic ait illa sono: mittenda est domino, nunc, nunc properate, puellae, nostra facta manu. quid tamen auditis, nam plura audire potestis? quantum de bello dicitur mens abit et morior, quotiens pugnantis imago me subit, et gelidum pectora frigus habet. desinit in lacrimas inceptaque remisit, in voltum deposuitque suum. hoc ipsum decuit: lacrimae decuere pudicam, et facies animo dignaque parque fuit. metum, veni coniunx ait; illa deque viri collo dulce pependit onus.\"\n",
    "print(count_rank(sentence))\n",
    "print(count_grouprank(sentence))\n",
    "print(count_content(sentence))\n",
    "print(count_content_group(sentence))\n",
    "print(count_words(sentence))\n",
    "print(count_grouprank_words(sentence))\n",
    "print(count_content_words(sentence))\n",
    "print(count_grouprank_contentwords(sentence))\n",
    "print(rare_words(sentence))"
   ]
  },
  {
   "cell_type": "code",
   "execution_count": 41,
   "id": "bde398f4",
   "metadata": {},
   "outputs": [
    {
     "name": "stdout",
     "output_type": "stream",
     "text": [
      "(292.688, 7890.457, 6.607, 1.23)\n",
      "3.472\n",
      "(401.057, 1204.319, 5.387)\n",
      "4.468\n",
      "(398.553, 3380.171, 5.004)\n",
      "4.407\n",
      "(535.05, 238.993, 3.521)\n",
      "5.667\n",
      "(0.528, 0.417, 0.281, 0.131)\n"
     ]
    }
   ],
   "source": [
    "sentence = \"Grave vulnus Macrinus noster accepit: amisit uxorem singularis exempli, etiam si olim fuisset. Vixit cum hac triginta novem annis sine iurgio, sine offensa. Quam illa reverentiam marito suo praestitit, cum ipsa summam mereretur! quot quantasque virtutes, ex diversis aetatibus sumptas, collegit et miscuit! Habet quidem Macrinus grande solacium, quod tantum bonum tam diu tenuit; sed hinc magis exacerbatur, quod amisit; nam fruendis voluptatibus crescit carendi dolor. Vale. Tristem et acerbum casum Helvidiarum sororum! Utraque a partu, utraque filiam enixa decessit. Afficior dolore, nec tamen supra modum doleo: ita mihi luctuosum videtur, quod puellas honestissimas in flore primo fecunditas abstulit. Angor infantium sorte, quae sunt parentibus statim et, dum nascuntur, orbatae, angor optimorum maritorum, angor etiam meo nomine. Nam patrem illarum defunctum quoque perseverantissime diligo, ut actione mea librisque testatum est; cui nunc unus ex tribus liberis superest, domumque pluribus adminiculis paulo ante fundatam desolatus sustinet. Magno tamen fomento dolor meus acquiescit, si hunc saltem fortem et incolumem, paremque illi patri, illi avo fortuna servaverit. Cuius ego pro salute, pro moribus hoc sum magis anxius, quod unicus factus est. Nosti in amore mollitiam animi mei, nosti metus; quo minus te mirari oportebit, quod plurimum timeam, de quo plurimum spero. Vale.\"\n",
    "print(count_rank(sentence))\n",
    "print(count_grouprank(sentence))\n",
    "print(count_content(sentence))\n",
    "print(count_content_group(sentence))\n",
    "print(count_words(sentence))\n",
    "print(count_grouprank_words(sentence))\n",
    "print(count_content_words(sentence))\n",
    "print(count_grouprank_contentwords(sentence))\n",
    "print(rare_words(sentence))"
   ]
  },
  {
   "cell_type": "code",
   "execution_count": 42,
   "id": "69a7e7e6",
   "metadata": {},
   "outputs": [
    {
     "name": "stdout",
     "output_type": "stream",
     "text": [
      "(262.349, 8436.167, 6.891, 0.324)\n",
      "3.172\n",
      "(367.977, 1318.242, 5.675)\n",
      "4.133\n",
      "(383.876, 3616.102, 5.281)\n",
      "4.285\n",
      "(527.586, 262.805, 3.773)\n",
      "5.617\n",
      "(0.505, 0.387, 0.247, 0.091)\n"
     ]
    }
   ],
   "source": [
    "sentence = \"Grave vulnus Macrinus noster accepit: amisit uxorem singularis exempli, etiam si olim fuisset. Vixit cum hac triginta novem annis sine iurgio, sine. Quam illa marito suo praestitit, cum ipsa summam mereretur! quot quantasque virtutes, ex diversis aetatibus sumptas, collegit et miscuit! Habet quidem Macrinus grande solacium, quod tantum bonum tam diu tenuit; sed hinc magis, quod amisit; nam fruendis voluptatibus crescit carendi dolor. Vale. Tristem et acerbum casum sororum! Utraque a partu, utraque filiam enixa decessit. Afficior dolore, nec tamen supra modum doleo: ita mihi videtur, quod puellas honestissimas in flore primo abstulit. Angor infantium sorte, quae sunt parentibus statim et, dum nascuntur, orbatae, angor optimorum maritorum, angor etiam meo nomine. Nam patrem illarum quoque diligo, ut actione mea librisque testatum est; cui nunc unus ex tribus liberis superest, domumque pluribus paulo ante sustinet. Magno tamen dolor meus, si hunc saltem fortem et incolumem, paremque illi patri, illi avo fortuna servaverit. Cuius ego pro salute, pro moribus hoc sum magis anxius, quod unicus factus est. Nosti in amore mollitiam animi mei, nosti metus; quo minus te mirari oportebit, quod plurimum timeam, de quo plurimum spero. Vale.\"\n",
    "print(count_rank(sentence))\n",
    "print(count_grouprank(sentence))\n",
    "print(count_content(sentence))\n",
    "print(count_content_group(sentence))\n",
    "print(count_words(sentence))\n",
    "print(count_grouprank_words(sentence))\n",
    "print(count_content_words(sentence))\n",
    "print(count_grouprank_contentwords(sentence))\n",
    "print(rare_words(sentence))"
   ]
  },
  {
   "cell_type": "code",
   "execution_count": 43,
   "id": "7d9c9a69",
   "metadata": {},
   "outputs": [
    {
     "name": "stdout",
     "output_type": "stream",
     "text": [
      "(336.367, 7325.399, 6.073, 1.13)\n",
      "3.858\n",
      "(411.625, 1119.267, 5.144)\n",
      "4.528\n",
      "(416.876, 3352.917, 4.425)\n",
      "4.541\n",
      "(506.642, 214.511, 3.321)\n",
      "5.358\n",
      "(0.56, 0.477, 0.349, 0.17)\n"
     ]
    }
   ],
   "source": [
    "sentence = \"Flebilis indignos, Elegia, solve capillos! A, nimis ex vero nunc tibi nomen erit! Ille tui vates operis, tua fama, Tibullus ardet in exstructo, corpus inane, rogo. Ecce, puer Veneris fert eversamque pharetram et fractos arcus et sine luce facem; adspice, demissis ut eat miserabilis alis pectoraque infesta tundat aperta manu! Excipiunt lacrimas sparsi per colla capilli, oraque singultu concutiente sonant. Fratris in Aeneae sic illum funere dicunt egressum tectis, pulcher Iule, tuis; at sacri vates et divum cura vocamur; sunt etiam, qui nos numen habere putent. Scilicet omne sacrum mors inportuna profanat, omnibus obscuras inicit illa manus! Cum rapiunt mala fata bonos, ignoscite fasso!, sollicitor nullos esse putare deos. Vive pius, moriere; pius cole sacra, colentem mors gravis a templis in cava busta trahet; carminibus confide bonis — iacet, ecce, Tibullus: vix manet e toto, parva quod urna capit! Tene, sacer vates, flammae rapuere rogales pectoribus pasci nec timuere tuis? Avertit vultus, Erycis quae possidet arces; sunt quoque, qui lacrimas continuisse negant. Si tamen e nobis aliquid nisi nomen et umbra restat, in Elysia valle Tibullus erit. Obvius huic venias hedera iuvenalia cinctus tempora cum Calvo, docte Catulle, tuo. His comes umbra tua est; siqua est modo corporis umbra, auxisti numeros, culte Tibulle, pios. Ossa quieta, precor, tuta requiescite in urna, et sit humus cineri non onerosa tuo!\"\n",
    "print(count_rank(sentence))\n",
    "print(count_grouprank(sentence))\n",
    "print(count_content(sentence))\n",
    "print(count_content_group(sentence))\n",
    "print(count_words(sentence))\n",
    "print(count_grouprank_words(sentence))\n",
    "print(count_content_words(sentence))\n",
    "print(count_grouprank_contentwords(sentence))\n",
    "print(rare_words(sentence))"
   ]
  },
  {
   "cell_type": "code",
   "execution_count": 44,
   "id": "6692f048",
   "metadata": {},
   "outputs": [
    {
     "name": "stdout",
     "output_type": "stream",
     "text": [
      "(325.598, 7824.721, 6.351, 0.612)\n",
      "3.77\n",
      "(404.568, 1211.71, 5.414)\n",
      "4.475\n",
      "(418.863, 3582.294, 4.649)\n",
      "4.578\n",
      "(516.901, 232.136, 3.508)\n",
      "5.475\n",
      "(0.559, 0.471, 0.333, 0.152)\n"
     ]
    }
   ],
   "source": [
    "sentence = \"solve capillos! A, nimis ex vero nunc tibi nomen erit! Ille tui vates operis, tua fama, Tibullus ardet in exstructo, corpus inane, rogo. Ecce, puer Veneris fert eversamque pharetram et fractos arcus et sine luce facem; adspice, demissis ut eat miserabilis alis pectoraque infesta tundat manu! Excipiunt lacrimas sparsi per colla capilli, oraque concutiente sonant. Fratris in Aeneae sic illum funere dicunt egressum tectis, pulcher tuis; at sacri vates et divum cura vocamur; sunt etiam, qui nos numen habere putent. Scilicet omne sacrum mors omnibus obscuras inicit illa manus! Cum rapiunt mala fata bonos ignoscite fasso! sollicitor nullos esse putare deos. Vive pius moriere; pius cole sacra colentem mors gravis a templis in cava trahet; carminibus confide bonis iacet, ecce, Tibullus: vix manet e toto, parva quod capit! Tene, sacer vates, flammae rapuere pectoribus pasci nec timuere tuis? Avertit vultus, quae possidet arces; sunt quoque, qui lacrimas continuisse negant. Si tamen e nobis aliquid nisi nomen et umbra restat, in valle Tibullus erit. Obvius huic venias hedera iuvenalia cinctus tempora cum Calvo, docte Catulle, tuo. His comes umbra tua est; siqua est modo corporis umbra, auxisti numeros, culte Tibulle, pios. Ossa quieta, precor, tuta requiescite in urna, et sit humus cineri non onerosa tuo!\"\n",
    "print(count_rank(sentence))\n",
    "print(count_grouprank(sentence))\n",
    "print(count_content(sentence))\n",
    "print(count_content_group(sentence))\n",
    "print(count_words(sentence))\n",
    "print(count_grouprank_words(sentence))\n",
    "print(count_content_words(sentence))\n",
    "print(count_grouprank_contentwords(sentence))\n",
    "print(rare_words(sentence))"
   ]
  },
  {
   "cell_type": "code",
   "execution_count": 45,
   "id": "a269186c",
   "metadata": {},
   "outputs": [
    {
     "name": "stdout",
     "output_type": "stream",
     "text": [
      "(194.827, 9855.622, 6.78, 0.128)\n",
      "2.449\n",
      "(271.713, 1707.565, 5.415)\n",
      "3.083\n",
      "(323.109, 3624.417, 5.218)\n",
      "3.654\n",
      "(433.87, 338.491, 3.702)\n",
      "4.639\n",
      "(0.429, 0.295, 0.141, 0.051)\n"
     ]
    }
   ],
   "source": [
    "sentence = \"Consul ubi ea parari cognovit, dispositis praesidiis, ut res atque tempus monebat, convocato senatu refert, quid de iis fieri placeat, qui in custodiam traditi erant. Sed eos paulo ante frequens senatus iudicaverat contra rem publicam fecisse. Tum D. Iunius Silanus primus sententiam rogatus, quod eo tempore consul designatus erat, de iis, qui in custodiis tenebantur, et praeterea de L. Cassio, P. Furio, P. Umbreno, Q. Annio, si deprehensi forent, supplicium sumundum decreverat; isque postea permotus oratione C. Caesaris pedibus in sententiam Ti. Neronis iturum se dixit, qui de ea re praesidiis additis referundum censuerat. Sed Caesar, ubi ad eum ventum est, rogatus sententiam a consule huiusce modi verba locutus est: Omnis homines, patres conscripti, qui de rebus dubiis consultant, ab odio, amicitia, ira atque misericordia vacuos esse decet. Haud facile animus verum providet, ubi illa officiunt, neque quisquam omnium lubidini simul et usui paruit. Ubi intenderis ingenium, valet; si lubido possidet, ea dominatur, animus nihil valet.\"\n",
    "print(count_rank(sentence))\n",
    "print(count_grouprank(sentence))\n",
    "print(count_content(sentence))\n",
    "print(count_content_group(sentence))\n",
    "print(count_words(sentence))\n",
    "print(count_grouprank_words(sentence))\n",
    "print(count_content_words(sentence))\n",
    "print(count_grouprank_contentwords(sentence))\n",
    "print(rare_words(sentence))"
   ]
  },
  {
   "cell_type": "code",
   "execution_count": 46,
   "id": "dd3fca9e",
   "metadata": {},
   "outputs": [
    {
     "name": "stdout",
     "output_type": "stream",
     "text": [
      "(187.295, 10031.174, 6.769, 0.123)\n",
      "2.369\n",
      "(263.363, 1756.265, 5.356)\n",
      "2.99\n",
      "(310.839, 3539.007, 5.247)\n",
      "3.53\n",
      "(419.314, 351.529, 3.706)\n",
      "4.49\n",
      "(0.409, 0.282, 0.134, 0.047)\n"
     ]
    }
   ],
   "source": [
    "sentence = \"Consul ubi ea parari cognovit, dispositis praesidiis, ut res atque tempus monebat, convocato senatu refert, quid de iis fieri placeat, qui in custodiam traditi erant. Sed eos paulo ante frequens senatus iudicaverat contra rem publicam fecisse. Tum D. Iunius Silanus primus sententiam rogatus, quod eo tempore consul designatus erat, de iis, qui in custodiis tenebantur, et praeterea de L. Cassio, P. Furio, P. Umbreno, Q. Annio, si deprehensi forent, decreverat; isque postea permotus oratione C. Caesaris Ti. Neronis se dixit, qui de ea re praesidiis additis referundum censuerat. Sed Caesar, ubi ad eum ventum est, rogatus sententiam a consule huiusce modi verba locutus est: Omnis homines, patres conscripti, qui de rebus dubiis consultant, ab odio, amicitia, ira atque misericordia vacuos esse decet. Haud facile animus verum providet, ubi illa, neque quisquam omnium lubidini simul et usui paruit. Ubi intenderis ingenium, valet; si lubido possidet, ea dominatur, animus nihil valet.\"\n",
    "print(count_rank(sentence))\n",
    "print(count_grouprank(sentence))\n",
    "print(count_content(sentence))\n",
    "print(count_content_group(sentence))\n",
    "print(count_words(sentence))\n",
    "print(count_grouprank_words(sentence))\n",
    "print(count_content_words(sentence))\n",
    "print(count_grouprank_contentwords(sentence))\n",
    "print(rare_words(sentence))"
   ]
  },
  {
   "cell_type": "code",
   "execution_count": 47,
   "id": "41e9b858",
   "metadata": {},
   "outputs": [
    {
     "name": "stdout",
     "output_type": "stream",
     "text": [
      "(417.047, 8450.068, 6.34, 2.548)\n",
      "4.745\n",
      "(540.83, 932.796, 5.181)\n",
      "5.891\n",
      "(509.724, 3331.812, 4.519)\n",
      "5.5\n",
      "(645.946, 122.98, 3.199)\n",
      "6.762\n",
      "(0.651, 0.547, 0.411, 0.302)\n"
     ]
    }
   ],
   "source": [
    "sentence = \"prominet in pontum cuneatus acumine longo collis (utrumque latus circumfluit aequoris unda): huc ferus adscendit Cyclops mediusque resedit; lanigerae pecudes nullo ducente secutae. cui postquam pinus, baculi quae praebuit usum, ante pedes posita est antemnis apta ferendis sumptaque harundinibus conpacta est fistula centum, senserunt toti pastoria sibila montes, senserunt undae; latitans ego rupe meique Acidis in gremio residens procul auribus hausi talia dicta meis auditaque mente notavi: Candidior folio nivei Galatea ligustri, floridior pratis, longa procerior alno, splendidior vitro, tenero lascivior haedo, levior adsiduo detritis aequore conchis, solibus hibernis, aestiva gratior umbra. sunt mihi, pars montis, vivo pendentia saxo antra, quibus nec sol medio sentitur in aestu, nec sentitur hiems; sunt poma gravantia ramos, sunt auro similes longis in vitibus uvae, sunt et purpureae: tibi et has servamus et illas. nec tibi castaneae me coniuge, nec tibi deerunt arbutei fetus: omnis tibi serviet arbor. Iam modo caeruleo nitidum caput exsere ponto, iam, Galatea, veni, nec munera despice nostra! certe ego me novi liquidaeque in imagine vidi nuper aquae, placuitque mihi mea forma videnti. adspice, sim quantus: non est hoc corpore maior Iuppiter in caelo, nam vos narrare soletis nescio quem regnare Iovem.\"\n",
    "print(count_rank(sentence))\n",
    "print(count_grouprank(sentence))\n",
    "print(count_content(sentence))\n",
    "print(count_content_group(sentence))\n",
    "print(count_words(sentence))\n",
    "print(count_grouprank_words(sentence))\n",
    "print(count_content_words(sentence))\n",
    "print(count_grouprank_contentwords(sentence))\n",
    "print(rare_words(sentence))"
   ]
  },
  {
   "cell_type": "code",
   "execution_count": 48,
   "id": "eda6a5bf",
   "metadata": {},
   "outputs": [
    {
     "name": "stdout",
     "output_type": "stream",
     "text": [
      "(370.31, 9454.246, 6.746, 1.057)\n",
      "4.287\n",
      "(498.032, 1042.73, 5.539)\n",
      "5.46\n",
      "(485.433, 3739.316, 4.902)\n",
      "5.292\n",
      "(635.683, 141.214, 3.498)\n",
      "6.69\n",
      "(0.62, 0.509, 0.357, 0.234)\n"
     ]
    }
   ],
   "source": [
    "sentence = \"in pontum acumine longo collis (utrumque latus aequoris unda): huc ferus adscendit Cyclops mediusque resedit; lanigerae pecudes nullo ducente secutae. cui postquam pinus, baculi quae praebuit usum, ante pedes posita est apta  sumptaque harundinibus est fistula centum, senserunt toti montes, senserunt undae; ego rupe meique in gremio residens procul auribus hausi talia dicta meis auditaque mente notavi: Candidior folio nivei Galatea, pratis, longa alno, splendidior, tenero lascivior haedo, levior adsiduo aequore conchis, solibus, aestiva gratior umbra. sunt mihi, pars montis, pendentia saxo, quibus nec sol medio sentitur in aestu, nec sentitur hiems; sunt poma gravantia ramos, sunt auro similes longis in vitibus uvae, sunt et purpureae: tibi et has servamus et illas. nec tibi castaneae me coniuge, nec tibi deerunt: omnis tibi serviet arbor. Iam modo caeruleo nitidum caput ponto, iam, Galatea, veni, nec munera despice nostra! certe ego me novi liquidaeque in imagine vidi nuper aquae, placuitque mihi mea forma videnti. adspice, sim quantus: non est hoc corpore maior Iuppiter in caelo, nam vos narrare soletis nescio quem regnare Iovem.\"\n",
    "print(count_rank(sentence))\n",
    "print(count_grouprank(sentence))\n",
    "print(count_content(sentence))\n",
    "print(count_content_group(sentence))\n",
    "print(count_words(sentence))\n",
    "print(count_grouprank_words(sentence))\n",
    "print(count_content_words(sentence))\n",
    "print(count_grouprank_contentwords(sentence))\n",
    "print(rare_words(sentence))"
   ]
  },
  {
   "cell_type": "code",
   "execution_count": 49,
   "id": "afee8803",
   "metadata": {},
   "outputs": [
    {
     "name": "stdout",
     "output_type": "stream",
     "text": [
      "(204.428, 9932.591, 7.323, 0.187)\n",
      "2.635\n",
      "(308.684, 2258.105, 5.957)\n",
      "3.541\n",
      "(300.053, 4679.784, 5.678)\n",
      "3.438\n",
      "(430.534, 444.564, 3.964)\n",
      "4.594\n",
      "(0.394, 0.26, 0.197, 0.096)\n"
     ]
    }
   ],
   "source": [
    "sentence = \"Quamquam huiusce rei potestas omnis in vobis sita est, iudices; totam rem publicam vos in hac causa tenetis, vos gubernatis. Si L. Catilina cum suo consilio nefariorum hominum quos secum eduxit hac de re posset iudicare, condemnaret L. Murenam, si interficere posset, occideret. Petunt enim rationes illius ut orbetur auxilio res publica, ut minuatur contra suum furorem imperatorum copia, ut maior facultas tribunis plebis detur depulso adversario seditionis ac discordiae concitandae. Idemne igitur delecti ex amplissimis ordinibus honestissimi atque sapientissimi viri iudicabunt quod ille importunissimus gladiator, hostis rei publicae iudicaret? Mihi credite, iudices, in hac causa non solum de L. Murenae verum etiam de vestra salute sententiam feretis. In discrimen extremum venimus; nihil est iam unde nos reficiamus aut ubi lapsi resistamus. Non solum minuenda non sunt auxilia quae habemus sed etiam nova, si fieri possit, comparanda. Hostis est enim non apud Anienem, quod bello Punico gravissimum visum est, sed in urbe, in foro; di immortales! sine gemitu hoc dici non potest, non nemo etiam in illo sacrario rei publicae, in ipsa, inquam, curia non nemo hostis est. Di faxint ut meus conlega, vir fortissimus, hoc Catilinae nefarium latrocinium armatus opprimat! ego togatus vobis bonisque omnibus adiutoribus hoc quod conceptum res publica periculum parturit consilio discutiam et comprimam.\"\n",
    "print(count_rank(sentence))\n",
    "print(count_grouprank(sentence))\n",
    "print(count_content(sentence))\n",
    "print(count_content_group(sentence))\n",
    "print(count_words(sentence))\n",
    "print(count_grouprank_words(sentence))\n",
    "print(count_content_words(sentence))\n",
    "print(count_grouprank_contentwords(sentence))\n",
    "print(rare_words(sentence))"
   ]
  },
  {
   "cell_type": "code",
   "execution_count": 50,
   "id": "b5b05fa8",
   "metadata": {},
   "outputs": [
    {
     "name": "stdout",
     "output_type": "stream",
     "text": [
      "(196.639, 10201.743, 7.401, 0.155)\n",
      "2.559\n",
      "(301.22, 2323.63, 6.017)\n",
      "3.465\n",
      "(290.931, 4817.059, 5.795)\n",
      "3.356\n",
      "(422.189, 462.819, 4.069)\n",
      "4.52\n",
      "(0.386, 0.252, 0.188, 0.089)\n"
     ]
    }
   ],
   "source": [
    "sentence = \"Quamquam huiusce rei potestas omnis in vobis sita est, iudices; totam rem publicam vos in hac causa tenetis, vos gubernatis. Si L. Catilina cum suo consilio nefariorum hominum quos secum eduxit hac de re posset iudicare, condemnaret L. Murenam, si interficere posset, occideret. Petunt enim rationes illius ut orbetur auxilio res publica, ut minuatur contra suum furorem imperatorum copia, ut maior facultas tribunis plebis detur depulso adversario seditionis ac discordiae concitandae. Idemne igitur delecti ex amplissimis ordinibus honestissimi atque sapientissimi viri iudicabunt quod ille importunissimus gladiator, hostis rei publicae iudicaret? Mihi credite, iudices, in hac causa non solum de L. Murenae verum etiam de vestra salute. In discrimen extremum venimus; nihil est iam unde nos reficiamus aut ubi lapsi. Non solum minuenda non sunt auxilia quae habemus sed etiam nova, si fieri possit, comparanda. Hostis est enim non apud, quod bello Punico gravissimum visum est, sed in urbe, in foro; di immortales! sine gemitu hoc dici non potest, non nemo etiam in illo sacrario rei publicae, in ipsa, inquam, curia non nemo hostis est. Di faxint ut meus conlega, vir fortissimus, hoc Catilinae nefarium latrocinium armatus opprimat! ego togatus vobis bonisque omnibus adiutoribus hoc quod conceptum res publica periculum consilio et comprimam.\"\n",
    "print(count_rank(sentence))\n",
    "print(count_grouprank(sentence))\n",
    "print(count_content(sentence))\n",
    "print(count_content_group(sentence))\n",
    "print(count_words(sentence))\n",
    "print(count_grouprank_words(sentence))\n",
    "print(count_content_words(sentence))\n",
    "print(count_grouprank_contentwords(sentence))\n",
    "print(rare_words(sentence))"
   ]
  },
  {
   "cell_type": "code",
   "execution_count": 51,
   "id": "d8c51aee",
   "metadata": {},
   "outputs": [
    {
     "name": "stdout",
     "output_type": "stream",
     "text": [
      "(255.302, 7612.274, 6.845, 1.316)\n",
      "3.128\n",
      "(390.378, 1460.189, 5.294)\n",
      "4.369\n",
      "(347.402, 3679.363, 5.238)\n",
      "3.916\n",
      "(492.027, 217.586, 3.361)\n",
      "5.225\n",
      "(0.486, 0.352, 0.235, 0.156)\n"
     ]
    }
   ],
   "source": [
    "sentence = \"Per pol quam paucos reperias meretricibus fidelis evenire amatores, Syra. vel hic Pamphilus iurabat quotiens Bacchidi, quam sancte, uti quivis facile posset credere, numquam illa viva ducturum uxorem domum! em duxit. ergo propterea te sedulo et moneo et hortor ne quoiusquam misereat, quin spolies mutiles laceres quemque nacta sis. utine eximium neminem habeam? neminem: nam nemo illorum quisquam, scito, ad te venit quin ita paret sese abs te ut blanditiis suis quam minimo pretio suam voluptatem expleat. hiscin tu amabo non contra insidiabere? tamen pol eandem iniuriumst esse omnibus. iniurium autem est ulcisci advorsarios, aut qua via te captent eadem ipsos capi? eheu me miseram, quor non aut istaec mihi aetas et formast aut tibi haec sententia? Senex si quaeret me, modo isse dicito ad portum percontatum adventum Pamphili. audin quid dicam, Scirte? si quaeret me, uti tum dicas; si non quaeret, nullus dixeris, alias ut uti possim causa hac integra. sed videon ego Philotium? unde haec advenit? Philotis, salve multum. o salve, Parmeno. salve mecastor, Parmeno. et tu edepol, Syra. dic mi, ubi, Philotis, te oblectasti iam diu?\"\n",
    "print(count_rank(sentence))\n",
    "print(count_grouprank(sentence))\n",
    "print(count_content(sentence))\n",
    "print(count_content_group(sentence))\n",
    "print(count_words(sentence))\n",
    "print(count_grouprank_words(sentence))\n",
    "print(count_content_words(sentence))\n",
    "print(count_grouprank_contentwords(sentence))\n",
    "print(rare_words(sentence))"
   ]
  },
  {
   "cell_type": "code",
   "execution_count": 52,
   "id": "a9551e60",
   "metadata": {},
   "outputs": [
    {
     "name": "stdout",
     "output_type": "stream",
     "text": [
      "(248.96, 7719.886, 6.886, 1.047)\n",
      "3.068\n",
      "(383.796, 1464.667, 5.317)\n",
      "4.306\n",
      "(341.216, 3740.602, 5.269)\n",
      "3.852\n",
      "(485.963, 221.222, 3.359)\n",
      "5.157\n",
      "(0.483, 0.347, 0.227, 0.148)\n"
     ]
    }
   ],
   "source": [
    "sentence = \"Per pol quam paucos reperias meretricibus fidelis evenire amatores, Syra. vel hic Pamphilus iurabat quotiens Bacchidi, quam sancte, uti quivis facile posset credere, numquam illa viva ducturum uxorem domum! em duxit. ergo propterea te sedulo et moneo et hortor ne quoiusquam misereat, quin spolies mutiles laceres quemque nacta sis. utine eximium neminem habeam? neminem: nam nemo illorum quisquam, scito, ad te venit quin ita paret sese abs te ut blanditiis suis quam minimo pretio suam voluptatem expleat. hiscin tu amabo non contra insidiabere? tamen pol eandem iniuriumst esse omnibus. iniurium autem est ulcisci advorsarios, aut qua via te captent eadem ipsos capi? eheu me miseram, quor non aut istaec mihi aetas et formast aut tibi haec sententia? Senex si quaeret me, modo isse dicito ad portum percontatum adventum Pamphili. audin quid dicam, Scirte? si quaeret me, uti tum dicas; si non quaeret, dixeris, alias ut uti possim causa hac integra. sed videon ego Philotium? unde haec advenit? Philotis, salve multum. o salve, Parmeno. salve, Parmeno. et tu, Syra. dic mi, ubi, Philotis, te oblectasti iam diu?\"\n",
    "print(count_rank(sentence))\n",
    "print(count_grouprank(sentence))\n",
    "print(count_content(sentence))\n",
    "print(count_content_group(sentence))\n",
    "print(count_words(sentence))\n",
    "print(count_grouprank_words(sentence))\n",
    "print(count_content_words(sentence))\n",
    "print(count_grouprank_contentwords(sentence))\n",
    "print(rare_words(sentence))"
   ]
  },
  {
   "cell_type": "code",
   "execution_count": 10,
   "id": "e3a542f8",
   "metadata": {},
   "outputs": [
    {
     "name": "stdout",
     "output_type": "stream",
     "text": [
      "(243.309, 9203.577, 6.989, 0.328)\n",
      "3.015\n",
      "(325.859, 2078.556, 5.924)\n",
      "3.746\n",
      "(377.809, 3274.598, 5.159)\n",
      "4.232\n",
      "(492.972, 343.887, 3.87)\n",
      "5.289\n",
      "(0.485, 0.345, 0.206, 0.129)\n"
     ]
    }
   ],
   "source": [
    "sentence = \"Quibus rebus cognitis Caesar apud milites contionatur. Omnium temporum iniurias inimicorum in se commemorat; a quibus deductum ac depravatum Pompeium queritur invidia atque obtrectatione laudis suae, cuius ipse honori et dignitati semper faverit adiutorque fuerit. Novum in re publica introductum exemplum queritur, ut tribunicia intercessio armis votaretur atque opprimeretur, quae superioribus annis sine armis esset restituta. Sullam nudata omnibus rebus tribunicia potestate tamen intercessionem liberam reliquisse. Pompeium, qui amissa restituisse videatur, bona etiam, quae ante habuerint, ademisse. Quotienscumque sit decretum, darent operam magistratus, ne quid res publica detrimenti caperet (qua voce et quo senatus consulto populus Romanus ad arma sit vocatus), factum in perniciosis legibus, in vi tribunicia, in secessione populi templis locisque editioribus occupatis: atque haec superioris aetatis exempla expiata Saturnini atque Gracchorum casibus docet; quarum rerum illo tempore nihil factum, ne cogitatum quidem. nulla lex promulgata, non cum populo agi coeptum, nulla secessio facta. Hortatur, cuius imperatoris ductu novem annis rem publicam felicissime gesserint plurimaque proelia secunda fecerint, omnem Galliam Germaniamque pacaverint, ut eius existimationem dignitatemque ab inimicis defendant. Conclamant legionis tredecem, quae aderat, milites, hanc enim initio tumultus evocaverat, reliquae nondum convenerant, sese paratos esse imperatoris sui tribunorumque plebis iniurias defendere.\"\n",
    "print(count_rank(sentence))\n",
    "print(count_grouprank(sentence))\n",
    "print(count_content(sentence))\n",
    "print(count_content_group(sentence))\n",
    "print(count_words(sentence))\n",
    "print(count_grouprank_words(sentence))\n",
    "print(count_content_words(sentence))\n",
    "print(count_grouprank_contentwords(sentence))\n",
    "print(rare_words(sentence))"
   ]
  },
  {
   "cell_type": "code",
   "execution_count": 11,
   "id": "13fbf613",
   "metadata": {},
   "outputs": [
    {
     "name": "stdout",
     "output_type": "stream",
     "text": [
      "(236.268, 9365.126, 7.025, 0.27)\n",
      "2.942\n",
      "(318.558, 2094.457, 5.942)\n",
      "3.667\n",
      "(376.305, 3339.474, 5.207)\n",
      "4.221\n",
      "(494.239, 348.261, 3.899)\n",
      "5.304\n",
      "(0.479, 0.337, 0.2, 0.121)\n"
     ]
    }
   ],
   "source": [
    "sentence = \"Quibus rebus cognitis Caesar apud milites contionatur. Omnium temporum iniurias inimicorum in se commemorat; a quibus deductum ac depravatum Pompeium queritur invidia atque laudis suae, cuius ipse honori et dignitati semper faverit adiutorque fuerit. Novum in re publica introductum exemplum queritur, ut tribunicia intercessio armis atque opprimeretur, quae superioribus annis sine armis esset restituta. Sullam nudata omnibus rebus tribunicia potestate tamen intercessionem liberam reliquisse. Pompeium, qui amissa restituisse videatur, etiam, quae ante habuerint, ademisse. Quotienscumque sit decretum, darent operam magistratus, ne quid res publica detrimenti caperet (qua voce et quo senatus consulto populus Romanus ad arma sit vocatus), factum in perniciosis legibus, in vi tribunicia, in secessione populi templis locisque editioribus occupatis: atque haec superioris aetatis exempla expiata Saturnini atque Gracchorum casibus docet; quarum rerum illo tempore nihil factum, ne cogitatum quidem. nulla lex promulgata, non cum populo agi coeptum, nulla secessio facta. Hortatur, cuius imperatoris novem annis rem publicam felicissime gesserint plurimaque proelia secunda fecerint, omnem Galliam Germaniamque pacaverint, ut eius existimationem dignitatemque ab inimicis defendant. Conclamant legionis tredecem, quae aderat, milites, hanc enim initio tumultus evocaverat, reliquae nondum convenerant, sese paratos esse imperatoris sui tribunorumque plebis iniurias defendere.\"\n",
    "print(count_rank(sentence))\n",
    "print(count_grouprank(sentence))\n",
    "print(count_content(sentence))\n",
    "print(count_content_group(sentence))\n",
    "print(count_words(sentence))\n",
    "print(count_grouprank_words(sentence))\n",
    "print(count_content_words(sentence))\n",
    "print(count_grouprank_contentwords(sentence))\n",
    "print(rare_words(sentence))"
   ]
  },
  {
   "cell_type": "code",
   "execution_count": 12,
   "id": "938c8362",
   "metadata": {},
   "outputs": [
    {
     "name": "stdout",
     "output_type": "stream",
     "text": [
      "(318.625, 9012.068, 6.52, 0.721)\n",
      "3.705\n",
      "(419.381, 1302.714, 5.339)\n",
      "4.635\n",
      "(404.068, 4568.648, 5.08)\n",
      "4.443\n",
      "(541.302, 207.46, 3.559)\n",
      "5.714\n",
      "(0.545, 0.455, 0.307, 0.182)\n"
     ]
    }
   ],
   "source": [
    "sentence = \"Intumuit Iuno, postquam inter sidera paelex fulsit, et ad canam descendit in aequora Tethyn Oceanumque senem, quorum reverentia movit saepe deos, causamque viae scitantibus infit: quaeritis, aetheriis quare regina deorum sedibus huc adsim? pro me tenet altera caelum! o ego quantum egi! quam vasta potentia nostra est. esse hominem vetui: facta est dea! sic ego poenas sontibus inpono, sic est mea magna potestas! vindicet antiquam faciem vultusque ferinos detrahat, Argolica quod in ante Phoronide fecit cur non et pulsa ducit Iunone meoque collocat in thalamo socerumque Lycaona sumit?\"\n",
    "print(count_rank(sentence))\n",
    "print(count_grouprank(sentence))\n",
    "print(count_content(sentence))\n",
    "print(count_content_group(sentence))\n",
    "print(count_words(sentence))\n",
    "print(count_grouprank_words(sentence))\n",
    "print(count_content_words(sentence))\n",
    "print(count_grouprank_contentwords(sentence))\n",
    "print(rare_words(sentence))"
   ]
  },
  {
   "cell_type": "code",
   "execution_count": 13,
   "id": "937eac5b",
   "metadata": {},
   "outputs": [
    {
     "name": "stdout",
     "output_type": "stream",
     "text": [
      "(317.098, 9652.561, 6.841, 0.579)\n",
      "3.707\n",
      "(427.789, 1412.614, 5.677)\n",
      "4.737\n",
      "(406.183, 4901.232, 5.364)\n",
      "4.488\n",
      "(558.789, 226.842, 3.807)\n",
      "5.912\n",
      "(0.549, 0.463, 0.305, 0.171)\n"
     ]
    }
   ],
   "source": [
    "sentence = \"Intumuit Iuno, postquam inter sidera paelex fulsit, et ad canam descendit in aequora Tethyn Oceanumque senem, quorum reverentia movit saepe deos, causamque viae infit: quaeritis, aetheriis quare regina deorum sedibus huc adsim? pro me tenet altera caelum! o ego quantum egi! quam vasta potentia nostra est. esse hominem vetui: facta est dea! sic ego poenas inpono, sic est mea magna potestas! vindicet antiquam faciem vultusque ferinos detrahat, quod in ante fecit cur non et pulsa Iunone meoque collocat in thalamo socerumque sumit?\"\n",
    "print(count_rank(sentence))\n",
    "print(count_grouprank(sentence))\n",
    "print(count_content(sentence))\n",
    "print(count_content_group(sentence))\n",
    "print(count_words(sentence))\n",
    "print(count_grouprank_words(sentence))\n",
    "print(count_content_words(sentence))\n",
    "print(count_grouprank_contentwords(sentence))\n",
    "print(rare_words(sentence))"
   ]
  },
  {
   "cell_type": "code",
   "execution_count": 14,
   "id": "93604e00",
   "metadata": {},
   "outputs": [
    {
     "name": "stdout",
     "output_type": "stream",
     "text": [
      "(346.28, 7195.688, 6.151, 1.369)\n",
      "3.995\n",
      "(437.883, 1223.876, 5.107)\n",
      "4.834\n",
      "(453.758, 4500.715, 4.568)\n",
      "4.957\n",
      "(561.214, 172.772, 3.328)\n",
      "5.938\n",
      "(0.565, 0.484, 0.371, 0.215)\n"
     ]
    }
   ],
   "source": [
    "sentence = \"Aeneas scopulum interea conscendit, et omnem prospectum late pelago petit, Anthea si quem iactatum vento videat Phrygiasque biremis, aut Capyn, aut celsis in puppibus arma Caici. Navem in conspectu nullam, tris litore cervos prospicit errantis; hos tota armenta sequuntur a tergo, et longum per vallis pascitur agmen. Constitit hic, arcumque manu celerisque sagittas corripuit, fidus quae tela gerebat Achates; ductoresque ipsos primum, capita alta ferentis cornibus arboreis, sternit, tum volgus, et omnem miscet agens telis nemora inter frondea turbam; nec prius absistit, quam septem ingentia victor corpora fundat humi, et numerum cum navibus aequet. Hinc portum petit, et socios partitur in omnes. Vina bonus quae deinde cadis onerarat Acestes litore Trinacrio dederatque abeuntibus heros, dividit, et dictis maerentia pectora mulcet: O socii, neque enim ignari sumus ante malorum, O passi graviora, dabit deus his quoque finem. Vos et Scyllaeam rabiem penitusque sonantis accestis scopulos, vos et Cyclopea saxa experti: revocate animos, maestumque timorem mittite: forsan et haec olim meminisse iuvabit. Per varios casus, per tot discrimina rerum tendimus in Latium; sedes ubi fata quietas ostendunt; illic fas regna resurgere Troiae. Durate, et vosmet rebus servate secundis.\"\n",
    "print(count_rank(sentence))\n",
    "print(count_grouprank(sentence))\n",
    "print(count_content(sentence))\n",
    "print(count_content_group(sentence))\n",
    "print(count_words(sentence))\n",
    "print(count_grouprank_words(sentence))\n",
    "print(count_content_words(sentence))\n",
    "print(count_grouprank_contentwords(sentence))\n",
    "print(rare_words(sentence))"
   ]
  },
  {
   "cell_type": "code",
   "execution_count": 15,
   "id": "e7c395ef",
   "metadata": {},
   "outputs": [
    {
     "name": "stdout",
     "output_type": "stream",
     "text": [
      "(345.163, 7777.547, 6.524, 1.089)\n",
      "4.006\n",
      "(446.206, 1349.634, 5.485)\n",
      "4.939\n",
      "(463.43, 4866.512, 4.856)\n",
      "5.081\n",
      "(585.397, 190.527, 3.573)\n",
      "6.206\n",
      "(0.576, 0.488, 0.366, 0.209)\n"
     ]
    }
   ],
   "source": [
    "sentence = \"Aeneas scopulum interea conscendit, et omnem prospectum late pelago petit, si quem iactatum vento videat, aut, aut celsis in puppibus arma. Navem in conspectu nullam, tris litore cervos prospicit errantis; hos tota armenta sequuntur a tergo, et longum per vallis pascitur agmen. Constitit hic, arcumque manu celerisque sagittas corripuit, fidus quae tela gerebat; ductoresque ipsos primum, capita alta ferentis cornibus arboreis, tum, et omnem miscet agens telis nemora inter turbam; nec prius absistit, quam septem ingentia victor corpora fundat humi, et numerum cum navibus aequet. Hinc portum petit, et socios partitur in omnes. Vina bonus quae deinde cadis onerarat litore dederatque abeuntibus heros, dividit, et dictis maerentia pectora mulcet: O socii, neque enim ignari sumus ante malorum, O passi graviora, dabit deus his quoque finem. Vos et rabiem sonantis accestis scopulos, vos et Cyclopea saxa experti: revocate animos, maestumque timorem mittite: et haec olim meminisse iuvabit. Per varios casus, per tot discrimina rerum tendimus in Latium; sedes ubi fata quietas ostendunt; illic fas regna resurgere Troiae. Durate, et vosmet rebus servate secundis.\"\n",
    "print(count_rank(sentence))\n",
    "print(count_grouprank(sentence))\n",
    "print(count_content(sentence))\n",
    "print(count_content_group(sentence))\n",
    "print(count_words(sentence))\n",
    "print(count_grouprank_words(sentence))\n",
    "print(count_content_words(sentence))\n",
    "print(count_grouprank_contentwords(sentence))\n",
    "print(rare_words(sentence))"
   ]
  },
  {
   "cell_type": "code",
   "execution_count": 16,
   "id": "e196f4fa",
   "metadata": {},
   "outputs": [
    {
     "name": "stdout",
     "output_type": "stream",
     "text": [
      "(227.366, 5678.049, 5.669, 0.617)\n",
      "2.699\n",
      "(283.202, 1173.319, 4.552)\n",
      "3.16\n",
      "(315.976, 1863.748, 4.449)\n",
      "3.561\n",
      "(389.851, 275.755, 3.276)\n",
      "4.223\n",
      "(0.496, 0.317, 0.179, 0.106)\n"
     ]
    }
   ],
   "source": [
    "sentence = \"Bello deinde Aborigines Troianique simul petiti. Turnus rex Rutulorum, cui pacta Lavinia ante adventum Aeneae fuerat, praelatum sibi advenam aegre patiens simul Aeneae Latinoque bellum intulerat. Neutra acies laeta ex eo certamine abiit: victi Rutuli: victores Aborigines Troianique ducem Latinum amisere. Inde Turnus Rutulique diffisi rebus ad florentes opes Etruscorum Mezentiumque regem eorum confugiunt, qui Caere opulento tum oppido imperitans, iam inde ab initio minime laetus novae origine urbis et tum nimio plus quam satis tutum esset accolis rem Troianam crescere ratus, haud gravatim socia arma Rutulis iunxit. Aeneas adversus tanti belli terrorem ut animos Aboriginum sibi conciliaret nec sub eodem iure solum sed etiam nomine omnes essent, Latinos utramque gentem appellavit; nec deinde Aborigines Troianis studio ac fide erga regem Aeneam cessere.\"\n",
    "print(count_rank(sentence))\n",
    "print(count_grouprank(sentence))\n",
    "print(count_content(sentence))\n",
    "print(count_content_group(sentence))\n",
    "print(count_words(sentence))\n",
    "print(count_grouprank_words(sentence))\n",
    "print(count_content_words(sentence))\n",
    "print(count_grouprank_contentwords(sentence))\n",
    "print(rare_words(sentence))"
   ]
  },
  {
   "cell_type": "code",
   "execution_count": 17,
   "id": "0ec297ae",
   "metadata": {},
   "outputs": [
    {
     "name": "stdout",
     "output_type": "stream",
     "text": [
      "(232.673, 6115.885, 6.037, 0.225)\n",
      "2.779\n",
      "(296.988, 1226.036, 4.915)\n",
      "3.321\n",
      "(328.354, 2020.929, 4.742)\n",
      "3.708\n",
      "(415.298, 298.155, 3.53)\n",
      "4.5\n",
      "(0.522, 0.327, 0.177, 0.106)\n"
     ]
    }
   ],
   "source": [
    "sentence = \"Bello deinde simul petiti. Turnus rex, cui pacta Lavinia ante adventum Aeneae fuerat, praelatum sibi advenam aegre patiens simul Aeneae Latinoque bellum intulerat. Neutra acies laeta ex eo certamine abiit: victi Rutuli: victores Aborigines Troianique ducem Latinum amisere. Inde Turnus Rutulique diffisi rebus ad florentes opes regem eorum confugiunt, qui opulento tum oppido imperitans, iam inde ab initio minime laetus novae origine urbis et tum quam satis tutum esset accolis rem Troianam crescere ratus, haud socia arma Rutulis iunxit. Aeneas adversus tanti belli terrorem ut animos Aboriginum sibi conciliaret nec sub eodem iure solum sed etiam nomine omnes essent, utramque gentem appellavit; nec deinde Aborigines Troianis studio ac fide erga regem Aeneam cessere.\"\n",
    "print(count_rank(sentence))\n",
    "print(count_grouprank(sentence))\n",
    "print(count_content(sentence))\n",
    "print(count_content_group(sentence))\n",
    "print(count_words(sentence))\n",
    "print(count_grouprank_words(sentence))\n",
    "print(count_content_words(sentence))\n",
    "print(count_grouprank_contentwords(sentence))\n",
    "print(rare_words(sentence))"
   ]
  },
  {
   "cell_type": "code",
   "execution_count": 18,
   "id": "7a2bbcdb",
   "metadata": {},
   "outputs": [
    {
     "name": "stdout",
     "output_type": "stream",
     "text": [
      "(372.544, 8739.322, 6.959, 1.912)\n",
      "4.311\n",
      "(518.453, 1045.828, 5.747)\n",
      "5.656\n",
      "(453.789, 4302.356, 5.511)\n",
      "5.078\n",
      "(621.109, 272.047, 4.056)\n",
      "6.656\n",
      "(0.611, 0.544, 0.389, 0.244)\n"
     ]
    }
   ],
   "source": [
    "sentence = \"Multas per gentes et multa per aequora vectus advenio has miseras, frater, ad inferias, ut te postremo donarem munere mortis et mutam nequiquam alloquerer cinerem. quandoquidem fortuna mihi tete abstulit ipsum. heu miser indigne frater adempte mihi, nunc tamen interea haec, prisco quae more parentum tradita sunt tristi munere ad inferias, accipe fraterno multum manantia fletu, atque in perpetuum, frater, ave atque vale. tempore quo primum vestis mihi tradita pura est, iucundum cum aetas florida ver ageret, multa satis lusi: non est dea nescia nostri, quae dulcem curis miscet amaritiem.\"\n",
    "print(count_rank(sentence))\n",
    "print(count_grouprank(sentence))\n",
    "print(count_content(sentence))\n",
    "print(count_content_group(sentence))\n",
    "print(count_words(sentence))\n",
    "print(count_grouprank_words(sentence))\n",
    "print(count_content_words(sentence))\n",
    "print(count_grouprank_contentwords(sentence))\n",
    "print(rare_words(sentence))"
   ]
  },
  {
   "cell_type": "code",
   "execution_count": 19,
   "id": "11efcdd3",
   "metadata": {},
   "outputs": [
    {
     "name": "stdout",
     "output_type": "stream",
     "text": [
      "(357.046, 9036.264, 7.078, 0.817)\n",
      "4.161\n",
      "(503.525, 1090.967, 5.857)\n",
      "5.508\n",
      "(443.333, 4449.333, 5.609)\n",
      "4.977\n",
      "(614.426, 283.459, 4.126)\n",
      "6.59\n",
      "(0.598, 0.529, 0.368, 0.218)\n"
     ]
    }
   ],
   "source": [
    "sentence = \"Multas per gentes et multa per aequora vectus advenio has miseras, frater, ad inferias, ut te postremo donarem munere mortis et mutam nequiquam alloquerer cinerem. quandoquidem fortuna mihi tete abstulit ipsum. heu miser indigne frater adempte mihi, nunc tamen interea haec, prisco quae more parentum tradita sunt tristi munere ad inferias, accipe fraterno multum manantia fletu, atque in perpetuum, frater, ave atque vale. tempore quo primum mihi tradita est, iucundum cum aetas florida ver ageret, multa satis lusi: non est dea nescia nostri, quae dulcem curis miscet.\"\n",
    "print(count_rank(sentence))\n",
    "print(count_grouprank(sentence))\n",
    "print(count_content(sentence))\n",
    "print(count_content_group(sentence))\n",
    "print(count_words(sentence))\n",
    "print(count_grouprank_words(sentence))\n",
    "print(count_content_words(sentence))\n",
    "print(count_grouprank_contentwords(sentence))\n",
    "print(rare_words(sentence))"
   ]
  },
  {
   "cell_type": "code",
   "execution_count": 20,
   "id": "4d07c70f",
   "metadata": {},
   "outputs": [
    {
     "name": "stdout",
     "output_type": "stream",
     "text": [
      "(348.933, 7980.328, 6.762, 1.229)\n",
      "4.041\n",
      "(466.669, 1255.408, 5.67)\n",
      "5.127\n",
      "(434.933, 3099.169, 4.995)\n",
      "4.79\n",
      "(560.655, 263.415, 3.694)\n",
      "5.958\n",
      "(0.579, 0.477, 0.354, 0.226)\n"
     ]
    }
   ],
   "source": [
    "sentence = \"Littera quaecumque est toto tibi lecta libello, est mihi sollicito tempore facta viae. aut haec me, gelido tremerem cum mense Decembri, scribentem mediis Hadria vidit aquis; aut, postquam bimarem cursu superavimus Isthmon, alteraque est nostrae sumpta carina fugae, quod facerem versus inter fera murmura ponti, Cycladas Aegaeas obstipuisse puto. ipse ego nunc miror tantis animique marisque fluctibus ingenium non cecidisse meum. saepe maris pars intus erat; tamen ipse trementi carmina ducebam qualiacumque manu. nunc quoque contenti stridunt Aquilone rudentes, inque modum cumuli concava surgit aqua. ipse gubernator tollens ad sidera palmas exposcit votis, inmemor artis, opem. quocumque aspicio, nihil est nisi mortis imago, quam dubia timeo mente timensque precor. nam simul insidiis hominum pelagique laboro, et faciunt geminos ensis et unda metus. cumque sit hibernis agitatum flatibus aequor, pectora sunt ipso turbidiora mari.quo magis his debes ignoscere, candide lector, si spe sunt, ut sunt, inferiora tua. non haec in nostris, ut quondam, scripsimus hortis, nec, consuete, meum, lectule, corpus habes. iactor in indomito brumali luce profundo ipsaque caeruleis charta feritur aquis. improba pugnat hiems indignaturque quod ausim scribere se rigidas incutiente minas. vincat hiems hominem! sed eodem tempore, quaeso, ipse modum statuam carminis, illa sui.\"\n",
    "print(count_rank(sentence))\n",
    "print(count_grouprank(sentence))\n",
    "print(count_content(sentence))\n",
    "print(count_content_group(sentence))\n",
    "print(count_words(sentence))\n",
    "print(count_grouprank_words(sentence))\n",
    "print(count_content_words(sentence))\n",
    "print(count_grouprank_contentwords(sentence))\n",
    "print(rare_words(sentence))"
   ]
  },
  {
   "cell_type": "code",
   "execution_count": 21,
   "id": "d955bc4c",
   "metadata": {},
   "outputs": [
    {
     "name": "stdout",
     "output_type": "stream",
     "text": [
      "(332.364, 8453.408, 7.031, 0.746)\n",
      "3.886\n",
      "(453.282, 1355.198, 5.956)\n",
      "5.0\n",
      "(435.467, 3283.924, 5.228)\n",
      "4.815\n",
      "(571.962, 284.802, 3.913)\n",
      "6.092\n",
      "(0.571, 0.462, 0.332, 0.201)\n"
     ]
    }
   ],
   "source": [
    "sentence = \"Littera quaecumque est toto tibi lecta libello, est mihi sollicito tempore facta viae. aut haec me, gelido tremerem cum mense Decembri, scribentem mediis vidit aquis; aut, postquam cursu superavimus, alteraque est nostrae sumpta carina fugae, quod facerem versus inter fera murmura ponti, Aegaeas obstipuisse puto. ipse ego nunc miror tantis animique marisque fluctibus ingenium non cecidisse meum. saepe maris pars intus erat; tamen ipse trementi carmina ducebam qualiacumque manu. nunc quoque stridunt Aquilone rudentes, inque modum surgit aqua. ipse gubernator tollens ad sidera palmas exposcit votis, inmemor artis, opem. quocumque aspicio, nihil est nisi mortis imago, quam dubia timeo mente timensque precor. nam simul insidiis hominum pelagique laboro, et faciunt geminos ensis et unda metus. cumque sit hibernis agitatum aequor, pectora sunt ipso mari.quo magis his debes ignoscere, candide lector, si spe sunt, ut sunt, inferiora tua. non haec in nostris, ut quondam, scripsimus hortis, nec, consuete, meum, lectule, corpus habes. iactor in indomito luce ipsaque caeruleis charta feritur aquis. improba pugnat hiems indignaturque quod ausim scribere se rigidas incutiente minas. vincat hiems hominem! sed eodem tempore, quaeso, ipse modum statuam carminis, illa sui.\"\n",
    "print(count_rank(sentence))\n",
    "print(count_grouprank(sentence))\n",
    "print(count_content(sentence))\n",
    "print(count_content_group(sentence))\n",
    "print(count_words(sentence))\n",
    "print(count_grouprank_words(sentence))\n",
    "print(count_content_words(sentence))\n",
    "print(count_grouprank_contentwords(sentence))\n",
    "print(rare_words(sentence))"
   ]
  },
  {
   "cell_type": "code",
   "execution_count": 22,
   "id": "33ecdd18",
   "metadata": {},
   "outputs": [
    {
     "name": "stdout",
     "output_type": "stream",
     "text": [
      "(302.029, 6195.49, 5.738, 0.312)\n",
      "3.48\n",
      "(355.453, 1158.326, 4.936)\n",
      "3.942\n",
      "(440.824, 4123.578, 4.118)\n",
      "4.775\n",
      "(509.302, 148.326, 3.171)\n",
      "5.372\n",
      "(0.549, 0.422, 0.314, 0.176)\n"
     ]
    }
   ],
   "source": [
    "sentence = \"Roma si vestrum est opus Iliaeque litus Etruscum tenuere turmae, iussa pars mutare lares et urbem sospite cursu, cui per ardentem sine fraude Troiam castus Aeneas patriae superstes liberum munivit iter, daturus plura relictis: di, probos mores docili iuventae, di, senectuti placidae quietem, Romulae genti date remque prolemque et decus omne. Quaeque vos bobus veneratur albis clarus Anchisae Venerisque sanguis, impetret, bellante prior, iacentem lenis in hostem. iam mari terraque manus potentis Medus Albanasque timet securis, iam Scythae responsa petunt, superbi nuper et Indi. iam Fides et Pax et Honos Pudorque priscus et neglecta redire Virtus audet adparetque beata pleno Copia cornu.\"\n",
    "print(count_rank(sentence))\n",
    "print(count_grouprank(sentence))\n",
    "print(count_content(sentence))\n",
    "print(count_content_group(sentence))\n",
    "print(count_words(sentence))\n",
    "print(count_grouprank_words(sentence))\n",
    "print(count_content_words(sentence))\n",
    "print(count_grouprank_contentwords(sentence))\n",
    "print(rare_words(sentence))"
   ]
  },
  {
   "cell_type": "code",
   "execution_count": 23,
   "id": "68715f11",
   "metadata": {},
   "outputs": [
    {
     "name": "stdout",
     "output_type": "stream",
     "text": [
      "(304.106, 6691.128, 5.99, 0.289)\n",
      "3.511\n",
      "(363.436, 1239.0, 5.158)\n",
      "4.026\n",
      "(446.181, 4472.766, 4.331)\n",
      "4.84\n",
      "(522.782, 161.423, 3.331)\n",
      "5.513\n",
      "(0.553, 0.426, 0.319, 0.17)\n"
     ]
    }
   ],
   "source": [
    "sentence = \"Roma si vestrum est opus litus Etruscum tenuere turmae, iussa pars mutare lares et urbem cursu, cui per ardentem sine fraude Troiam castus Aeneas patriae superstes liberum munivit iter, daturus plura relictis: di, probos mores docili iuventae, di, senectuti placidae quietem, Romulae genti date remque prolemque et decus omne. Quaeque vos bobus albis clarus Anchisae Venerisque sanguis, impetret, bellante prior, iacentem lenis in hostem. iam mari terraque manus potentis timet securis, iam Scythae, superbi nuper et Indi. iam Fides et Pax et Honos Pudorque priscus et neglecta redire Virtus audet adparetque beata pleno cornu.\"\n",
    "print(count_rank(sentence))\n",
    "print(count_grouprank(sentence))\n",
    "print(count_content(sentence))\n",
    "print(count_content_group(sentence))\n",
    "print(count_words(sentence))\n",
    "print(count_grouprank_words(sentence))\n",
    "print(count_content_words(sentence))\n",
    "print(count_grouprank_contentwords(sentence))\n",
    "print(rare_words(sentence))"
   ]
  },
  {
   "cell_type": "code",
   "execution_count": 24,
   "id": "36dbfdf9",
   "metadata": {},
   "outputs": [
    {
     "name": "stdout",
     "output_type": "stream",
     "text": [
      "(342.061, 6432.162, 6.365, 0.471)\n",
      "3.964\n",
      "(453.112, 943.769, 5.243)\n",
      "5.0\n",
      "(418.589, 4644.731, 4.879)\n",
      "4.589\n",
      "(554.091, 180.797, 3.376)\n",
      "5.839\n",
      "(0.609, 0.492, 0.35, 0.203)\n"
     ]
    }
   ],
   "source": [
    "sentence = \"Sic eorum potestas et auctoritas totius orbis ambitus occupavit, sic imperium suum ultra solis vias et ipsius oceani limites propagavit, dum exercent in armis virtutem religiosam, dum urbem muniunt sacrorum religionibus, castis virginibus, multis honoribus ac nominibus sacerdotum, dum obsessi et citra solum Capitolium capti colunt deos, quos alius iam sprevisset iratos, et per Gallorum acies mirantium superstitionis audaciam pergunt telis inermes, sed cultu religionis armati, dum captis in hostilibus moenibus adhuc ferociente victoria numina victa venerantur, dum undique hospites deos quaerunt et suos faciunt, dum aras extruunt etiam ignotis numinibus et Manibus. Sic, dum universarum gentium sacra suscipiunt, etiam regna meruerunt. Hinc perpetuus venerationis tenor mansit, qui longa aetate non infringitur, sed augetur: quippe antiquitas caerimoniis atque fanis tantum sanctitatis tribuere consuevit quantum adstruxerit vetustatis. Nec tamen temere (ausim enim interim et ipse concedere et sic melius errare) maiores nostri aut observandis auguriis aut extis consulendis aut instituendis sacris aut delubris dedicandis operam navaverunt. Specta de libris memoriam; iam eos deprehendes initiasse ritus omnium religionum, vel ut remuneraretur divina indulgentia, vel ut averteretur imminens ira aut iam tumens et saeviens placaretur. Testis Mater Idaea, quae adventu suo et probavit matronae castitatem et urbem metu hostili liberavit.\"\n",
    "print(count_rank(sentence))\n",
    "print(count_grouprank(sentence))\n",
    "print(count_content(sentence))\n",
    "print(count_content_group(sentence))\n",
    "print(count_words(sentence))\n",
    "print(count_grouprank_words(sentence))\n",
    "print(count_content_words(sentence))\n",
    "print(count_grouprank_contentwords(sentence))\n",
    "print(rare_words(sentence))"
   ]
  },
  {
   "cell_type": "code",
   "execution_count": 25,
   "id": "a3329af0",
   "metadata": {},
   "outputs": [
    {
     "name": "stdout",
     "output_type": "stream",
     "text": [
      "(340.164, 6858.197, 6.617, 0.448)\n",
      "3.956\n",
      "(459.115, 1018.115, 5.507)\n",
      "5.069\n",
      "(422.481, 4946.077, 5.081)\n",
      "4.645\n",
      "(570.015, 195.438, 3.543)\n",
      "6.015\n",
      "(0.617, 0.497, 0.344, 0.191)\n"
     ]
    }
   ],
   "source": [
    "sentence = \"Sic eorum potestas et auctoritas totius orbis ambitus occupavit, sic imperium suum ultra solis vias et ipsius oceani limites, dum exercent in armis virtutem religiosam, dum urbem muniunt sacrorum religionibus, castis virginibus, multis honoribus ac nominibus sacerdotum, dum obsessi et solum capti colunt deos, quos alius iam sprevisset iratos, et per Gallorum acies mirantium superstitionis audaciam pergunt telis inermes, sed cultu religionis armati, dum captis in hostilibus moenibus adhuc victoria numina victa venerantur, dum undique hospites deos quaerunt et suos faciunt, dum aras extruunt etiam ignotis numinibus et Manibus. Sic, dum universarum gentium sacra suscipiunt, etiam regna meruerunt. Hinc perpetuus venerationis mansit, qui longa aetate non infringitur, sed augetur: quippe antiquitas caerimoniis atque tantum sanctitatis tribuere consuevit quantum adstruxerit vetustatis. Nec tamen temere (ausim enim interim et ipse concedere et sic melius errare) maiores nostri aut observandis auguriis aut consulendis aut instituendis sacris aut delubris dedicandis. Specta memoriam; iam eos deprehendes initiasse ritus omnium religionum, vel ut divina indulgentia, vel ut averteretur imminens ira aut iam tumens et saeviens placaretur. Testis, quae adventu suo et probavit matronae castitatem et urbem metu hostili liberavit.\"\n",
    "print(count_rank(sentence))\n",
    "print(count_grouprank(sentence))\n",
    "print(count_content(sentence))\n",
    "print(count_content_group(sentence))\n",
    "print(count_words(sentence))\n",
    "print(count_grouprank_words(sentence))\n",
    "print(count_content_words(sentence))\n",
    "print(count_grouprank_contentwords(sentence))\n",
    "print(rare_words(sentence))"
   ]
  },
  {
   "cell_type": "code",
   "execution_count": 26,
   "id": "3b7f8d22",
   "metadata": {},
   "outputs": [
    {
     "name": "stdout",
     "output_type": "stream",
     "text": [
      "(443.22, 4055.828, 5.779, 1.333)\n",
      "4.957\n",
      "(519.891, 690.337, 5.057)\n",
      "5.669\n",
      "(526.957, 2814.435, 4.133)\n",
      "5.651\n",
      "(611.594, 122.543, 3.238)\n",
      "6.44\n",
      "(0.708, 0.589, 0.474, 0.316)\n"
     ]
    }
   ],
   "source": [
    "sentence = \"Iamque fere mediam caeli nox umida metam contigerat, placida laxabant membra quiete sub remis fusi per dura sedilia nautae, cum levis aetheriis delapsus Somnus ab astris aera dimovit tenebrosum et dispulit umbras, te, Palinure, petens, tibi somnia tristia portans insonti; puppique deus consedit in alta Phorbanti similis funditque has ore loquelas: Iaside Palinure, ferunt ipsa aequora classem, aequatae spirant aurae, datur hora quieti. pone caput fessosque oculos furare labori. Ipse ego paulisper pro te tua munera inibo. Cui vix attolens Palinurus lumina fatur: Mene salis placidi vultum fluctusque quietos ignorare iubes? Mene huic confidere monstro? talia dicta dabat, clavum affixus et haerens nusquam amittebat oculosque sub astra tenebat. Ecce deus ramum Lethaeo rore madentem vique soporatum Stygia super utraque quassat tempora, cunctantique natantia lumina solvit. vix primos inopina quies laxaverat artus, et super incumbens cum puppis parte revulsa cumque gubernaclo liquidas proiecit in undas praecipitem ac socios nequiquam saepe vocantem; ipse volans tenuis se sustulit ales ad auras. Currit iter tutum non setius aequore classis. iamque adeo scopulos Sirenum advecta subibat, difficilis quondam multorumque ossibus albos, cum pater amisso fluitantem errare magistro sensit, et ipse ratem nocturnis rexit in undis multa gemens casuque animum concussus amici: O nimium caelo et pelago confise sereno, nudus in ignota, Palinure, iacebis harena.\"\n",
    "print(count_rank(sentence))\n",
    "print(count_grouprank(sentence))\n",
    "print(count_content(sentence))\n",
    "print(count_content_group(sentence))\n",
    "print(count_words(sentence))\n",
    "print(count_grouprank_words(sentence))\n",
    "print(count_content_words(sentence))\n",
    "print(count_grouprank_contentwords(sentence))\n",
    "print(rare_words(sentence))"
   ]
  },
  {
   "cell_type": "code",
   "execution_count": 27,
   "id": "b92b07a3",
   "metadata": {},
   "outputs": [
    {
     "name": "stdout",
     "output_type": "stream",
     "text": [
      "(429.026, 4313.605, 6.073, 0.995)\n",
      "4.821\n",
      "(508.72, 746.051, 5.356)\n",
      "5.561\n",
      "(527.589, 2964.916, 4.366)\n",
      "5.679\n",
      "(618.726, 133.541, 3.456)\n",
      "6.535\n",
      "(0.716, 0.584, 0.458, 0.284)\n"
     ]
    }
   ],
   "source": [
    "sentence = \"Iamque fere mediam caeli nox umida metam contigerat, placida laxabant membra quiete sub fusi per dura nautae, cum levis aetheriis delapsus Somnus ab astris aera tenebrosum et umbras, te, Palinure, petens, tibi somnia tristia portans, puppique deus consedit in alta similis funditque has ore: Palinure, ferunt ipsa aequora classem, aequatae spirant aurae, datur hora quieti. pone caput fessosque oculos labori. Ipse ego paulisper pro te tua munera inibo. Cui vix attolens Palinurus lumina fatur: Mene salis placidi vultum fluctusque quietos ignorare iubes? Mene huic confidere monstro? talia dicta dabat, affixus et haerens nusquam amittebat oculosque sub astra tenebat. Ecce deus ramum rore madentem vique super utraque quassat, cunctantique natantia lumina solvit. vix primos inopina quies laxaverat artus, et super incumbens cum puppis parte revulsa cumque liquidas proiecit in undas praecipitem ac socios nequiquam saepe vocantem; ipse volans tenuis se sustulit ad auras. Currit iter tutum setius aequore classis. iamque adeo scopulos advecta subibat, difficilis quondam multorumque ossibus albos, cum pater amisso errare magistro sensit, et ipse ratem nocturnis rexit in undis multa gemens casuque animum concussus amici: O nimium caelo et pelago confise sereno, nudus in ignota, Palinure, iacebis harena.\"\n",
    "print(count_rank(sentence))\n",
    "print(count_grouprank(sentence))\n",
    "print(count_content(sentence))\n",
    "print(count_content_group(sentence))\n",
    "print(count_words(sentence))\n",
    "print(count_grouprank_words(sentence))\n",
    "print(count_content_words(sentence))\n",
    "print(count_grouprank_contentwords(sentence))\n",
    "print(rare_words(sentence))"
   ]
  },
  {
   "cell_type": "code",
   "execution_count": 28,
   "id": "723b1736",
   "metadata": {},
   "outputs": [
    {
     "name": "stdout",
     "output_type": "stream",
     "text": [
      "(289.82, 8941.482, 6.842, 0.518)\n",
      "3.464\n",
      "(400.652, 1138.684, 5.601)\n",
      "4.484\n",
      "(372.486, 4769.653, 5.277)\n",
      "4.185\n",
      "(508.135, 259.052, 3.733)\n",
      "5.439\n",
      "(0.581, 0.387, 0.266, 0.162)\n"
     ]
    }
   ],
   "source": [
    "sentence = \"M. Cicero sub adventum triumvirorum urbe cesserat; primo in Tusculanum fugerat, inde transversis itineribus in Formianum, ut a Caieta navem conscensurus, proficiscitur. Unde aliquoties in altum provectum cum modo venti adversi retulissent, modo ipse iactationem navis caeco volvente fluctu pati non posset, taedium tandem eum et fugae et vitae cepit regressusque ad superiorem villam, quae paulo plus mille passibus a mari abest, moriar inquit in patria saepe servata! Satis constat servos fortiter fideliterque paratos fuisse ad dimicandum; ipsum deponi lecticam et quietos pati, quod sors iniqua cogeret, iussisse. Prominenti ex lectica praebentique inmotam cervicem caput praecisum est. Nec satis stolidae crudelitati militum fuit: manus quoque, scripsisse in Antonium exprobrantes, praeciderunt. ita relatum caput ad Antonium iussuque eius inter duas manus in rostris positum, ubi ille consul, ubi saepe consularis, ubi eo ipso anno adversus Antonium quanta nulla umquam humana vox cum admiratione eloquentiae auditus fuerat. Vixit tres et sexaginta annos, ut, si vis afuisset, ne inmatura quidem mors videri possit. ingenium et operibus et praemiis operum felix; ipse fortunae diu prosperae, sed in longo tenore felicitatis magnis interim ictus vulneribus, exilio, ruina partium, pro quibus steterat, filiae exitu tam tristi atque acerbo, omnium adversorum nihil, ut viro dignum erat, tulit praeter mortem. Si quis tamen virtutibus vitia pensarit, vir magnus ac memorabilis fuit et in cuius laudes exsequendas Cicerone laudatore opus fuerit.\"\n",
    "print(count_rank(sentence))\n",
    "print(count_grouprank(sentence))\n",
    "print(count_content(sentence))\n",
    "print(count_content_group(sentence))\n",
    "print(count_words(sentence))\n",
    "print(count_grouprank_words(sentence))\n",
    "print(count_content_words(sentence))\n",
    "print(count_grouprank_contentwords(sentence))\n",
    "print(rare_words(sentence))"
   ]
  },
  {
   "cell_type": "code",
   "execution_count": 29,
   "id": "3490dfdb",
   "metadata": {},
   "outputs": [
    {
     "name": "stdout",
     "output_type": "stream",
     "text": [
      "(268.537, 9676.659, 7.195, 0.425)\n",
      "3.263\n",
      "(382.688, 1269.58, 5.972)\n",
      "4.312\n",
      "(369.141, 5164.429, 5.628)\n",
      "4.18\n",
      "(519.877, 289.841, 4.065)\n",
      "5.587\n",
      "(0.576, 0.366, 0.239, 0.132)\n"
     ]
    }
   ],
   "source": [
    "sentence = \"M. Cicero sub adventum triumvirorum urbe cesserat; primo in fugerat, inde itineribus in ut a navem conscensurus, proficiscitur. Unde in provectum cum modo venti adversi retulissent, modo ipse navis volvente fluctu pati non posset, taedium tandem eum et fugae et vitae cepit regressusque ad superiorem villam, quae paulo plus mille passibus a mari abest, moriar inquit in patria saepe servata! Satis constat servos fortiter fideliterque paratos fuisse ad dimicandum; ipsum deponi et quietos pati, quod sors iniqua cogeret, iussisse. ex lectica praebentique inmotam cervicem caput praecisum est. Nec satis crudelitati militum fuit: manus quoque, scripsisse in. ita relatum caput ad Antonium iussuque eius inter duas manus in rostris positum, ubi ille consul, ubi saepe consularis, ubi eo ipso anno adversus Antonium quanta nulla umquam humana vox cum admiratione eloquentiae auditus fuerat. Vixit tres et sexaginta annos, ut, si vis afuisset, ne inmatura quidem mors videri possit. ingenium et operibus et praemiis operum felix; ipse fortunae diu prosperae, sed in longo felicitatis magnis interim ictus vulneribus, exilio, ruina partium, pro quibus steterat, filiae exitu tam tristi atque acerbo, omnium nihil, ut viro dignum erat, tulit praeter mortem. Si quis tamen virtutibus vitia vir magnus ac memorabilis fuit et in cuius laudes exsequendas Cicerone laudatore opus fuerit.\"\n",
    "print(count_rank(sentence))\n",
    "print(count_grouprank(sentence))\n",
    "print(count_content(sentence))\n",
    "print(count_content_group(sentence))\n",
    "print(count_words(sentence))\n",
    "print(count_grouprank_words(sentence))\n",
    "print(count_content_words(sentence))\n",
    "print(count_grouprank_contentwords(sentence))\n",
    "print(rare_words(sentence))"
   ]
  },
  {
   "cell_type": "code",
   "execution_count": 30,
   "id": "1f1d1509",
   "metadata": {},
   "outputs": [
    {
     "name": "stdout",
     "output_type": "stream",
     "text": [
      "(225.151, 8807.07, 7.196, 1.001)\n",
      "2.814\n",
      "(314.39, 2203.593, 6.09)\n",
      "3.61\n",
      "(368.436, 3674.651, 5.516)\n",
      "4.14\n",
      "(499.585, 371.017, 4.131)\n",
      "5.356\n",
      "(0.453, 0.302, 0.203, 0.099)\n"
     ]
    }
   ],
   "source": [
    "sentence = \"Postquam Caesar dicundi finem fecit, ceteri verbo alius alii varie adsentiebantur. At M. Porcius Cato rogatus sententiam huiusce modi orationem habuit: Longe alia mihi mens est, patres conscripti, cum res atque pericula nostra considero et cum sententias nonnullorum ipse mecum reputo. Illi mihi disseruisse videntur de poena eorum, qui patriae, parentibus, aris atque focis suis bellum paravere; res autem monet cavere ab illis magis quam, quid in illos statuamus, consultare. Nam cetera maleficia tum persequare, ubi facta sunt; hoc, nisi provideris, ne accidat, ubi evenit, frustra iudicia inplores: capta urbe nihil fit reliqui victis. Sed, per deos inmortalis, vos ego appello, qui semper domos, villas, signa, tabulas vostras pluris quam rem publicam fecistis: si ista, cuiuscumque modi sunt, quae amplexamini, retinere, si voluptatibus vostris otium praebere voltis, expergiscimini aliquando et capessite rem publicam! Non agitur de vectigalibus neque de sociorum iniuriis: libertas et anima nostra in dubio est. Saepenumero, patres conscripti, multa verba in hoc ordine feci, saepe de luxuria atque avaritia nostrorum civium questus sum multosque mortalis ea causa advorsos habeo.\"\n",
    "print(count_rank(sentence))\n",
    "print(count_grouprank(sentence))\n",
    "print(count_content(sentence))\n",
    "print(count_content_group(sentence))\n",
    "print(count_words(sentence))\n",
    "print(count_grouprank_words(sentence))\n",
    "print(count_content_words(sentence))\n",
    "print(count_grouprank_contentwords(sentence))\n",
    "print(rare_words(sentence))"
   ]
  },
  {
   "cell_type": "code",
   "execution_count": 31,
   "id": "f6391da0",
   "metadata": {},
   "outputs": [
    {
     "name": "stdout",
     "output_type": "stream",
     "text": [
      "(199.884, 9223.305, 7.343, 0.356)\n",
      "2.555\n",
      "(283.209, 2343.909, 6.229)\n",
      "3.282\n",
      "(352.043, 3848.713, 5.657)\n",
      "3.988\n",
      "(484.682, 390.264, 4.242)\n",
      "5.218\n",
      "(0.427, 0.274, 0.171, 0.073)\n"
     ]
    }
   ],
   "source": [
    "sentence = \"Postquam Caesar dicundi finem fecit, ceteri verbo alius alii varie adsentiebantur. At M. Porcius Cato rogatus sententiam huiusce modi orationem habuit: Longe alia mihi mens est, patres conscripti, cum res atque pericula nostra considero et cum sententias nonnullorum ipse mecum reputo. Illi mihi videntur de poena eorum, qui patriae, parentibus, atque suis bellum paravere; res autem monet cavere ab illis magis quam, quid in illos statuamus, consultare. Nam cetera maleficia tum persequare, ubi facta sunt; hoc, nisi provideris, ne accidat, ubi evenit, frustra iudicia: capta urbe nihil fit reliqui victis. Sed, per deos inmortalis, vos ego appello, qui semper domos, villas, vostras pluris quam rem publicam fecistis: si ista, cuiuscumque modi sunt, quae retinere, si voluptatibus vostris otium praebere voltis, aliquando et capessite rem publicam! Non agitur de vectigalibus neque de sociorum iniuriis: libertas et anima nostra in dubio est. Saepenumero, patres conscripti, multa verba in hoc ordine feci, saepe de luxuria atque avaritia nostrorum civium questus sum multosque mortalis ea causa advorsos habeo.\"\n",
    "print(count_rank(sentence))\n",
    "print(count_grouprank(sentence))\n",
    "print(count_content(sentence))\n",
    "print(count_content_group(sentence))\n",
    "print(count_words(sentence))\n",
    "print(count_grouprank_words(sentence))\n",
    "print(count_content_words(sentence))\n",
    "print(count_grouprank_contentwords(sentence))\n",
    "print(rare_words(sentence))"
   ]
  },
  {
   "cell_type": "code",
   "execution_count": 32,
   "id": "b482bda2",
   "metadata": {},
   "outputs": [
    {
     "name": "stdout",
     "output_type": "stream",
     "text": [
      "(421.19, 8747.254, 6.309, 1.467)\n",
      "4.772\n",
      "(527.6, 950.587, 5.278)\n",
      "5.753\n",
      "(465.418, 3890.153, 4.466)\n",
      "5.063\n",
      "(573.0, 148.707, 3.262)\n",
      "6.053\n",
      "(0.646, 0.545, 0.45, 0.302)\n"
     ]
    }
   ],
   "source": [
    "sentence = \"Hinc Cereris ludi: non est opus indice causae; sponte deae munus promeritumque patet. panis erat primis virides mortalibus herbae, quas tellus nullo sollicitante dabat; et modo carpebant vivax e caespite gramen, nunc epulae tenera fronde cacumen erant. postmodo glans nota est: bene erat iam glande reperta, duraque magnificas quercus habebat opes. prima Ceres homine ad meliora alimenta vocato mutavit glandes utiliore cibo. illa iugo tauros collum praebere coegit: tum primum soles eruta vidit humus. aes erat in pretio, Chalybeia massa latebat: eheu, perpetuo debuit illa tegi. pace Ceres laeta est; et vos orate, coloni, perpetuam pacem pacificumque ducem. farra deae micaeque licet salientis honorem detis et in veteres turea grana focos; et, si tura aberunt, unctas accendite taedas: parva bonae Cereri, sint modo casta, placent. a bove succincti cultros removete ministri: bos aret; ignavam sacrificate suem. apta iugo cervix non est ferienda securi: vivat et in dura saepe laboret humo. Exigit ipse locus raptus ut virginis edam: plura recognosces, pauca docendus eris. terra tribus scopulis vastum procurrit in aequor Trinacris, a positu nomen adepta loci, grata domus Cereri: multas ea possidet urbes, in quibus est culto fertilis Henna solo.\"\n",
    "print(count_rank(sentence))\n",
    "print(count_grouprank(sentence))\n",
    "print(count_content(sentence))\n",
    "print(count_content_group(sentence))\n",
    "print(count_words(sentence))\n",
    "print(count_grouprank_words(sentence))\n",
    "print(count_content_words(sentence))\n",
    "print(count_grouprank_contentwords(sentence))\n",
    "print(rare_words(sentence))"
   ]
  },
  {
   "cell_type": "code",
   "execution_count": 33,
   "id": "5492c7e2",
   "metadata": {},
   "outputs": [
    {
     "name": "stdout",
     "output_type": "stream",
     "text": [
      "(410.389, 9175.406, 6.503, 0.89)\n",
      "4.672\n",
      "(520.603, 999.504, 5.459)\n",
      "5.688\n",
      "(466.75, 4084.461, 4.646)\n",
      "5.094\n",
      "(581.567, 157.943, 3.415)\n",
      "6.156\n",
      "(0.639, 0.539, 0.439, 0.283)\n"
     ]
    }
   ],
   "source": [
    "sentence = \"Hinc Cereris ludi: non est opus indice causae; sponte deae munus patet. panis erat primis virides mortalibus herbae, quas tellus nullo sollicitante dabat; et modo carpebant vivax e caespite gramen, nunc epulae tenera fronde cacumen erant. glans nota est: bene erat iam glande reperta, duraque magnificas quercus habebat opes. prima Ceres homine ad meliora alimenta vocato mutavit glandes utiliore cibo. illa iugo tauros collum praebere coegit: tum primum soles eruta vidit humus. aes erat in pretio, latebat: eheu, perpetuo debuit illa tegi. pace Ceres laeta est; et vos orate, coloni, perpetuam pacem pacificumque ducem. farra deae licet honorem detis et in veteres grana focos; et, si tura aberunt, unctas accendite taedas: parva bonae Cereri, sint modo casta, placent. a bove succincti cultros removete ministri: bos aret; ignavam sacrificate suem. apta iugo cervix non est ferienda securi: vivat et in dura saepe laboret humo. Exigit ipse locus raptus ut virginis edam: plura recognosces, pauca docendus eris. terra tribus scopulis vastum procurrit in aequor a nomen adepta loci, grata domus Cereri: multas ea possidet urbes, in quibus est culto fertilis Henna solo.\"\n",
    "print(count_rank(sentence))\n",
    "print(count_grouprank(sentence))\n",
    "print(count_content(sentence))\n",
    "print(count_content_group(sentence))\n",
    "print(count_words(sentence))\n",
    "print(count_grouprank_words(sentence))\n",
    "print(count_content_words(sentence))\n",
    "print(count_grouprank_contentwords(sentence))\n",
    "print(rare_words(sentence))"
   ]
  },
  {
   "cell_type": "code",
   "execution_count": 34,
   "id": "0b85c7ae",
   "metadata": {},
   "outputs": [
    {
     "name": "stdout",
     "output_type": "stream",
     "text": [
      "(231.147, 10990.909, 7.302, 0.248)\n",
      "2.878\n",
      "(370.538, 1457.202, 5.657)\n",
      "4.092\n",
      "(338.508, 5046.523, 5.743)\n",
      "3.873\n",
      "(518.429, 241.908, 3.742)\n",
      "5.496\n",
      "(0.437, 0.36, 0.203, 0.102)\n"
     ]
    }
   ],
   "source": [
    "sentence = \"Neque vero tam remisso ac languido animo quisquam omnium fuit, qui ea nocte conquieverit. tanta erat summae rerum exspectatio, ut alius in aliam partem mente atque animo traheretur, quid ipsis Corfiniensibus, quid Domitio, quid Lentulo, quid reliquis accideret, qui quosque eventus exciperent. Quarta vigilia circiter Lentulus Spinther de muro cum vigiliis custodibusque nostris conloquitur: velle, si sibi fiat potestas, Caesarem convenire. facta potestate ex oppido mittitur, neque ab eo prius Domitiani milites discedunt, quam in conspectum Caesaris deducatur. cum eo de salute sua agit, orat atque obsecrat, ut sibi parcat, veteremque amicitiam commemorat Caesarisque in se beneficia exponit, quae erant maxima: quod per eum in collegium pontificum venerat, quod provinciam Hispaniam ex praetura habuerat, quod in petitione consulatus erat sublevatus. cuius orationem Caesar interpellat: se non maleficii causa ex provincia egressum, sed uti se a contumeliis inimicorum defenderet, ut tribunos plebis in ea re ex civitate expulsos in suam dignitatem restitueret, et se et populum Romanum factione paucorum oppressum in libertatem vindicaret. cuius oratione confirmatus Lentulus, ut in oppidum reverti liceat, petit: quod de sua salute inpetraverit, fore etiam reliquis ad suam spem solacio; adeo esse perterritos nonnullos, ut suae vitae durius consulere cogantur. facta potestate discedit.\"\n",
    "print(count_rank(sentence))\n",
    "print(count_grouprank(sentence))\n",
    "print(count_content(sentence))\n",
    "print(count_content_group(sentence))\n",
    "print(count_words(sentence))\n",
    "print(count_grouprank_words(sentence))\n",
    "print(count_content_words(sentence))\n",
    "print(count_grouprank_contentwords(sentence))\n",
    "print(rare_words(sentence))"
   ]
  },
  {
   "cell_type": "code",
   "execution_count": 35,
   "id": "e1515020",
   "metadata": {},
   "outputs": [
    {
     "name": "stdout",
     "output_type": "stream",
     "text": [
      "(233.518, 11103.636, 7.377, 0.251)\n",
      "2.908\n",
      "(376.872, 1482.111, 5.753)\n",
      "4.162\n",
      "(341.979, 5098.282, 5.802)\n",
      "3.913\n",
      "(527.291, 246.043, 3.806)\n",
      "5.59\n",
      "(0.441, 0.364, 0.205, 0.103)\n"
     ]
    }
   ],
   "source": [
    "sentence = \"Neque vero tam remisso ac languido animo quisquam omnium fuit, qui ea nocte conquieverit. tanta erat summae rerum exspectatio, ut alius in aliam partem mente atque animo traheretur, quid ipsis, quid Domitio, quid Lentulo, quid reliquis accideret, qui quosque eventus exciperent. Quarta vigilia circiter Lentulus Spinther de muro cum vigiliis custodibusque nostris conloquitur: velle, si sibi fiat potestas, Caesarem convenire. facta potestate ex oppido mittitur, neque ab eo prius Domitiani milites discedunt, quam in conspectum Caesaris deducatur. cum eo de salute sua agit, orat atque obsecrat, ut sibi parcat, veteremque amicitiam commemorat Caesarisque in se beneficia exponit, quae erant maxima: quod per eum in collegium pontificum venerat, quod provinciam ex praetura habuerat, quod in petitione consulatus erat sublevatus. cuius orationem Caesar interpellat: se non maleficii causa ex provincia egressum, sed uti se a contumeliis inimicorum defenderet, ut tribunos plebis in ea re ex civitate expulsos in suam dignitatem restitueret, et se et populum Romanum factione paucorum oppressum in libertatem vindicaret. cuius oratione confirmatus Lentulus, ut in oppidum reverti liceat, petit: quod de sua salute inpetraverit, fore etiam reliquis ad suam spem solacio; adeo esse perterritos nonnullos, ut suae vitae durius consulere cogantur. facta potestate discedit.\"\n",
    "print(count_rank(sentence))\n",
    "print(count_grouprank(sentence))\n",
    "print(count_content(sentence))\n",
    "print(count_content_group(sentence))\n",
    "print(count_words(sentence))\n",
    "print(count_grouprank_words(sentence))\n",
    "print(count_content_words(sentence))\n",
    "print(count_grouprank_contentwords(sentence))\n",
    "print(rare_words(sentence))"
   ]
  },
  {
   "cell_type": "code",
   "execution_count": 36,
   "id": "5d9acdd7",
   "metadata": {},
   "outputs": [
    {
     "name": "stdout",
     "output_type": "stream",
     "text": [
      "(287.362, 8447.153, 6.518, 0.539)\n",
      "3.442\n",
      "(376.656, 1425.566, 5.384)\n",
      "4.238\n",
      "(400.571, 3368.718, 4.924)\n",
      "4.417\n",
      "(505.73, 288.402, 3.692)\n",
      "5.377\n",
      "(0.546, 0.405, 0.27, 0.166)\n"
     ]
    }
   ],
   "source": [
    "sentence = \"Sed memoria mea ingenti virtute, divorsis moribus fuere viri duo, M. Cato et C. Caesar. Quos quoniam res obtulerat, silentio praeterire non fuit consilium, quin utriusque naturam et mores, quantum ingenio possum, aperirem. Igitur iis genus, aetas, eloquentia prope aequalia fuere, magnitudo animi par, item gloria, sed alia alii. Caesar beneficiis ac munificentia magnus habebatur, integritate vitae Cato. Ille mansuetudine et misericordia clarus factus, huic severitas dignitatem addiderat. Caesar dando, sublevando, ignoscundo, Cato nihil largiundo gloriam adeptus est. In altero miseris perfugium erat, in altero malis pernicies. Illius facilitas, huius constantia laudabatur. Postremo Caesar in animum induxerat laborare, vigilare; negotiis amicorum intentus sua neglegere, nihil denegare, quod dono dignum esset; sibi magnum imperium, exercitum, bellum novum exoptabat, ubi virtus enitescere posset. At Catoni studium modestiae, decoris, sed maxume severitatis erat; non divitiis cum divite neque factione cum factioso, sed cum strenuo virtute, cum modesto pudore, cum innocente abstinentia certabat; esse quam videri bonus malebat: ita, quo minus petebat gloriam, eo magis illum sequebatur.\"\n",
    "print(count_rank(sentence))\n",
    "print(count_grouprank(sentence))\n",
    "print(count_content(sentence))\n",
    "print(count_content_group(sentence))\n",
    "print(count_words(sentence))\n",
    "print(count_grouprank_words(sentence))\n",
    "print(count_content_words(sentence))\n",
    "print(count_grouprank_contentwords(sentence))\n",
    "print(rare_words(sentence))"
   ]
  },
  {
   "cell_type": "code",
   "execution_count": 37,
   "id": "cd0ed002",
   "metadata": {},
   "outputs": [
    {
     "name": "stdout",
     "output_type": "stream",
     "text": [
      "(259.006, 8824.814, 6.667, 0.316)\n",
      "3.154\n",
      "(343.626, 1510.47, 5.517)\n",
      "3.896\n",
      "(383.276, 3519.385, 5.067)\n",
      "4.256\n",
      "(488.67, 305.287, 3.811)\n",
      "5.217\n",
      "(0.526, 0.378, 0.237, 0.128)\n"
     ]
    }
   ],
   "source": [
    "sentence = \"Sed memoria mea ingenti virtute, divorsis moribus fuere viri duo, M. Cato et C. Caesar. Quos quoniam res obtulerat, silentio praeterire non fuit consilium, quin utriusque naturam et mores, quantum ingenio possum, aperirem. Igitur iis genus, aetas, eloquentia prope aequalia fuere, magnitudo animi par, item gloria, sed alia alii. Caesar beneficiis ac magnus habebatur, vitae Cato. Ille et misericordia clarus factus, huic severitas dignitatem addiderat. Caesar dando, ignoscundo, Cato nihil largiundo gloriam adeptus est. In altero miseris perfugium erat, in altero malis pernicies. Illius facilitas, huius constantia laudabatur. Postremo Caesar in animum induxerat laborare, vigilare; negotiis amicorum intentus sua neglegere, nihil denegare, quod dono dignum esset; sibi magnum imperium, exercitum, bellum novum exoptabat, ubi virtus posset. At Catoni studium modestiae, decoris, sed maxume severitatis erat; non divitiis cum divite neque factione cum, sed cum strenuo virtute, cum modesto pudore, cum innocente certabat; esse quam videri bonus malebat: ita, quo minus petebat gloriam, eo magis illum sequebatur.\"\n",
    "print(count_rank(sentence))\n",
    "print(count_grouprank(sentence))\n",
    "print(count_content(sentence))\n",
    "print(count_content_group(sentence))\n",
    "print(count_words(sentence))\n",
    "print(count_grouprank_words(sentence))\n",
    "print(count_content_words(sentence))\n",
    "print(count_grouprank_contentwords(sentence))\n",
    "print(rare_words(sentence))"
   ]
  },
  {
   "cell_type": "code",
   "execution_count": 38,
   "id": "8396bcd6",
   "metadata": {},
   "outputs": [
    {
     "name": "stdout",
     "output_type": "stream",
     "text": [
      "(488.604, 7370.947, 5.544, 6.414)\n",
      "5.439\n",
      "(604.926, 827.349, 4.411)\n",
      "6.523\n",
      "(529.326, 5032.332, 4.022)\n",
      "5.631\n",
      "(651.389, 128.725, 2.688)\n",
      "6.752\n",
      "(0.642, 0.626, 0.535, 0.401)\n"
     ]
    }
   ],
   "source": [
    "sentence = \"Tertius aequoreis inclusum Piscibus annum finierat Titan, omnemque refugerat Orpheus femineam Venerem, seu quod male cesserat illi, sive fidem dederat; multas tamen ardor habebat iungere se vati, multae doluere repulsae. ille etiam Thracum populis fuit auctor amorem in teneros transferre mares citraque iuventam aetatis breve ver et primos carpere flores. Collis erat collemque super planissima campi area, quam viridem faciebant graminis herbae: umbra loco deerat; qua postquam parte resedit dis genitus vates et fila sonantia movit, umbra loco venit: non Chaonis afuit arbor, non nemus Heliadum, non frondibus aesculus altis, nec tiliae molles, nec fagus et innuba laurus, et coryli fragiles et fraxinus utilis hastis enodisque abies curvataque glandibus ilex et platanus genialis acerque coloribus inpar amnicolaeque simul salices et aquatica lotos perpetuoque virens buxum tenuesque myricae et bicolor myrtus et bacis caerula tinus. vos quoque, flexipedes hederae, venistis et una pampineae vites et amictae vitibus ulmi ornique et piceae pomoque onerata rubenti arbutus et lentae, victoris praemia, palmae et succincta comas hirsutaque vertice pinus, grata deum matri, siquidem Cybeleius Attis exuit hac hominem truncoque induruit illo. Adfuit huic turbae metas imitata cupressus, nunc arbor, puer ante.\"\n",
    "print(count_rank(sentence))\n",
    "print(count_grouprank(sentence))\n",
    "print(count_content(sentence))\n",
    "print(count_content_group(sentence))\n",
    "print(count_words(sentence))\n",
    "print(count_grouprank_words(sentence))\n",
    "print(count_content_words(sentence))\n",
    "print(count_grouprank_contentwords(sentence))\n",
    "print(rare_words(sentence))"
   ]
  },
  {
   "cell_type": "code",
   "execution_count": 39,
   "id": "c5900661",
   "metadata": {},
   "outputs": [
    {
     "name": "stdout",
     "output_type": "stream",
     "text": [
      "(463.253, 8291.006, 6.173, 3.162)\n",
      "5.209\n",
      "(594.711, 1001.95, 5.015)\n",
      "6.438\n",
      "(522.684, 5936.032, 4.524)\n",
      "5.608\n",
      "(667.14, 155.165, 3.068)\n",
      "6.942\n",
      "(0.627, 0.608, 0.513, 0.354)\n"
     ]
    }
   ],
   "source": [
    "sentence = \"Tertius aequoreis inclusum annum finierat, omnemque refugerat Orpheus femineam Venerem, seu quod male cesserat illi, sive fidem dederat; multas tamen ardor habebat iungere se vati, multae doluere repulsae. ille etiam populis amorem in teneros transferre mares iuventam aetatis breve ver et primos carpere flores. Collis erat collemque super planissima campi area, quam viridem faciebant graminis herbae: umbra loco deerat; qua postquam parte resedit dis genitus vates et fila sonantia movit, umbra loco venit: non afuit arbor, non nemus, non frondibus altis, nec molles, nec fagus et laurus, et coryli fragiles et fraxinus utilis hastis abies curvataque glandibus ilex et platanus coloribus simul salices et  perpetuoque virens buxum tenuesque myricae et myrtus et bacis caerula. vos quoque, hederae, venistis et una pampineae vites et vitibus ulmi ornique et piceae pomoque onerata rubenti et, victoris praemia, palmae et succincta hirsutaque vertice pinus, grata deum matri, siquidem exuit hac hominem truncoque illo. Adfuit huic turbae imitata cupressus, nunc arbor, puer ante.\"\n",
    "print(count_rank(sentence))\n",
    "print(count_grouprank(sentence))\n",
    "print(count_content(sentence))\n",
    "print(count_content_group(sentence))\n",
    "print(count_words(sentence))\n",
    "print(count_grouprank_words(sentence))\n",
    "print(count_content_words(sentence))\n",
    "print(count_grouprank_contentwords(sentence))\n",
    "print(rare_words(sentence))"
   ]
  },
  {
   "cell_type": "code",
   "execution_count": 40,
   "id": "ab824242",
   "metadata": {},
   "outputs": [
    {
     "name": "stdout",
     "output_type": "stream",
     "text": [
      "(268.184, 9360.449, 7.2, 0.422)\n",
      "3.279\n",
      "(394.778, 1411.222, 5.896)\n",
      "4.444\n",
      "(392.132, 3612.735, 5.471)\n",
      "4.375\n",
      "(561.456, 223.378, 3.878)\n",
      "5.956\n",
      "(0.522, 0.375, 0.25, 0.125)\n"
     ]
    }
   ],
   "source": [
    "sentence = \"Scipio postquam in Siciliam venit, voluntarios milites ordinavit centuriavitque. ex iis trecentos iuvenes, florentes aetate et virium robore insignes, inermes circa se habebat, ignorantes quem ad usum neque centuriati neque armati servarentur. tum ex totius Siciliae iuniorum numero principes genere et fortuna trecentos equites qui secum in Africam traicerent legit, diemque iis qua equis armisque instructi atque ornati adessent edixit. gravis ea militia, procul domo, terra marique multos labores magna pericula allatura videbatur; neque ipsos modo sed parentes cognatosque eorum ea cura angebat. ubi dies quae dicta erat advenit, arma equosque ostenderunt. tum Scipio renuntiari sibi dixit quosdam equites Siculorum tamquam gravem et duram horrere eam militiam: si qui ita animati essent, malle eos sibi iam tum fateri quam postmodo querentes segnes atque inutiles milites rei publicae esse; expromerent quid sentirent; cum bona venia se auditurum.\"\n",
    "print(count_rank(sentence))\n",
    "print(count_grouprank(sentence))\n",
    "print(count_content(sentence))\n",
    "print(count_content_group(sentence))\n",
    "print(count_words(sentence))\n",
    "print(count_grouprank_words(sentence))\n",
    "print(count_content_words(sentence))\n",
    "print(count_grouprank_contentwords(sentence))\n",
    "print(rare_words(sentence))"
   ]
  },
  {
   "cell_type": "code",
   "execution_count": 41,
   "id": "306d91c2",
   "metadata": {},
   "outputs": [
    {
     "name": "stdout",
     "output_type": "stream",
     "text": [
      "(219.713, 10345.4, 7.492, 0.288)\n",
      "2.8\n",
      "(342.746, 1607.944, 6.108)\n",
      "3.915\n",
      "(360.678, 3637.139, 5.79)\n",
      "4.087\n",
      "(544.873, 238.803, 4.105)\n",
      "5.817\n",
      "(0.47, 0.313, 0.191, 0.07)\n"
     ]
    }
   ],
   "source": [
    "sentence = \"Scipio postquam in Siciliam venit, voluntarios milites. ex iis trecentos iuvenes, florentes aetate et virium robore insignes, inermes circa se habebat, ignorantes quem ad usum neque neque armati. tum ex totius Siciliae iuniorum numero trecentos equites qui secum in Africam legit, diemque iis qua equis armisque instructi atque ornati adessent edixit. gravis ea militia, procul domo, terra marique multos labores magna pericula allatura videbatur; neque ipsos modo sed parentes cognatosque eorum ea cura. ubi dies quae dicta erat advenit, arma equosque ostenderunt. tum Scipio sibi dixit quosdam equites Siculorum gravem et duram eam militiam: si qui ita essent, malle eos sibi iam tum quam querentes atque inutiles milites rei publicae esse; quid sentirent; se auditurum.\"\n",
    "print(count_rank(sentence))\n",
    "print(count_grouprank(sentence))\n",
    "print(count_content(sentence))\n",
    "print(count_content_group(sentence))\n",
    "print(count_words(sentence))\n",
    "print(count_grouprank_words(sentence))\n",
    "print(count_content_words(sentence))\n",
    "print(count_grouprank_contentwords(sentence))\n",
    "print(rare_words(sentence))"
   ]
  },
  {
   "cell_type": "code",
   "execution_count": 42,
   "id": "7659c49d",
   "metadata": {},
   "outputs": [
    {
     "name": "stdout",
     "output_type": "stream",
     "text": [
      "(324.034, 7230.787, 6.695, 0.994)\n",
      "3.792\n",
      "(440.425, 1042.654, 5.561)\n",
      "4.85\n",
      "(428.635, 4060.635, 4.938)\n",
      "4.713\n",
      "(562.591, 255.882, 3.437)\n",
      "5.921\n",
      "(0.601, 0.444, 0.298, 0.191)\n"
     ]
    }
   ],
   "source": [
    "sentence = \"Et cum diu nunc in veneratione, nunc in desiderio regis haesissent, in ipsos versa miseratio est. Macedonia profecti ultra Euphraten in mediis hostibus novum imperium aspernantibus destitutos se esse cernebant: sine certo regis herede, sine herede regni publicas vires ad se quemque tracturum. Bella deinde civilia, quae secuta sunt, mentibus augurabantur: iterum non de regno Asiae, sed de rege ipsis sanguinem esse fundendum; novis vulneribus veteres rumpendas cicatrices; senes, debiles, modo petita missione a iusto rege, nunc morituros pro potentia forsitan satellitis alicuius ignobilis. Has cogitationes volventibus nox supervenit terroremque auxit. Milites in armis vigilabant. Babylonii alius e muris, alius culmine sui quisque tecti prospectabant, quasi certiora visuri. Nec quisquam lumina audebat accendere; et, quia oculorum cessabat usus, fremitus vocesque auribus captabant; ac plerumque, vano metu territi per obscuras semitas alius alii occursantes invicem suspecti ac solliciti ferebantur. Persae comis suo more detonsis in lugubri veste cum coniugibus ac liberis, non ut victorem et modo ut hostem, sed ut gentis suae iustissimum regem vero desiderio lugebant. Adsueti sub rege vivere non alium, qui imperaret ipsis, digniorem fuisse confitebantur.\"\n",
    "print(count_rank(sentence))\n",
    "print(count_grouprank(sentence))\n",
    "print(count_content(sentence))\n",
    "print(count_content_group(sentence))\n",
    "print(count_words(sentence))\n",
    "print(count_grouprank_words(sentence))\n",
    "print(count_content_words(sentence))\n",
    "print(count_grouprank_contentwords(sentence))\n",
    "print(rare_words(sentence))"
   ]
  },
  {
   "cell_type": "code",
   "execution_count": 43,
   "id": "e5c2300d",
   "metadata": {},
   "outputs": [
    {
     "name": "stdout",
     "output_type": "stream",
     "text": [
      "(311.464, 7638.131, 6.899, 0.983)\n",
      "3.685\n",
      "(429.305, 1118.585, 5.777)\n",
      "4.754\n",
      "(430.351, 4281.565, 5.137)\n",
      "4.75\n",
      "(572.068, 275.059, 3.634)\n",
      "6.034\n",
      "(0.601, 0.435, 0.28, 0.167)\n"
     ]
    }
   ],
   "source": [
    "sentence = \"Et cum diu nunc in veneratione, nunc in desiderio regis haesissent, in ipsos versa miseratio est. profecti ultra Euphraten in mediis hostibus novum imperium aspernantibus se esse cernebant: sine certo regis herede, sine herede regni publicas vires ad se quemque tracturum. Bella deinde civilia, quae secuta sunt, mentibus augurabantur: iterum non de regno Asiae, sed de rege ipsis sanguinem esse fundendum; novis vulneribus veteres rumpendas; senes, debiles, modo petita missione a iusto rege, nunc morituros pro potentia forsitan alicuius ignobilis. Has cogitationes volventibus nox supervenit terroremque auxit. Milites in armis vigilabant. alius e muris, alius sui quisque tecti prospectabant, quasi certiora visuri. Nec quisquam lumina audebat accendere; et, quia oculorum usus, fremitus vocesque auribus captabant; ac plerumque, vano metu territi per obscuras alius alii occursantes invicem suspecti ac solliciti ferebantur. comis suo more detonsis in lugubri veste cum coniugibus ac liberis, non ut victorem et ut hostem, sed ut gentis suae iustissimum regem vero desiderio lugebant. Adsueti sub rege vivere non alium, qui imperaret ipsis, digniorem fuisse confitebantur.\"\n",
    "print(count_rank(sentence))\n",
    "print(count_grouprank(sentence))\n",
    "print(count_content(sentence))\n",
    "print(count_content_group(sentence))\n",
    "print(count_words(sentence))\n",
    "print(count_grouprank_words(sentence))\n",
    "print(count_content_words(sentence))\n",
    "print(count_grouprank_contentwords(sentence))\n",
    "print(rare_words(sentence))"
   ]
  },
  {
   "cell_type": "code",
   "execution_count": 44,
   "id": "e561c482",
   "metadata": {},
   "outputs": [
    {
     "name": "stdout",
     "output_type": "stream",
     "text": [
      "(299.573, 8370.188, 6.802, 0.778)\n",
      "3.557\n",
      "(422.656, 1439.687, 5.485)\n",
      "4.679\n",
      "(411.651, 4216.177, 5.093)\n",
      "4.547\n",
      "(559.183, 249.275, 3.455)\n",
      "5.885\n",
      "(0.484, 0.385, 0.292, 0.198)\n"
     ]
    }
   ],
   "source": [
    "sentence = \"Hoc tibi soli putas accidisse et admiraris quasi rem novam quod peregrinatione tam longa et tot locorum varietatibus non discussisti tristitiam gravitatemque mentis? Animum debes mutare, non caelum. Licet vastum traieceris mare, licet, ut ait Vergilius noster, terraeque urbesque recedant, sequentur te quocumque perveneris vitia. Hoc idem querenti cuidam Socrates ait, quid miraris nihil tibi peregrinationes prodesse, cum te circumferas? premit te eadem causa quae expulit. Quid terrarum iuvare novitas potest? quid cognitio urbium aut locorum? in irritum cedit ista iactatio. Quaeris quare te fuga ista non adiuvet? tecum fugis. Onus animi deponendum est: non ante tibi ullus placebit locus. Vadis huc illuc ut excutias insidens pondus quod ipsa iactatione incommodius fit, sicut in navi onera immota minus urgent, inaequaliter convoluta citius eam partem in quam incubuere demergunt. Quidquid facis, contra te facis et motu ipso noces tibi; aegrum enim concutis. At cum istuc exemeris malum, omnis mutatio loci iucunda fiet; Cum hac persuasione vivendum est: non sum uni angulo natus, patria mea totus hic mundus est. Quod si liqueret tibi, non admirareris nil adiuvari te regionum varietatibus in quas subinde priorum taedio migras; prima enim quaeque placuisset si omnem tuam crederes.\"\n",
    "print(count_rank(sentence))\n",
    "print(count_grouprank(sentence))\n",
    "print(count_content(sentence))\n",
    "print(count_content_group(sentence))\n",
    "print(count_words(sentence))\n",
    "print(count_grouprank_words(sentence))\n",
    "print(count_content_words(sentence))\n",
    "print(count_grouprank_contentwords(sentence))\n",
    "print(rare_words(sentence))"
   ]
  },
  {
   "cell_type": "code",
   "execution_count": 45,
   "id": "5fe6a672",
   "metadata": {},
   "outputs": [
    {
     "name": "stdout",
     "output_type": "stream",
     "text": [
      "(261.778, 8874.534, 7.008, 0.326)\n",
      "3.182\n",
      "(376.402, 1566.265, 5.678)\n",
      "4.214\n",
      "(387.33, 4380.017, 5.286)\n",
      "4.318\n",
      "(536.744, 272.094, 3.604)\n",
      "5.675\n",
      "(0.449, 0.347, 0.25, 0.148)\n"
     ]
    }
   ],
   "source": [
    "sentence = \"Hoc tibi soli putas accidisse et admiraris quasi rem novam quod tam longa et tot locorum varietatibus non tristitiam gravitatemque mentis? Animum debes mutare, non caelum. Licet vastum traieceris mare, licet, ut ait Vergilius noster, terraeque urbesque recedant, sequentur te quocumque perveneris vitia. Hoc idem querenti cuidam Socrates ait, quid miraris nihil tibi prodesse, cum te? premit te eadem causa quae expulit. Quid terrarum iuvare novitas potest? quid cognitio urbium aut locorum? ista. Quaeris quare te fuga ista non adiuvet? tecum fugis. Onus animi deponendum est: non ante tibi ullus placebit locus. Vadis huc illuc ut excutias pondus quod ipsa incommodius fit, sicut in navi onera immota minus urgent, citius eam partem in quam incubuere demergunt. Quidquid facis, contra te facis et motu ipso noces tibi; aegrum enim concutis. At cum istuc exemeris malum, omnis mutatio loci iucunda fiet; Cum hac vivendum est: non sum uni angulo natus, patria mea totus hic mundus est. Quod si liqueret tibi, non admirareris nil adiuvari te regionum varietatibus in quas priorum taedio migras; enim placuisset si omnem tuam crederes.\"\n",
    "print(count_rank(sentence))\n",
    "print(count_grouprank(sentence))\n",
    "print(count_content(sentence))\n",
    "print(count_content_group(sentence))\n",
    "print(count_words(sentence))\n",
    "print(count_grouprank_words(sentence))\n",
    "print(count_content_words(sentence))\n",
    "print(count_grouprank_contentwords(sentence))\n",
    "print(rare_words(sentence))"
   ]
  },
  {
   "cell_type": "code",
   "execution_count": 46,
   "id": "2f7d4ae5",
   "metadata": {},
   "outputs": [
    {
     "name": "stdout",
     "output_type": "stream",
     "text": [
      "(334.648, 8529.553, 5.982, 1.77)\n",
      "3.855\n",
      "(439.239, 770.179, 4.659)\n",
      "4.784\n",
      "(422.045, 3657.022, 4.472)\n",
      "4.609\n",
      "(538.56, 152.575, 3.034)\n",
      "5.679\n",
      "(0.547, 0.453, 0.352, 0.201)\n"
     ]
    }
   ],
   "source": [
    "sentence = \"Quis fuit, horrendos primus qui protulit enses? Quam ferus et vere ferreus ille fuit! Tum caedes hominum generi, tum proelia nata, Tum brevior dirae mortis aperta via est. An nihil ille miser meruit, nos ad mala nostra Vertimus, in saevas quod dedit ille feras? Divitis hoc vitium est auri, nec bella fuerunt, Faginus adstabat cum scyphus ante dapes. Non arces, non vallus erat, somnumque petebat Securus sparsas dux gregis inter oves. Tunc mihi vita foret, volgi nec tristia nossem Arma nec audissem corde micante tubam; Nunc ad bella trahor, et iam quis forsitan hostis Haesura in nostro tela gerit latere. Quam potius laudandus hic est, quem prole parata Occupat in parva pigra senecta casa. Ipse suas sectatur oves, at filius agnos, Et calidam fesso conparat uxor aquam. Sic ego sim, liceatque caput candescere canis, Temporis et prisci facta referre senem. Interea pax arva colat. pax candida primum Duxit araturos sub iuga curva boves, Pax aluit vites et sucos condidit uvae, Funderet ut nato testa paterna merum, Pace bidens vomerque nitent, at tristia duri Militis in tenebris occupat arma situs.\"\n",
    "print(count_rank(sentence))\n",
    "print(count_grouprank(sentence))\n",
    "print(count_content(sentence))\n",
    "print(count_content_group(sentence))\n",
    "print(count_words(sentence))\n",
    "print(count_grouprank_words(sentence))\n",
    "print(count_content_words(sentence))\n",
    "print(count_grouprank_contentwords(sentence))\n",
    "print(rare_words(sentence))"
   ]
  },
  {
   "cell_type": "code",
   "execution_count": 47,
   "id": "cf810fc6",
   "metadata": {},
   "outputs": [
    {
     "name": "stdout",
     "output_type": "stream",
     "text": [
      "(325.569, 8771.287, 6.073, 1.575)\n",
      "3.77\n",
      "(431.047, 795.488, 4.731)\n",
      "4.705\n",
      "(416.057, 3761.902, 4.564)\n",
      "4.557\n",
      "(535.0, 158.209, 3.103)\n",
      "5.651\n",
      "(0.54, 0.443, 0.345, 0.19)\n"
     ]
    }
   ],
   "source": [
    "sentence = \"Quis fuit, horrendos primus qui protulit enses? Quam ferus et vere ferreus ille fuit! Tum caedes hominum generi, tum proelia nata, Tum brevior dirae mortis aperta via est. An nihil ille miser meruit, nos ad mala nostra Vertimus, in saevas quod dedit ille feras? Divitis hoc vitium est auri, nec bella fuerunt, adstabat cum scyphus ante dapes. Non arces, non vallus erat, somnumque petebat Securus sparsas dux gregis inter oves. Tunc mihi vita foret, volgi nec tristia nossem Arma nec audissem corde micante tubam; Nunc ad bella trahor, et iam quis forsitan hostis Haesura in nostro tela gerit latere. Quam potius laudandus hic est, quem prole parata Occupat in parva pigra senecta casa. Ipse suas oves, at filius agnos, Et calidam fesso conparat uxor aquam. Sic ego sim, liceatque caput canis, Temporis et prisci facta referre senem. Interea pax arva colat. pax candida primum Duxit araturos sub iuga curva boves, Pax aluit vites et sucos condidit uvae, Funderet ut nato testa paterna merum, Pace vomerque nitent, at tristia duri Militis in tenebris occupat arma.\"\n",
    "print(count_rank(sentence))\n",
    "print(count_grouprank(sentence))\n",
    "print(count_content(sentence))\n",
    "print(count_content_group(sentence))\n",
    "print(count_words(sentence))\n",
    "print(count_grouprank_words(sentence))\n",
    "print(count_content_words(sentence))\n",
    "print(count_grouprank_contentwords(sentence))\n",
    "print(rare_words(sentence))"
   ]
  },
  {
   "cell_type": "code",
   "execution_count": 48,
   "id": "ec334cc8",
   "metadata": {},
   "outputs": [
    {
     "name": "stdout",
     "output_type": "stream",
     "text": [
      "(367.802, 8588.858, 6.479, 1.54)\n",
      "4.234\n",
      "(508.186, 864.436, 5.127)\n",
      "5.529\n",
      "(425.254, 5136.98, 5.059)\n",
      "4.665\n",
      "(580.986, 196.129, 3.428)\n",
      "6.093\n",
      "(0.579, 0.523, 0.365, 0.254)\n"
     ]
    }
   ],
   "source": [
    "sentence = \"Sequitur clades, forte an dolo principis incertum (nam utrumque auctores prodidere), sed omnibus, quae huic urbi per violentiam ignium acciderunt, gravior atque atrocior. initium in ea parte circi ortum, quae Palatino Caelioque montibus contigua est, ubi per tabernas, quibus id mercimonium inerat, quo flamma alitur, simul coeptus ignis et statim validus ac vento citus longitudinem circi conripuit. neque enim domus munimentis saeptae vel templa muris cincta aut quid aliud morae interiacebat. impetu pervagatum incendium plana primum, deinde in edita adsurgens et rursus inferiora populando anteiit remedia velocitate mali et obnoxia urbe artis itineribus hucque et illuc flexis atque enormibus vicis, qualis vetus Roma fuit. Eo in tempore Nero Antii agens non ante in urbem regressus est, quam domui eius ignis propinquaret. neque tamen sisti potuit, quin et Palatium et domus et cuncta circum haurirentur. sed solacium populo exturbato ac profugo campum Martis ac monumenta Agrippae, hortos quin etiam suos patefacit et subitaria aedificia exstruxit, quae multitudinem inopem acciperent; subvectaque utensilia ab Ostia et propinquis municipiis. quae quamquam popularia in inritum cadebant, quia pervaserat rumor ipso tempore flagrantis urbis inisse eum domesticam scaenam et cecinisse Troianum excidium, praesentia mala vetustis cladibus adsimulantem. Sexto demum die finis incendio factus.\"\n",
    "print(count_rank(sentence))\n",
    "print(count_grouprank(sentence))\n",
    "print(count_content(sentence))\n",
    "print(count_content_group(sentence))\n",
    "print(count_words(sentence))\n",
    "print(count_grouprank_words(sentence))\n",
    "print(count_content_words(sentence))\n",
    "print(count_grouprank_contentwords(sentence))\n",
    "print(rare_words(sentence))"
   ]
  },
  {
   "cell_type": "code",
   "execution_count": 49,
   "id": "0ccffdd7",
   "metadata": {},
   "outputs": [
    {
     "name": "stdout",
     "output_type": "stream",
     "text": [
      "(342.395, 9338.158, 6.881, 1.004)\n",
      "3.994\n",
      "(490.058, 986.975, 5.537)\n",
      "5.355\n",
      "(415.706, 5505.203, 5.438)\n",
      "4.599\n",
      "(587.975, 225.537, 3.77)\n",
      "6.19\n",
      "(0.565, 0.503, 0.333, 0.22)\n"
     ]
    }
   ],
   "source": [
    "sentence = \"Sequitur clades, forte an dolo principis incertum (nam utrumque auctores prodidere), sed omnibus, quae huic urbi per violentiam ignium acciderunt, gravior atque atrocior. initium in ea parte circi ortum, quae montibus est, ubi per tabernas, quibus id inerat, quo flamma alitur, simul coeptus ignis et statim validus ac vento citus longitudinem circi conripuit. neque enim domus munimentis saeptae vel templa muris cincta aut quid aliud morae. impetu incendium plana primum, deinde in edita adsurgens et rursus inferiora populando anteiit velocitate mali et obnoxia urbe artis itineribus hucque et illuc flexis atque, qualis vetus Roma fuit. Eo in tempore Nero agens non ante in urbem regressus est, quam domui eius ignis propinquaret. neque tamen sisti potuit, quin et et domus et cuncta circum haurirentur. sed solacium populo exturbato ac profugo campum Martis ac, hortos quin etiam suos patefacit et aedificia exstruxit, quae multitudinem inopem acciperent; ab Ostia et propinquis municipiis. quae quamquam, quia pervaserat rumor ipso tempore flagrantis urbis inisse eum domesticam scaenam et cecinisse Troianum excidium, praesentia mala vetustis cladibus adsimulantem. Sexto demum die finis incendio factus.\"\n",
    "print(count_rank(sentence))\n",
    "print(count_grouprank(sentence))\n",
    "print(count_content(sentence))\n",
    "print(count_content_group(sentence))\n",
    "print(count_words(sentence))\n",
    "print(count_grouprank_words(sentence))\n",
    "print(count_content_words(sentence))\n",
    "print(count_grouprank_contentwords(sentence))\n",
    "print(rare_words(sentence))"
   ]
  },
  {
   "cell_type": "code",
   "execution_count": 50,
   "id": "d94d877c",
   "metadata": {},
   "outputs": [
    {
     "name": "stdout",
     "output_type": "stream",
     "text": [
      "(228.075, 11356.654, 7.071, 0.925)\n",
      "2.869\n",
      "(359.718, 1314.115, 5.309)\n",
      "4.023\n",
      "(339.841, 4749.822, 5.561)\n",
      "3.902\n",
      "(500.107, 223.145, 3.578)\n",
      "5.359\n",
      "(0.411, 0.294, 0.224, 0.121)\n"
     ]
    }
   ],
   "source": [
    "sentence = \"Nulla est enim natio, quam pertimescamus, nullus rex, qui bellum populo Romano facere possit. Omnia sunt externa unius virtute terra marique pacata; domesticum bellum manet, intus insidiae sunt, intus inclusum periculum est, intus est hostis. Cum luxuria nobis, cum amentia, cum scelere certandum est. Huic ego me bello ducem profiteor, Quirites; suscipio inimicitias hominum perditorum; quae sanari poterunt, quacumque ratione sanabo, quae resecanda erunt, non patiar ad perniciem civitatis manere. Proinde aut exeant aut quiescant aut, si et in urbe et in eadem mente permanent, ea, quae merentur, expectent. At etiam sunt, qui dicant, Quirites, a me eiectum esse Catilinam. Quod ego si verbo assequi possem, istos ipsos eicerem, qui haec loquuntur. Homo enim videlicet timidus aut etiam permodestus vocem consulis ferre non potuit; simul atque ire in exilium iussus est, paruit. Quin hesterno die, cum domi meae paene interfectus essem, senatum in aedem Iovis Statoris convocavi, rem omnem ad patres conscriptos detuli. Quo cum Catilina venisset, quis eum senator appellavit, quis salutavit, quis denique ita aspexit ut perditum civem ac non potius ut inportunissimum hostem? Quin etiam principes eius ordinis partem illam subselliorum, ad quam ille accesserat, nudam atque inanem reliquerunt. Hic ego vehemens ille consul, qui verbo civis in exilium eicio, quaesivi a Catilina, in nocturno conventu apud M. Laecam fuisset necne.\"\n",
    "print(count_rank(sentence))\n",
    "print(count_grouprank(sentence))\n",
    "print(count_content(sentence))\n",
    "print(count_content_group(sentence))\n",
    "print(count_words(sentence))\n",
    "print(count_grouprank_words(sentence))\n",
    "print(count_content_words(sentence))\n",
    "print(count_grouprank_contentwords(sentence))\n",
    "print(rare_words(sentence))"
   ]
  },
  {
   "cell_type": "code",
   "execution_count": 51,
   "id": "0d13ff31",
   "metadata": {},
   "outputs": [
    {
     "name": "stdout",
     "output_type": "stream",
     "text": [
      "(227.431, 11517.507, 7.148, 0.935)\n",
      "2.867\n",
      "(361.742, 1343.898, 5.396)\n",
      "4.047\n",
      "(341.512, 4816.739, 5.617)\n",
      "3.924\n",
      "(506.617, 227.359, 3.624)\n",
      "5.43\n",
      "(0.412, 0.294, 0.223, 0.118)\n"
     ]
    }
   ],
   "source": [
    "sentence = \"Nulla est enim natio, quam pertimescamus, nullus rex, qui bellum populo Romano facere possit. Omnia sunt externa unius virtute terra marique pacata; domesticum bellum manet, intus insidiae sunt, intus inclusum periculum est, intus est hostis. Cum luxuria nobis, cum amentia, cum scelere certandum est. Huic ego me bello ducem profiteor, Quirites; suscipio inimicitias hominum perditorum; quae sanari poterunt, quacumque ratione sanabo, quae resecanda erunt, non patiar ad perniciem civitatis manere. Proinde aut exeant aut quiescant aut, si et in urbe et in eadem mente permanent, ea, quae merentur, expectent. At etiam sunt, qui dicant, Quirites, a me eiectum esse Catilinam. Quod ego si verbo assequi possem, istos ipsos eicerem, qui haec loquuntur. Homo enim timidus aut etiam permodestus vocem consulis ferre non potuit; simul atque ire in exilium iussus est, paruit. Quin hesterno die, cum domi meae paene interfectus essem, senatum in aedem Iovis Statoris convocavi, rem omnem ad patres conscriptos detuli. Quo cum Catilina venisset, quis eum senator appellavit, quis salutavit, quis denique ita aspexit ut perditum civem ac non potius ut inportunissimum hostem? Quin etiam principes eius ordinis partem illam subselliorum, ad quam ille accesserat, nudam atque inanem reliquerunt. Hic ego vehemens ille consul, qui verbo civis in exilium eicio, quaesivi a Catilina, in nocturno conventu apud fuisset necne.\"\n",
    "print(count_rank(sentence))\n",
    "print(count_grouprank(sentence))\n",
    "print(count_content(sentence))\n",
    "print(count_content_group(sentence))\n",
    "print(count_words(sentence))\n",
    "print(count_grouprank_words(sentence))\n",
    "print(count_content_words(sentence))\n",
    "print(count_grouprank_contentwords(sentence))\n",
    "print(rare_words(sentence))"
   ]
  },
  {
   "cell_type": "code",
   "execution_count": 52,
   "id": "d4e1ca0c",
   "metadata": {},
   "outputs": [
    {
     "name": "stdout",
     "output_type": "stream",
     "text": [
      "(282.132, 8256.826, 6.984, 0.478)\n",
      "3.379\n",
      "(363.417, 1790.826, 6.086)\n",
      "4.104\n",
      "(432.016, 3326.926, 5.137)\n",
      "4.753\n",
      "(543.097, 296.535, 4.02)\n",
      "5.778\n",
      "(0.584, 0.368, 0.268, 0.137)\n"
     ]
    }
   ],
   "source": [
    "sentence = \"Igitur domi militiaeque boni mores colebantur; concordia maxuma, minuma avaritia erat; ius bonumque apud eos non legibus magis quam natura valebat. Iurgia, discordias, simultates cum hostibus exercebant, cives cum civibus de virtute certabant. In suppliciis deorum magnifici, domi parci, in amicos fideles erant. Duabus his artibus, audacia in bello, ubi pax evenerat, aequitate, seque remque publicam curabant. Quarum rerum ego maxuma documenta haec habeo, quod in bello saepius vindicatum est in eos, qui contra imperium in hostem pugnaverant quique tardius revocati proelio excesserant, quam qui signa relinquere aut pulsi loco cedere ausi erant; in pace vero, quod beneficiis magis quam metu imperium agitabant et accepta iniuria ignoscere quam persequi malebant. Sed ubi labore atque iustitia res publica crevit, reges magni bello domiti, nationes ferae et populi ingentes vi subacti, Carthago, aemula imperi Romani, ab stirpe interiit, cuncta maria terraeque patebant, saevire fortuna ac miscere omnia coepit. Qui labores, pericula, dubias atque asperas res facile toleraverant, iis otium divitiaeque optanda alias, oneri miseriaeque fuere. Igitur primo pecuniae, deinde imperi cupido crevit: ea quasi materies omnium malorum fuere. Namque avaritia fidem, probitatem ceterasque artis bonas subvortit; Ambitio multos mortalis falsos fieri subegit.\"\n",
    "print(count_rank(sentence))\n",
    "print(count_grouprank(sentence))\n",
    "print(count_content(sentence))\n",
    "print(count_content_group(sentence))\n",
    "print(count_words(sentence))\n",
    "print(count_grouprank_words(sentence))\n",
    "print(count_content_words(sentence))\n",
    "print(count_grouprank_contentwords(sentence))\n",
    "print(rare_words(sentence))"
   ]
  },
  {
   "cell_type": "code",
   "execution_count": 53,
   "id": "4c9af7cf",
   "metadata": {},
   "outputs": [
    {
     "name": "stdout",
     "output_type": "stream",
     "text": [
      "(267.738, 8535.18, 7.064, 0.188)\n",
      "3.235\n",
      "(348.343, 1832.263, 6.147)\n",
      "3.949\n",
      "(420.093, 3452.126, 5.234)\n",
      "4.645\n",
      "(532.847, 308.934, 4.092)\n",
      "5.686\n",
      "(0.574, 0.35, 0.246, 0.126)\n"
     ]
    }
   ],
   "source": [
    "sentence = \"Igitur domi militiaeque boni mores colebantur; concordia maxuma, minuma avaritia erat; ius bonumque apud eos non legibus magis quam natura valebat. Iurgia, discordias, simultates cum hostibus exercebant, cives cum civibus de virtute certabant. In deorum magnifici, domi parci, in amicos fideles erant. Duabus his artibus, audacia in bello, ubi pax evenerat, aequitate, seque remque publicam curabant. Quarum rerum ego maxuma documenta haec habeo, quod in bello saepius vindicatum est in eos, qui contra imperium in hostem pugnaverant quique tardius revocati proelio excesserant, quam qui signa relinquere aut pulsi loco cedere ausi erant; in pace vero, quod beneficiis magis quam metu imperium et accepta iniuria ignoscere quam persequi malebant. Sed ubi labore atque iustitia res publica crevit, reges magni bello domiti, nationes ferae et populi ingentes vi subacti, Carthago, imperi Romani, ab stirpe interiit, cuncta maria terraeque patebant, saevire fortuna ac miscere omnia coepit. Qui labores, pericula, dubias atque asperas res facile toleraverant, iis otium divitiaeque oneri miseriaeque fuere. Igitur primo pecuniae, deinde imperi cupido crevit: ea quasi materies omnium malorum fuere. Namque avaritia fidem, ceterasque artis bonas; Ambitio multos mortalis falsos fieri subegit.\"\n",
    "print(count_rank(sentence))\n",
    "print(count_grouprank(sentence))\n",
    "print(count_content(sentence))\n",
    "print(count_content_group(sentence))\n",
    "print(count_words(sentence))\n",
    "print(count_grouprank_words(sentence))\n",
    "print(count_content_words(sentence))\n",
    "print(count_grouprank_contentwords(sentence))\n",
    "print(rare_words(sentence))"
   ]
  },
  {
   "cell_type": "code",
   "execution_count": 54,
   "id": "b85c3e79",
   "metadata": {},
   "outputs": [
    {
     "name": "stdout",
     "output_type": "stream",
     "text": [
      "(285.059, 9846.951, 7.552, 0.24)\n",
      "3.433\n",
      "(406.144, 1380.993, 6.481)\n",
      "4.518\n",
      "(458.808, 4467.355, 5.46)\n",
      "5.069\n",
      "(628.151, 255.094, 3.953)\n",
      "6.64\n",
      "(0.576, 0.448, 0.261, 0.133)\n"
     ]
    }
   ],
   "source": [
    "sentence = \"ecquis, io silvae, crudelius inquit amavit? posse putes tangi: minimum est, quod amantibus obstat. quisquis es, huc exi! quid me, puer unice, fallis quove petitus abis? certe nec forma nec aetas est mea, quam fugias, et amarunt me quoque nymphae! spem mihi nescio quam vultu promittis amico, cumque ego porrexi tibi bracchia, porrigis ultro, cum risi, adrides; lacrimas quoque saepe notavi me lacrimante tuas; nutu quoque signa remittis et, quantum motu formosi suspicor oris, verba refers aures non pervenientia nostras! iste ego sum: sensi, nec me mea fallit imago; uror amore mei: flammas moveoque feroque. quid faciam? roger anne rogem? quid deinde rogabo? quod cupio mecum est: inopem me copia fecit. o utinam a nostro secedere corpore possem! votum in amante novum, vellem, quod amamus, abesset. iamque dolor vires adimit, nec tempora vitae longa meae superant, primoque exstinguor in aevo. nec mihi mors gravis est posituro morte dolores, hic, qui diligitur, vellem diuturnior esset; nunc duo concordes anima moriemur in una. Dixit et ad faciem rediit male sanus eandem et lacrimis turbavit aquas, obscuraque moto reddita forma lacu est; quam cum vidisset abire, quo refugis? remane nec me, crudelis, amantem desere! clamavit; liceat, quod tangere non est, adspicere et misero praebere alimenta furori!\"\n",
    "print(count_rank(sentence))\n",
    "print(count_grouprank(sentence))\n",
    "print(count_content(sentence))\n",
    "print(count_content_group(sentence))\n",
    "print(count_words(sentence))\n",
    "print(count_grouprank_words(sentence))\n",
    "print(count_content_words(sentence))\n",
    "print(count_grouprank_contentwords(sentence))\n",
    "print(rare_words(sentence))"
   ]
  },
  {
   "cell_type": "code",
   "execution_count": 55,
   "id": "79ce658f",
   "metadata": {},
   "outputs": [
    {
     "name": "stdout",
     "output_type": "stream",
     "text": [
      "(284.045, 9842.899, 7.551, 0.242)\n",
      "3.419\n",
      "(403.338, 1400.809, 6.49)\n",
      "4.485\n",
      "(462.025, 4331.581, 5.418)\n",
      "5.096\n",
      "(629.926, 254.919, 3.923)\n",
      "6.654\n",
      "(0.576, 0.444, 0.258, 0.136)\n"
     ]
    }
   ],
   "source": [
    "sentence = \"ecquis, silvae, crudelius inquit amavit? posse putes tangi: minimum est, quod amantibus obstat. quisquis es, huc exi! quid me, puer unice, fallis quove petitus abis? certe nec forma nec aetas est mea, quam fugias, et amarunt me quoque nymphae! spem mihi vultu promittis amico, cumque ego porrexi tibi bracchia, porrigis, cum risi, adrides; lacrimas quoque saepe notavi me lacrimante tuas; nutu quoque signa remittis et, quantum motu formosi suspicor oris, verba refers aures non pervenientia nostras! iste ego sum: sensi, nec me mea fallit imago; uror amore mei: flammas moveoque feroque. quid faciam? roger anne rogem? quid deinde rogabo? quod cupio mecum est: inopem me copia fecit. o utinam a nostro secedere corpore possem! votum amante novum, vellem, quod amamus, abesset. iamque dolor vires adimit, nec tempora vitae longa meae superant, primoque exstinguor in aevo. nec mihi mors gravis est posituro morte dolores, hic, qui diligitur, vellem diuturnior esset; nunc duo concordes anima moriemur in una. Dixit et ad faciem rediit male sanus eandem et lacrimis turbavit aquas, obscuraque moto reddita forma lacu est; quam cum vidisset abire, quo refugis? remane nec me, crudelis, amantem desere! clamavit; liceat, quod tangere non est, adspicere et misero praebere alimenta furori!\"\n",
    "print(count_rank(sentence))\n",
    "print(count_grouprank(sentence))\n",
    "print(count_content(sentence))\n",
    "print(count_content_group(sentence))\n",
    "print(count_words(sentence))\n",
    "print(count_grouprank_words(sentence))\n",
    "print(count_content_words(sentence))\n",
    "print(count_grouprank_contentwords(sentence))\n",
    "print(rare_words(sentence))"
   ]
  },
  {
   "cell_type": "code",
   "execution_count": 56,
   "id": "b16770cb",
   "metadata": {},
   "outputs": [
    {
     "name": "stdout",
     "output_type": "stream",
     "text": [
      "(339.692, 8473.275, 6.779, 2.773)\n",
      "3.967\n",
      "(452.677, 1412.462, 5.686)\n",
      "5.0\n",
      "(376.022, 3390.604, 5.346)\n",
      "4.187\n",
      "(483.631, 341.446, 4.122)\n",
      "5.154\n",
      "(0.604, 0.495, 0.297, 0.198)\n"
     ]
    }
   ],
   "source": [
    "sentence = \"Haec cum Philosophia dignitate vultus et oris gravitate servata leniter suaviterque cecinisset, tum ego nondum penitus insiti maeroris oblitus intentionem dicere adhuc aliquid parantis abrupi et: o, inquam, veri praevia luminis, quae usque adhuc tua fudit oratio cum sui speculatione divina tum tuis rationibus invicta patuerunt, eaque mihi etsi ob iniuriae dolorem nuper oblita non tamen antehac prorsus ignorata dixisti. Sed ea ipsa est vel maxima nostri causa maeroris quod, cum rerum bonus rector exsistat, vel esse omnino mala possint vel impunita praetereant; quod solum quanta dignum sit admiratione profecto consideras.\"\n",
    "print(count_rank(sentence))\n",
    "print(count_grouprank(sentence))\n",
    "print(count_content(sentence))\n",
    "print(count_content_group(sentence))\n",
    "print(count_words(sentence))\n",
    "print(count_grouprank_words(sentence))\n",
    "print(count_content_words(sentence))\n",
    "print(count_grouprank_contentwords(sentence))\n",
    "print(rare_words(sentence))"
   ]
  },
  {
   "cell_type": "code",
   "execution_count": 57,
   "id": "c4e67d05",
   "metadata": {},
   "outputs": [
    {
     "name": "stdout",
     "output_type": "stream",
     "text": [
      "(285.664, 8643.519, 6.778, 0.569)\n",
      "3.397\n",
      "(397.663, 1423.054, 5.519)\n",
      "4.413\n",
      "(354.748, 3485.099, 5.221)\n",
      "3.969\n",
      "(478.902, 400.011, 3.763)\n",
      "5.098\n",
      "(0.481, 0.374, 0.282, 0.183)\n"
     ]
    }
   ],
   "source": [
    "sentence = \"At huic aliud maius adiungitur; nam imperante florenteque nequitia virtus non solum praemiis caret, uerum etiam sceleratorum pedibus subiecta calcatur et in locum facinorum supplicia luit. Quae fieri in regno scientis omnia, potentis omnia, sed bona tantummodo volentis dei nemo satis potest nec admirari nec conqueri. Tum illa: Et esset, inquit, infiniti stuporis omnibusque horribilius monstris si, uti tu aestimas, in tanti velut patris familias dispositissima domo vilia vasa colerentur, pretiosa sordescerent. Sed non ita est; nam si ea quae paulo ante conclusa sunt inconvulsa servantur, ipso de cuius nunc regno loquimur auctore cognosces semper quidem potentes esse bonos, malos vero abiectos semper atque imbecilles, nec sine poena umquam esse vitia nec sine praemio virtutes, bonis felicia malis semper infortunata contingere multaque id genus, quae sopitis querelis firma te soliditate corroborent.\"\n",
    "print(count_rank(sentence))\n",
    "print(count_grouprank(sentence))\n",
    "print(count_content(sentence))\n",
    "print(count_content_group(sentence))\n",
    "print(count_words(sentence))\n",
    "print(count_grouprank_words(sentence))\n",
    "print(count_content_words(sentence))\n",
    "print(count_grouprank_contentwords(sentence))\n",
    "print(rare_words(sentence))"
   ]
  },
  {
   "cell_type": "code",
   "execution_count": 58,
   "id": "cc0ea377",
   "metadata": {},
   "outputs": [
    {
     "name": "stdout",
     "output_type": "stream",
     "text": [
      "(369.653, 5587.455, 6.276, 0.484)\n",
      "4.248\n",
      "(448.15, 1112.763, 5.46)\n",
      "4.963\n",
      "(460.238, 3542.05, 4.52)\n",
      "4.99\n",
      "(556.538, 205.062, 3.432)\n",
      "5.875\n",
      "(0.683, 0.535, 0.366, 0.198)\n"
     ]
    }
   ],
   "source": [
    "sentence = \"Sub idem tempus Achaia atque Asia falso exterritae velut Nero adventaret, vario super exitu eius rumore eoque pluribus vivere eum fingentibus credentibusque. ceterorum casus conatusque in contextu operis dicemus: tunc servus e Ponto sive, ut alii tradidere, libertinus ex Italia, citharae et cantus peritus, unde illi super similitudinem oris propior ad fallendum fides, adiunctis desertoribus, quos inopia vagos ingentibus promissis corruperat, mare ingreditur; ac vi tempestatum Cythnum insulam detrusus et militum quosdam ex Oriente commeantium adscivit vel abnuentis interfici iussit, et spoliatis negotiatoribus mancipiorum valentissimum quemque armavit. inde late terror: multi ad celebritatem nominis erecti rerum novarum cupidine et odio praesentium.\"\n",
    "print(count_rank(sentence))\n",
    "print(count_grouprank(sentence))\n",
    "print(count_content(sentence))\n",
    "print(count_content_group(sentence))\n",
    "print(count_words(sentence))\n",
    "print(count_grouprank_words(sentence))\n",
    "print(count_content_words(sentence))\n",
    "print(count_grouprank_contentwords(sentence))\n",
    "print(rare_words(sentence))"
   ]
  },
  {
   "cell_type": "code",
   "execution_count": 59,
   "id": "a9e1ba5e",
   "metadata": {},
   "outputs": [
    {
     "name": "stdout",
     "output_type": "stream",
     "text": [
      "(356.526, 5936.821, 6.505, 0.409)\n",
      "4.116\n",
      "(437.662, 1198.459, 5.689)\n",
      "4.851\n",
      "(456.042, 3765.463, 4.745)\n",
      "4.968\n",
      "(558.959, 221.311, 3.633)\n",
      "5.919\n",
      "(0.684, 0.526, 0.347, 0.179)\n"
     ]
    }
   ],
   "source": [
    "sentence = \"Sub idem tempus Achaia atque Asia falso exterritae velut Nero adventaret, vario super exitu eius rumore eoque pluribus vivere eum fingentibus credentibusque. ceterorum casus conatusque in contextu operis dicemus: tunc servus e sive, ut alii tradidere, libertinus ex Italia, citharae et cantus peritus, unde illi super similitudinem oris propior ad fallendum fides, adiunctis desertoribus, quos inopia vagos ingentibus promissis corruperat, mare ingreditur; ac vi tempestatum insulam et militum quosdam ex Oriente adscivit vel abnuentis interfici iussit, et spoliatis negotiatoribus mancipiorum valentissimum quemque armavit. inde late terror: multi ad nominis rerum novarum cupidine et odio praesentium.\"\n",
    "print(count_rank(sentence))\n",
    "print(count_grouprank(sentence))\n",
    "print(count_content(sentence))\n",
    "print(count_content_group(sentence))\n",
    "print(count_words(sentence))\n",
    "print(count_grouprank_words(sentence))\n",
    "print(count_content_words(sentence))\n",
    "print(count_grouprank_contentwords(sentence))\n",
    "print(rare_words(sentence))"
   ]
  },
  {
   "cell_type": "code",
   "execution_count": 60,
   "id": "ce86f5a0",
   "metadata": {},
   "outputs": [
    {
     "name": "stdout",
     "output_type": "stream",
     "text": [
      "(448.397, 4620.527, 6.142, 1.159)\n",
      "5.027\n",
      "(525.81, 762.736, 5.48)\n",
      "5.752\n",
      "(527.205, 1993.295, 4.399)\n",
      "5.671\n",
      "(617.107, 161.488, 3.566)\n",
      "6.521\n",
      "(0.774, 0.63, 0.459, 0.274)\n"
     ]
    }
   ],
   "source": [
    "sentence = \"Caesar sollicito per vasta silentia gressu vix famulis audenda parat, cunctisque relictis sola placet Fortuna comes. tentoria postquam egressus vigilum somno cedentia membra transsiluit questus tacite, quod fallere posset, litora curva legit, primisque invenit in undis rupibus exesis haerentem fune carinam. rectorem dominumque ratis secura tenebat haud procul inde domus, non ullo robore fulta sed sterili iunco cannaque intexta palustri et latus inversa nudum munita phaselo. haec Caesar bis terque manu quassantia tectum limina commovit. molli consurgit Amyclas quem dabat alga toro. quisnam mea naufragus inquit tecta petit, aut quem nostrae fortuna coegit auxilium sperare casae? sic fatus ab alto aggere iam tepidae sublato fune favillae scintillam tenuem commotos pavit in ignes, securus belli: praedam civilibus armis scit non esse casas. o vitae tuta facultas pauperis angustique lares! o munera nondum intellecta deum! quibus hoc contingere templis aut potuit muris, nullo trepidare tumultu Caesarea pulsante manu?\"\n",
    "print(count_rank(sentence))\n",
    "print(count_grouprank(sentence))\n",
    "print(count_content(sentence))\n",
    "print(count_content_group(sentence))\n",
    "print(count_words(sentence))\n",
    "print(count_grouprank_words(sentence))\n",
    "print(count_content_words(sentence))\n",
    "print(count_grouprank_contentwords(sentence))\n",
    "print(rare_words(sentence))"
   ]
  },
  {
   "cell_type": "code",
   "execution_count": 61,
   "id": "d98a2005",
   "metadata": {},
   "outputs": [
    {
     "name": "stdout",
     "output_type": "stream",
     "text": [
      "(424.223, 4852.129, 6.315, 0.701)\n",
      "4.784\n",
      "(501.088, 808.246, 5.65)\n",
      "5.5\n",
      "(513.935, 2093.36, 4.551)\n",
      "5.554\n",
      "(606.447, 171.018, 3.7)\n",
      "6.43\n",
      "(0.763, 0.612, 0.432, 0.237)\n"
     ]
    }
   ],
   "source": [
    "sentence = \"Caesar sollicito per vasta silentia gressu vix famulis audenda parat, cunctisque relictis sola placet Fortuna comes. postquam egressus vigilum somno cedentia membra transsiluit questus tacite, quod fallere posset, litora curva legit, primisque invenit in undis rupibus exesis haerentem fune carinam. rectorem dominumque ratis secura tenebat haud procul inde domus, non ullo robore fulta sed sterili cannaque intexta et latus inversa nudum munita. haec Caesar bis terque manu quassantia tectum limina commovit. molli consurgit Amyclas quem dabat alga toro. quisnam mea naufragus inquit tecta petit, aut quem nostrae fortuna coegit auxilium sperare casae? sic fatus ab alto aggere iam tepidae sublato tenuem commotos pavit in ignes, securus belli: praedam civilibus armis scit non esse casas. o vitae tuta facultas pauperis angustique lares! o munera nondum intellecta deum! quibus hoc contingere templis aut potuit muris, nullo trepidare tumultu Caesarea pulsante manu?\"\n",
    "print(count_rank(sentence))\n",
    "print(count_grouprank(sentence))\n",
    "print(count_content(sentence))\n",
    "print(count_content_group(sentence))\n",
    "print(count_words(sentence))\n",
    "print(count_grouprank_words(sentence))\n",
    "print(count_content_words(sentence))\n",
    "print(count_grouprank_contentwords(sentence))\n",
    "print(rare_words(sentence))"
   ]
  },
  {
   "cell_type": "code",
   "execution_count": 62,
   "id": "c542e64e",
   "metadata": {},
   "outputs": [
    {
     "name": "stdout",
     "output_type": "stream",
     "text": [
      "(260.282, 10566.663, 7.458, 0.616)\n",
      "3.213\n",
      "(445.045, 1475.135, 5.782)\n",
      "4.919\n",
      "(366.797, 5384.921, 5.856)\n",
      "4.153\n",
      "(596.189, 201.613, 3.651)\n",
      "6.297\n",
      "(0.47, 0.342, 0.262, 0.163)\n"
     ]
    }
   ],
   "source": [
    "sentence = \"Philosophia iacuit usque ad hanc aetatem nec ullum habuit lumen litterarum Latinarum; quae inlustranda et excitanda nobis est, ut, si occupati profuimus aliquid civibus nostris, prosimus etiam, si possumus, otiosi. in quo eo magis nobis est elaborandum, quod multi iam esse libri Latini dicuntur scripti inconsiderate ab optimis illis quidem viris, sed non satis eruditis. fieri autem potest, ut recte quis sentiat et id quod sentit polite eloqui non possit; sed mandare quemquam litteris cogitationes suas, qui eas nec disponere nec inlustrare possit nec delectatione aliqua allicere lectorem, hominis est intemperanter abutentis et otio et litteris. itaque suos libros ipsi legunt cum suis, nec quisquam attingit praeter eos, qui eandem licentiam scribendi sibi permitti volunt. quare si aliquid oratoriae laudis nostra attulimus industria, multo studiosius philosophiae fontis aperiemus, e quibus etiam illa manabant. Sed ut Aristoteles, vir summo ingenio, scientia, copia, cum motus esset Isocratis rhetoris gloria, dicere docere etiam coepit adulescentes et prudentiam cum eloquentia iungere, sic nobis placet nec pristinum dicendi studium deponere et in hac maiore et uberiore arte versari. hanc enim perfectam philosophiam semper iudicavi, quae de maximis quaestionibus copiose posset ornateque dicere; in quam exercitationem ita nos studiose dedimus, ut iam etiam scholas Graecorum more habere auderemus.\"\n",
    "print(count_rank(sentence))\n",
    "print(count_grouprank(sentence))\n",
    "print(count_content(sentence))\n",
    "print(count_content_group(sentence))\n",
    "print(count_words(sentence))\n",
    "print(count_grouprank_words(sentence))\n",
    "print(count_content_words(sentence))\n",
    "print(count_grouprank_contentwords(sentence))\n",
    "print(rare_words(sentence))"
   ]
  },
  {
   "cell_type": "code",
   "execution_count": 63,
   "id": "308d1670",
   "metadata": {},
   "outputs": [
    {
     "name": "stdout",
     "output_type": "stream",
     "text": [
      "(242.377, 11128.141, 7.601, 0.597)\n",
      "3.042\n",
      "(431.17, 1547.49, 5.871)\n",
      "4.78\n",
      "(350.414, 5689.759, 6.04)\n",
      "4.005\n",
      "(590.13, 213.69, 3.76)\n",
      "6.25\n",
      "(0.45, 0.314, 0.241, 0.147)\n"
     ]
    }
   ],
   "source": [
    "sentence = \"Philosophia iacuit usque ad hanc aetatem nec ullum habuit litterarum Latinarum; quae inlustranda et excitanda nobis est, ut, si occupati profuimus aliquid civibus nostris, prosimus etiam, si possumus, otiosi. in quo eo magis nobis est elaborandum, quod multi iam esse libri Latini dicuntur scripti inconsiderate ab optimis illis quidem viris, sed non satis eruditis. fieri autem potest, ut recte quis sentiat et id quod sentit eloqui non possit; sed mandare quemquam litteris cogitationes suas, qui eas nec disponere nec inlustrare possit nec delectatione aliqua lectorem, hominis est intemperanter abutentis et otio et litteris. itaque suos libros ipsi legunt cum suis, nec quisquam praeter eos, qui eandem licentiam scribendi sibi permitti volunt. quare si aliquid oratoriae laudis nostra industria, multo studiosius philosophiae fontis aperiemus, e quibus etiam illa manabant. Sed ut Aristoteles, vir summo ingenio, scientia, copia, cum motus esset rhetoris gloria, dicere docere etiam coepit adulescentes et cum eloquentia iungere, sic nobis placet nec pristinum dicendi studium et in hac maiore et uberiore arte versari. hanc enim perfectam philosophiam semper iudicavi, quae de maximis quaestionibus copiose posset dicere; in quam exercitationem ita nos studiose dedimus, ut iam etiam Graecorum more auderemus.\"\n",
    "print(count_rank(sentence))\n",
    "print(count_grouprank(sentence))\n",
    "print(count_content(sentence))\n",
    "print(count_content_group(sentence))\n",
    "print(count_words(sentence))\n",
    "print(count_grouprank_words(sentence))\n",
    "print(count_content_words(sentence))\n",
    "print(count_grouprank_contentwords(sentence))\n",
    "print(rare_words(sentence))"
   ]
  },
  {
   "cell_type": "code",
   "execution_count": 64,
   "id": "24d706f1",
   "metadata": {},
   "outputs": [
    {
     "name": "stdout",
     "output_type": "stream",
     "text": [
      "(273.237, 10575.314, 7.116, 1.786)\n",
      "3.325\n",
      "(417.878, 1303.764, 5.595)\n",
      "4.642\n",
      "(383.093, 5351.32, 5.601)\n",
      "4.299\n",
      "(572.163, 202.634, 3.654)\n",
      "6.033\n",
      "(0.495, 0.397, 0.253, 0.144)\n"
     ]
    }
   ],
   "source": [
    "sentence = \"Persevera ut coepisti et quantum potes propera, quo diutius frui emendato animo et composito possis. Frueris quidem etiam dum emendas, etiam dum componis: alia tamen illa voluptas est quae percipitur ex contemplatione mentis ab omni labe purae et splendidae. Tenes utique memoria quantum senseris gaudium cum praetexta posita sumpsisti virilem togam et in forum deductus es: maius expecta cum puerilem animum deposueris et te in viros philosophia transscripserit. Adhuc enim non pueritia sed, quod est gravius, puerilitas remanet; et hoc quidem peior est, quod auctoritatem habemus senum, vitia puerorum, nec puerorum tantum sed infantum: illi levia, hi falsa formidant, nos utraque. Profice modo: intelleges quaedam ideo minus timenda quia multum metus afferunt. Nullum malum magnum quod extremum est. Mors ad te venit: timenda erat si tecum esse posset: necesse est aut non perveniat aut transeat. Difficile est inquis animum perducere ad contemptionem animae. Non vides quam ex frivolis causis contemnatur? Alius ante amicae fores laqueo pependit, alius se praecipitavit e tecto ne dominum stomachantem diutius audiret, alius ne reduceretur e fuga ferrum adegit in viscera: non putas virtutem hoc effecturam quod efficit nimia formido? Nulli potest secura vita contingere qui de producenda nimis cogitat.\"\n",
    "print(count_rank(sentence))\n",
    "print(count_grouprank(sentence))\n",
    "print(count_content(sentence))\n",
    "print(count_content_group(sentence))\n",
    "print(count_words(sentence))\n",
    "print(count_grouprank_words(sentence))\n",
    "print(count_content_words(sentence))\n",
    "print(count_grouprank_contentwords(sentence))\n",
    "print(rare_words(sentence))"
   ]
  },
  {
   "cell_type": "code",
   "execution_count": 65,
   "id": "10729fd6",
   "metadata": {},
   "outputs": [
    {
     "name": "stdout",
     "output_type": "stream",
     "text": [
      "(249.54, 10969.545, 7.296, 0.615)\n",
      "3.086\n",
      "(388.405, 1379.802, 5.793)\n",
      "4.336\n",
      "(367.77, 5551.465, 5.78)\n",
      "4.16\n",
      "(558.871, 214.586, 3.825)\n",
      "5.914\n",
      "(0.476, 0.374, 0.225, 0.118)\n"
     ]
    }
   ],
   "source": [
    "sentence = \"Persevera ut coepisti et quantum potes propera, quo diutius frui emendato animo et composito possis. Frueris quidem etiam dum emendas, etiam dum componis: alia tamen illa voluptas est quae percipitur ex contemplatione mentis ab omni purae et splendidae. Tenes utique memoria quantum senseris gaudium cum posita sumpsisti virilem togam et in forum deductus es: maius expecta cum puerilem animum deposueris et te in viros philosophia. Adhuc enim non pueritia sed, quod est gravius, remanet; et hoc quidem peior est, quod auctoritatem habemus senum, vitia puerorum, nec puerorum tantum sed infantum: illi levia, hi falsa formidant, nos utraque. Profice modo: intelleges quaedam ideo minus timenda quia multum metus afferunt. Nullum malum magnum quod extremum est. Mors ad te venit: timenda erat si tecum esse posset: necesse est aut non perveniat aut transeat. Difficile est inquis animum perducere ad contemptionem animae. Non vides quam ex causis contemnatur? Alius ante amicae fores laqueo pependit, alius se praecipitavit e tecto ne dominum diutius audiret, alius ne reduceretur e fuga ferrum adegit in viscera: non putas virtutem hoc effecturam quod efficit nimia formido? Nulli potest secura vita contingere qui de nimis cogitat.\"\n",
    "print(count_rank(sentence))\n",
    "print(count_grouprank(sentence))\n",
    "print(count_content(sentence))\n",
    "print(count_content_group(sentence))\n",
    "print(count_words(sentence))\n",
    "print(count_grouprank_words(sentence))\n",
    "print(count_content_words(sentence))\n",
    "print(count_grouprank_contentwords(sentence))\n",
    "print(rare_words(sentence))"
   ]
  },
  {
   "cell_type": "code",
   "execution_count": 66,
   "id": "a4e9366f",
   "metadata": {},
   "outputs": [
    {
     "name": "stdout",
     "output_type": "stream",
     "text": [
      "(173.452, 13046.756, 7.767, 0.163)\n",
      "2.33\n",
      "(285.204, 2268.522, 6.247)\n",
      "3.274\n",
      "(287.731, 5447.563, 6.314)\n",
      "3.426\n",
      "(439.708, 559.08, 4.58)\n",
      "4.796\n",
      "(0.386, 0.239, 0.137, 0.066)\n"
     ]
    }
   ],
   "source": [
    "sentence = \"Haec, sicuti exposui, ita gesta sunt, iudices. Insidiator superatus est, vi victa vis, vel potius oppressa virtute audacia est. Nihil dico quid res publica consecuta sit, nihil quid vos, nihil quid omnes boni: nihil sane id prosit Miloni, qui hoc fato natus est, ut ne se quidem servare potuerit, quin una rem publicam vosque servaret. Si id iure fieri non potuit, nihil habeo quod defendam. Sin hoc et ratio doctis, et necessitas barbaris, et mos gentibus, et feris etiam beluis natura ipsa praescripsit, ut omnem semper vim, quacumque ope possent, a corpore, a capite, a vita sua propulsarent, non potestis hoc facinus improbum iudicare, quin simul iudicetis omnibus, qui in latrones inciderint, aut illorum telis aut vestris sententiis esse pereundum. Quod si ita putasset, certe optabilius Miloni fuit dare iugulum P. Clodio, non semel ab illo neque tum primum petitum, quam iugulari a vobis, quia se non iugulandum illi tradidisset. Sin hoc nemo vestrum ita sentit, non illud iam in iudicium venit, occisusne sit (quod fatemur), sed iure an iniuria, quod multis in causis saepe quaesitum est. Insidias factas esse constat, et id est quod senatus contra rem publicam factum iudicavit: ab utro factae sint incertum est.\"\n",
    "print(count_rank(sentence))\n",
    "print(count_grouprank(sentence))\n",
    "print(count_content(sentence))\n",
    "print(count_content_group(sentence))\n",
    "print(count_words(sentence))\n",
    "print(count_grouprank_words(sentence))\n",
    "print(count_content_words(sentence))\n",
    "print(count_grouprank_contentwords(sentence))\n",
    "print(rare_words(sentence))"
   ]
  },
  {
   "cell_type": "code",
   "execution_count": 67,
   "id": "d841124c",
   "metadata": {},
   "outputs": [
    {
     "name": "stdout",
     "output_type": "stream",
     "text": [
      "(169.609, 13353.474, 7.832, 0.16)\n",
      "2.297\n",
      "(283.546, 2314.806, 6.292)\n",
      "3.259\n",
      "(285.354, 5565.052, 6.36)\n",
      "3.406\n",
      "(442.519, 541.63, 4.582)\n",
      "4.824\n",
      "(0.38, 0.234, 0.135, 0.062)\n"
     ]
    }
   ],
   "source": [
    "sentence = \"Haec, sicuti exposui, ita gesta sunt, iudices. superatus est, vi victa vis, vel potius oppressa virtute audacia est. Nihil dico quid res publica consecuta sit, nihil quid vos, nihil quid omnes boni: id prosit Miloni, qui hoc fato natus est, ut ne se quidem servare potuerit, quin una rem publicam vosque servaret. Si id iure fieri non potuit, nihil habeo quod defendam. Sin hoc et ratio doctis, et necessitas barbaris, et mos gentibus, et etiam beluis natura ipsa praescripsit, ut omnem semper vim, quacumque ope possent, a corpore, a capite, a vita sua propulsarent, non potestis hoc facinus improbum iudicare, quin simul iudicetis omnibus, qui in latrones inciderint, aut illorum telis aut vestris esse pereundum. Quod si ita putasset, certe optabilius Miloni fuit dare iugulum P. Clodio, non semel ab illo neque tum primum petitum, quam iugulari a vobis, quia se non iugulandum illi tradidisset. Sin hoc nemo vestrum ita sentit, non illud iam in iudicium venit, occisusne sit (quod fatemur), sed iure an iniuria, quod multis in causis saepe quaesitum est. Insidias factas esse constat, et id est quod senatus contra rem publicam factum iudicavit: ab utro factae sint incertum est.\"\n",
    "print(count_rank(sentence))\n",
    "print(count_grouprank(sentence))\n",
    "print(count_content(sentence))\n",
    "print(count_content_group(sentence))\n",
    "print(count_words(sentence))\n",
    "print(count_grouprank_words(sentence))\n",
    "print(count_content_words(sentence))\n",
    "print(count_grouprank_contentwords(sentence))\n",
    "print(rare_words(sentence))"
   ]
  },
  {
   "cell_type": "code",
   "execution_count": 68,
   "id": "bfd888d4",
   "metadata": {},
   "outputs": [
    {
     "name": "stdout",
     "output_type": "stream",
     "text": [
      "(234.654, 10278.516, 6.846, 0.719)\n",
      "2.923\n",
      "(359.814, 1372.451, 5.154)\n",
      "4.035\n",
      "(329.071, 5340.456, 5.49)\n",
      "3.725\n",
      "(497.336, 246.69, 3.426)\n",
      "5.248\n",
      "(0.445, 0.313, 0.22, 0.115)\n"
     ]
    }
   ],
   "source": [
    "sentence = \"Idem nobis per Romanos quoque auctores ordo ducendus est. Itaque ut apud illos Homerus, sic apud nos Vergilius auspicatissimum dederit exordium, omnium eius generis poetarum Graecorum nostrorumque haud dubie proximus. utar enim verbis isdem quae ex Afro Domitio iuvenis excepi, qui mihi interroganti quem Homero crederet maxime accedere secundus inquit est Vergilius, propior tamen primo quam tertio. Et hercule ut illi naturae caelesti atque inmortali cesserimus, ita curae et diligentiae vel ideo in hoc plus est, quod ei fuit magis laborandum, et quantum eminentibus vincimur, fortasse aequalitate pensamus. Ceteri omnes longe sequentur. Nam Macer et Lucretius legendi quidem, sed non ut phrasin, id est corpus eloquentiae, faciant, elegantes in sua quisque materia, sed alter humilis, alter difficilis. Atacinus Varro in iis per quae nomen est adsecutus interpres operis alieni, non spernendus quidem, verum ad augendam facultatem dicendi parum locuples. Ennium sicut sacros vetustate lucos adoremus, in quibus grandia et antiqua robora iam non tantam habent speciem quantam religionem. Propiores alii atque ad hoc de quo loquimur magis utiles. Lascivus quidem in herois quoque Ovidius et nimium amator ingenii sui, laudandus tamen partibus.\"\n",
    "print(count_rank(sentence))\n",
    "print(count_grouprank(sentence))\n",
    "print(count_content(sentence))\n",
    "print(count_content_group(sentence))\n",
    "print(count_words(sentence))\n",
    "print(count_grouprank_words(sentence))\n",
    "print(count_content_words(sentence))\n",
    "print(count_grouprank_contentwords(sentence))\n",
    "print(rare_words(sentence))"
   ]
  },
  {
   "cell_type": "code",
   "execution_count": 69,
   "id": "9a256c90",
   "metadata": {},
   "outputs": [
    {
     "name": "stdout",
     "output_type": "stream",
     "text": [
      "(205.735, 10993.182, 7.076, 0.371)\n",
      "2.641\n",
      "(326.01, 1517.208, 5.34)\n",
      "3.693\n",
      "(308.506, 5714.329, 5.745)\n",
      "3.541\n",
      "(482.713, 270.782, 3.61)\n",
      "5.119\n",
      "(0.418, 0.276, 0.182, 0.088)\n"
     ]
    }
   ],
   "source": [
    "sentence = \"Idem nobis per Romanos quoque auctores ordo ducendus est. Itaque ut apud illos Homerus, sic apud nos Vergilius dederit exordium, omnium eius generis poetarum Graecorum nostrorumque haud dubie proximus. utar enim verbis isdem quae ex iuvenis, qui mihi interroganti quem Homero crederet maxime accedere secundus inquit est Vergilius, propior tamen primo quam tertio. Et ut illi naturae caelesti atque inmortali cesserimus, ita curae et diligentiae vel ideo in hoc plus est, quod ei fuit magis laborandum, et quantum vincimur, fortasse. Ceteri omnes longe sequentur. Nam Macer et Lucretius legendi quidem, sed non ut, id est corpus eloquentiae, faciant, elegantes in sua quisque materia, sed alter humilis, alter difficilis. Atacinus Varro in iis per quae nomen est adsecutus interpres operis alieni, non spernendus quidem, verum ad augendam facultatem dicendi parum locuples. Ennium sicut sacros vetustate lucos adoremus, in quibus grandia et antiqua iam non tantam habent quantam religionem. Propiores alii atque ad hoc de quo loquimur magis utiles. Lascivus quidem in quoque Ovidius et nimium amator ingenii sui, laudandus tamen partibus.\"\n",
    "print(count_rank(sentence))\n",
    "print(count_grouprank(sentence))\n",
    "print(count_content(sentence))\n",
    "print(count_content_group(sentence))\n",
    "print(count_words(sentence))\n",
    "print(count_grouprank_words(sentence))\n",
    "print(count_content_words(sentence))\n",
    "print(count_grouprank_contentwords(sentence))\n",
    "print(rare_words(sentence))"
   ]
  },
  {
   "cell_type": "code",
   "execution_count": 70,
   "id": "fbd6164e",
   "metadata": {},
   "outputs": [
    {
     "name": "stdout",
     "output_type": "stream",
     "text": [
      "(427.315, 5764.25, 6.433, 2.186)\n",
      "4.837\n",
      "(558.58, 887.826, 5.425)\n",
      "6.072\n",
      "(518.337, 2309.967, 4.633)\n",
      "5.543\n",
      "(638.681, 226.014, 3.634)\n",
      "6.71\n",
      "(0.696, 0.565, 0.467, 0.261)\n"
     ]
    }
   ],
   "source": [
    "sentence = \"Ipse tridente suo terram percussit, at illa intremuit motuque vias patefecit aquarum. exspatiata ruunt per apertos flumina campos cumque satis arbusta simul pecudesque virosque tectaque cumque suis rapiunt penetralia sacris. si qua domus mansit potuitque resistere tanto indeiecta malo, culmen tamen altior huius unda tegit, pressaeque latent sub gurgite turres. iamque mare et tellus nullum discrimen habebant: omnia pontus erant, derant quoque litora ponto. Occupat hic collem, cumba sedet alter adunca et ducit remos illic, ubi nuper arabat: ille supra segetes aut mersae culmina villae navigat, hic summa piscem deprendit in ulmo.\"\n",
    "print(count_rank(sentence))\n",
    "print(count_grouprank(sentence))\n",
    "print(count_content(sentence))\n",
    "print(count_content_group(sentence))\n",
    "print(count_words(sentence))\n",
    "print(count_grouprank_words(sentence))\n",
    "print(count_content_words(sentence))\n",
    "print(count_grouprank_contentwords(sentence))\n",
    "print(rare_words(sentence))"
   ]
  },
  {
   "cell_type": "code",
   "execution_count": 71,
   "id": "0ec0aa08",
   "metadata": {},
   "outputs": [
    {
     "name": "stdout",
     "output_type": "stream",
     "text": [
      "(386.459, 6236.765, 6.759, 0.511)\n",
      "4.424\n",
      "(517.387, 985.065, 5.758)\n",
      "5.645\n",
      "(495.953, 2499.635, 4.894)\n",
      "5.341\n",
      "(621.581, 250.758, 3.879)\n",
      "6.565\n",
      "(0.671, 0.529, 0.424, 0.2)\n"
     ]
    }
   ],
   "source": [
    "sentence = \"Ipse tridente suo terram percussit, at illa motuque vias patefecit aquarum. ruunt per apertos flumina campos cumque satis arbusta simul pecudesque virosque tectaque cumque suis rapiunt sacris. si qua domus mansit potuitque resistere tanto malo, culmen tamen altior huius unda tegit, pressaeque latent sub gurgite turres. iamque mare et tellus nullum discrimen habebant: omnia pontus erant, derant quoque litora ponto. Occupat hic collem, sedet alter  et ducit remos illic, ubi nuper arabat: ille supra segetes aut mersae culmina villae navigat, hic summa piscem in ulmo.\"\n",
    "print(count_rank(sentence))\n",
    "print(count_grouprank(sentence))\n",
    "print(count_content(sentence))\n",
    "print(count_content_group(sentence))\n",
    "print(count_words(sentence))\n",
    "print(count_grouprank_words(sentence))\n",
    "print(count_content_words(sentence))\n",
    "print(count_grouprank_contentwords(sentence))\n",
    "print(rare_words(sentence))"
   ]
  },
  {
   "cell_type": "code",
   "execution_count": 72,
   "id": "21e4763d",
   "metadata": {},
   "outputs": [
    {
     "name": "stdout",
     "output_type": "stream",
     "text": [
      "(210.882, 11972.409, 7.178, 0.387)\n",
      "2.677\n",
      "(313.967, 2273.198, 5.723)\n",
      "3.57\n",
      "(306.339, 4484.747, 5.761)\n",
      "3.554\n",
      "(444.471, 404.446, 4.097)\n",
      "4.802\n",
      "(0.392, 0.29, 0.177, 0.113)\n"
     ]
    }
   ],
   "source": [
    "sentence = \"Habet populus Romanus, ad quos gubernacula rei publicae deferat; qui ubicumque terrarum sunt, ibi omne est rei publicae praesidium vel potius ipsa res publica, quae se adhuc tantum modo ulta est, nondum reciperavit. Habet quidem certe res publica adulescentis nobilissimos paratos defensores. Quam volent illi cedant otio consulentes, tamen a re publica revocabuntur. Et nomen pacis dulce est et ipsa res salutaris, sed inter pacem et servitutem plurimum interest. Pax est tranquilla libertas, servitus postremum malorum omnium non modo bello, sed morte etiam repellendum. Quodsi se ipsos illi nostri liberatores e conspectu nostro abstulerunt, at exemplum facti reliquerunt. Illi, quod nemo fecerat, fecerunt. Tarquinium Brutus bello est persecutus, qui tum rex fuit, cum esse Romae licebat; Sp. Cassius, Sp. Maelius, M. Manlius propter suspicionem regni adpetendi sunt necati; hi primum cum gladiis non in regnum adpetentem, sed in regnantem impetum fecerunt. Quod cum ipsum factum per se praeclarum est atque divinum, tum eitum ad imitandum est, praesertim cum illi eam gloriam consecuti sint, quae vix caelo capi posse videatur. Etsi enim satis in ipsa conscientia pulcherrimi facti fructus erat, tamen mortali immortalitatem non arbitror esse contemnendam.\"\n",
    "print(count_rank(sentence))\n",
    "print(count_grouprank(sentence))\n",
    "print(count_content(sentence))\n",
    "print(count_content_group(sentence))\n",
    "print(count_words(sentence))\n",
    "print(count_grouprank_words(sentence))\n",
    "print(count_content_words(sentence))\n",
    "print(count_grouprank_contentwords(sentence))\n",
    "print(rare_words(sentence))"
   ]
  },
  {
   "cell_type": "code",
   "execution_count": 73,
   "id": "0a912c65",
   "metadata": {},
   "outputs": [
    {
     "name": "stdout",
     "output_type": "stream",
     "text": [
      "(309.613, 8393.429, 7.078, 0.675)\n",
      "3.702\n",
      "(405.496, 1680.608, 6.146)\n",
      "4.568\n",
      "(439.762, 3365.988, 5.312)\n",
      "4.881\n",
      "(566.632, 276.72, 4.153)\n",
      "6.064\n",
      "(0.571, 0.435, 0.304, 0.179)\n"
     ]
    }
   ],
   "source": [
    "sentence = \"quaeque viae tibi causa? quid hac ait arce petisti, progenies, Phaethon, haud infitianda parenti? ille refert: o lux inmensi publica mundi, Phoebe pater, si das usum mihi nominis huius, nec falsa Clymene culpam sub imagine celat, pignora da, genitor, per quae tua vera propago credar, et hunc animis errorem detrahe nostris! dixerat, at genitor circum caput omne micantes deposuit radios propiusque accedere iussit amplexuque dato nec tu meus esse negari dignus es, et Clymene veros ait edidit ortus, quoque minus dubites, quodvis pete munus, ut illud me tribuente feras! promissi testis adesto dis iuranda palus, oculis incognita nostris! vix bene desierat, currus rogat ille paternos inque diem alipedum ius et moderamen equorum. Paenituit iurasse patrem: qui terque quaterque concutiens inlustre caput temeraria dixit vox mea facta tua est; utinam promissa liceret non dare! confiteor, solum hoc tibi, nate, negarem. dissuadere licet: non est tua tuta voluntas! magna petis, Phaethon, et quae nec viribus istis munera conveniant nec tam puerilibus annis: sors tua mortalis, non est mortale, quod optas.\"\n",
    "print(count_rank(sentence))\n",
    "print(count_grouprank(sentence))\n",
    "print(count_content(sentence))\n",
    "print(count_content_group(sentence))\n",
    "print(count_words(sentence))\n",
    "print(count_grouprank_words(sentence))\n",
    "print(count_content_words(sentence))\n",
    "print(count_grouprank_contentwords(sentence))\n",
    "print(rare_words(sentence))"
   ]
  },
  {
   "cell_type": "code",
   "execution_count": 74,
   "id": "2e5d75f1",
   "metadata": {},
   "outputs": [
    {
     "name": "stdout",
     "output_type": "stream",
     "text": [
      "(278.069, 8863.824, 7.253, 0.325)\n",
      "3.396\n",
      "(369.698, 1804.552, 6.315)\n",
      "4.216\n",
      "(420.201, 3555.855, 5.502)\n",
      "4.704\n",
      "(549.664, 297.284, 4.323)\n",
      "5.914\n",
      "(0.547, 0.403, 0.264, 0.132)\n"
     ]
    }
   ],
   "source": [
    "sentence = \"quaeque viae tibi causa? quid hac ait arce petisti, Phaethon, haud parenti? ille refert: o lux publica mundi, Phoebe pater, si das usum mihi nominis huius, nec falsa Clymene culpam sub imagine celat, da, genitor, per quae tua vera credar, et hunc animis errorem detrahe nostris! dixerat, at genitor circum caput omne deposuit propiusque accedere iussit dato nec tu meus esse negari dignus es, et Clymene veros ait edidit ortus, quoque minus dubites, quodvis pete munus, ut illud me tribuente feras! promissi testis adesto dis iuranda palus, oculis incognita nostris! vix bene desierat, currus rogat ille paternos inque diem ius et moderamen equorum. Paenituit iurasse patrem: qui terque quaterque concutiens inlustre caput temeraria dixit vox mea facta tua est; utinam promissa liceret non dare! confiteor, solum hoc tibi, nate, negarem. dissuadere licet: non est tua tuta voluntas! magna petis, Phaethon, et quae nec viribus istis munera conveniant nec tam puerilibus annis: sors tua mortalis, non est mortale, quod optas.\"\n",
    "print(count_rank(sentence))\n",
    "print(count_grouprank(sentence))\n",
    "print(count_content(sentence))\n",
    "print(count_content_group(sentence))\n",
    "print(count_words(sentence))\n",
    "print(count_grouprank_words(sentence))\n",
    "print(count_content_words(sentence))\n",
    "print(count_grouprank_contentwords(sentence))\n",
    "print(rare_words(sentence))"
   ]
  },
  {
   "cell_type": "code",
   "execution_count": 75,
   "id": "d04c58ce",
   "metadata": {},
   "outputs": [
    {
     "name": "stdout",
     "output_type": "stream",
     "text": [
      "(185.483, 10294.632, 6.789, 0.257)\n",
      "2.418\n",
      "(267.276, 1518.118, 5.122)\n",
      "3.087\n",
      "(312.224, 4470.657, 5.317)\n",
      "3.552\n",
      "(440.024, 265.189, 3.425)\n",
      "4.677\n",
      "(0.378, 0.284, 0.139, 0.07)\n"
     ]
    }
   ],
   "source": [
    "sentence = \"Germanico bello confecto multis de causis Caesar statuit sibi Rhenum esse transeundum; quarum illa fuit iustissima quod, cum videret Germanos tam facile impelli ut in Galliam venirent, suis quoque rebus eos timere voluit, cum intellegerent et posse et audere populi Romani exercitum Rhenum transire. Accessit etiam quod illa pars equitatus Usipetum et Tencterorum, quam supra commemoravi praedandi frumentandi causa Mosam transisse neque proelio interfuisse, post fugam suorum se trans Rhenum in fines Sugambrorum receperat seque cum his coniunxerat. Ad quos cum Caesar nuntios misisset, qui postularent eos qui sibi Galliaeque bellum intulissent sibi dederent, responderunt: populi Romani imperium Rhenum finire; si se invito Germanos in Galliam transire non aequum existimaret, cur sui quicquam esse imperii aut potestatis trans Rhenum postularet? Ubii autem, qui uni ex Transrhenanis ad Caesarem legatos miserant, amicitiam fecerant, obsides dederant, magnopere orabant ut sibi auxilium ferret, quod graviter ab Suebis premerentur; vel, si id facere occupationibus rei publicae prohiberetur, exercitum modo Rhenum transportaret: id sibi ad auxilium spemque reliqui temporis satis futurum. Tantum esse nomen atque opinionem eius exercitus Ariovisto pulso et hoc novissimo proelio facto etiam ad ultimas Germanorum nationes, uti opinione et amicitia populi Romani tuti esse possint. Navium magnam copiam ad transportandum exercitum pollicebantur.\"\n",
    "print(count_rank(sentence))\n",
    "print(count_grouprank(sentence))\n",
    "print(count_content(sentence))\n",
    "print(count_content_group(sentence))\n",
    "print(count_words(sentence))\n",
    "print(count_grouprank_words(sentence))\n",
    "print(count_content_words(sentence))\n",
    "print(count_grouprank_contentwords(sentence))\n",
    "print(rare_words(sentence))"
   ]
  },
  {
   "cell_type": "code",
   "execution_count": 76,
   "id": "5f4e8540",
   "metadata": {},
   "outputs": [
    {
     "name": "stdout",
     "output_type": "stream",
     "text": [
      "(193.171, 10721.352, 7.071, 0.268)\n",
      "2.518\n",
      "(285.244, 1620.176, 5.467)\n",
      "3.294\n",
      "(325.166, 4655.969, 5.538)\n",
      "3.699\n",
      "(469.605, 283.017, 3.656)\n",
      "4.992\n",
      "(0.394, 0.295, 0.145, 0.073)\n"
     ]
    }
   ],
   "source": [
    "sentence = \"Germanico bello confecto multis de causis Caesar statuit sibi Rhenum esse transeundum; quarum illa fuit iustissima quod, cum videret Germanos tam facile impelli ut in Galliam venirent, suis quoque rebus eos timere voluit, cum intellegerent et posse et audere populi Romani exercitum Rhenum transire. Accessit etiam quod illa pars equitatus et, quam supra commemoravi praedandi frumentandi causa transisse neque proelio interfuisse, post fugam suorum se trans Rhenum in fines receperat seque cum his coniunxerat. Ad quos cum Caesar nuntios misisset, qui postularent eos qui sibi Galliaeque bellum intulissent sibi dederent, responderunt: populi Romani imperium Rhenum finire; si se invito Germanos in Galliam transire non aequum existimaret, cur sui quicquam esse imperii aut potestatis trans Rhenum postularet? autem, qui uni ex ad Caesarem legatos miserant, amicitiam fecerant, obsides dederant, magnopere orabant ut sibi auxilium ferret, quod graviter ab premerentur; vel, si id facere occupationibus rei publicae prohiberetur, exercitum modo Rhenum transportaret: id sibi ad auxilium spemque reliqui temporis satis futurum. Tantum esse nomen atque opinionem eius exercitus pulso et hoc novissimo proelio facto etiam ad ultimas Germanorum nationes, uti opinione et amicitia populi Romani tuti esse possint. Navium magnam copiam ad transportandum exercitum pollicebantur.\"\n",
    "print(count_rank(sentence))\n",
    "print(count_grouprank(sentence))\n",
    "print(count_content(sentence))\n",
    "print(count_content_group(sentence))\n",
    "print(count_words(sentence))\n",
    "print(count_grouprank_words(sentence))\n",
    "print(count_content_words(sentence))\n",
    "print(count_grouprank_contentwords(sentence))\n",
    "print(rare_words(sentence))"
   ]
  },
  {
   "cell_type": "code",
   "execution_count": 77,
   "id": "2991407f",
   "metadata": {},
   "outputs": [
    {
     "name": "stdout",
     "output_type": "stream",
     "text": [
      "(313.275, 10404.491, 7.213, 1.422)\n",
      "3.731\n",
      "(479.567, 1561.635, 5.769)\n",
      "5.288\n",
      "(387.126, 3158.449, 5.588)\n",
      "4.365\n",
      "(582.654, 343.923, 3.934)\n",
      "6.221\n",
      "(0.521, 0.413, 0.329, 0.198)\n"
     ]
    }
   ],
   "source": [
    "sentence = \"quid est obsecro? nam mihi nunc nil rerum omniumst quod malim quam me hoc falso suspicarier. hoc primum, ut ne quid huius rerum ignores: anus, quae est dicta mater esse ei antehac, non fuit; ea obiit mortem. hoc ipsa in itinere alterae dum narrat forte audivi. quaenamst altera? mane: hoc quod coepi primum enarrem, Clitipho: post istuc veniam. propera. iam primum omnium, ubi ventum ad aedis est, Dromo pultat fores; anus quaedam prodit; haec ubi aperuit ostium, continuo hic se coniecit intro, ego consequor; anus foribus obdit pessulum, ad lanam redit. hic sciri potuit aut nusquam alibi, Clinia, quo studio vitam suam te absente exegerit, ubi de inproviso est interventum mulieri. nam ea res dedit tum existumandi copiam cotidianae vitae consuetudinem, quae quoiusque ingenium ut sit declarat maxume. texentem telam studiose ipsam offendimus, mediocriter vestitam veste lugubri (eius anuis causa opinor quae erat mortua) sine auro; tum ornatam ita uti quae ornantur sibi, nulla mala re esse expolitam muliebri; capillus pexus prolixus circum caput reiectus neglegenter; pax.\"\n",
    "print(count_rank(sentence))\n",
    "print(count_grouprank(sentence))\n",
    "print(count_content(sentence))\n",
    "print(count_content_group(sentence))\n",
    "print(count_words(sentence))\n",
    "print(count_grouprank_words(sentence))\n",
    "print(count_content_words(sentence))\n",
    "print(count_grouprank_contentwords(sentence))\n",
    "print(rare_words(sentence))"
   ]
  },
  {
   "cell_type": "code",
   "execution_count": 78,
   "id": "9599f6af",
   "metadata": {},
   "outputs": [
    {
     "name": "stdout",
     "output_type": "stream",
     "text": [
      "(292.321, 10920.459, 7.437, 1.112)\n",
      "3.522\n",
      "(458.719, 1679.302, 6.019)\n",
      "5.073\n",
      "(372.566, 3316.314, 5.806)\n",
      "4.239\n",
      "(574.833, 370.844, 4.157)\n",
      "6.167\n",
      "(0.503, 0.396, 0.308, 0.17)\n"
     ]
    }
   ],
   "source": [
    "sentence = \"quid est obsecro? nam mihi nunc nil rerum omniumst quod malim quam me hoc falso suspicarier. hoc primum, ut ne quid huius rerum ignores: anus, quae est dicta mater esse ei antehac, non fuit; ea obiit mortem. hoc ipsa in itinere alterae dum narrat forte audivi. quaenamst altera? mane: hoc quod coepi primum enarrem, Clitipho: post istuc veniam. propera. iam primum omnium, ubi ventum ad aedis est, Dromo fores; anus quaedam prodit; haec ubi aperuit ostium, continuo hic se coniecit intro, ego consequor; anus foribus, ad lanam redit. hic sciri potuit aut nusquam alibi, Clinia, quo studio vitam suam te absente exegerit, ubi de inproviso est interventum mulieri. nam ea res dedit tum existumandi copiam cotidianae vitae consuetudinem, quae quoiusque ingenium ut sit declarat maxume. texentem telam studiose ipsam offendimus, mediocriter vestitam veste (eius anuis causa opinor quae erat mortua) sine auro; tum ornatam ita uti quae ornantur sibi, nulla mala re esse muliebri; capillus circum caput reiectus neglegenter.\"\n",
    "print(count_rank(sentence))\n",
    "print(count_grouprank(sentence))\n",
    "print(count_content(sentence))\n",
    "print(count_content_group(sentence))\n",
    "print(count_words(sentence))\n",
    "print(count_grouprank_words(sentence))\n",
    "print(count_content_words(sentence))\n",
    "print(count_grouprank_contentwords(sentence))\n",
    "print(rare_words(sentence))"
   ]
  },
  {
   "cell_type": "code",
   "execution_count": 79,
   "id": "76022203",
   "metadata": {},
   "outputs": [
    {
     "name": "stdout",
     "output_type": "stream",
     "text": [
      "(244.885, 8442.403, 7.133, 1.711)\n",
      "3.016\n",
      "(352.844, 1884.781, 5.925)\n",
      "3.984\n",
      "(380.298, 4016.942, 5.573)\n",
      "4.251\n",
      "(540.93, 277.656, 4.003)\n",
      "5.734\n",
      "(0.471, 0.319, 0.209, 0.126)\n"
     ]
    }
   ],
   "source": [
    "sentence = \"Recordare igitur illum, M. Antoni, diem, quo dictaturam sustulisti; pone ante oculos laetitiam senatus populique Romani, confer cum hac nundinatione tua tuorumque; tum intelleges, quantum inter lucrum et laudem intersit. Sed nimirum, ut quidam morbo aliquo et sensus stupore suavitatem cibi non sentiunt, sic libidinosi, avari, facinerosi verae laudis gustatum non habent. Sed si te laus allicere ad recte faciendum non potest, ne metus quidem a foedissimis factis potest avocare? Iudicia non metuis, si propter innocentiam, laudo, sin propter vim, non intellegis, qui isto modo iudicia non timeat, ei quid timendum sit? Quodsi non metuis viros fortis egregiosque civis, quod a corpore tuo prohibentur armis, tui te, mihi crede, diutius non ferent. Quae est autem vita dies et noctes timere a suis? Nisi vero aut maioribus habes beneficiis obligatos, quam ille quosdam habuit ex iis, a quibus est interfectus, aut tu es ulla re cum eo comparandus. Fuit in illo ingenium, ratio, memoria, litterae, cura, cogitatio, diligentia; res bello gesserat, quamvis rei publicae calamitosas, at tamen magnas; multos annos regnare meditatus, magno labore, magnis periculis, quod cogitarat effecerat; muneribus, monumentis, congiariis, epulis multitudinem imperitam delenierat; suos praemiis, adversarios clementiae specie devinxerat.\"\n",
    "print(count_rank(sentence))\n",
    "print(count_grouprank(sentence))\n",
    "print(count_content(sentence))\n",
    "print(count_content_group(sentence))\n",
    "print(count_words(sentence))\n",
    "print(count_grouprank_words(sentence))\n",
    "print(count_content_words(sentence))\n",
    "print(count_grouprank_contentwords(sentence))\n",
    "print(rare_words(sentence))"
   ]
  },
  {
   "cell_type": "code",
   "execution_count": 80,
   "id": "1241a676",
   "metadata": {},
   "outputs": [
    {
     "name": "stdout",
     "output_type": "stream",
     "text": [
      "(210.786, 8859.115, 7.387, 0.244)\n",
      "2.676\n",
      "(308.857, 2026.151, 6.222)\n",
      "3.538\n",
      "(359.934, 4215.341, 5.792)\n",
      "4.066\n",
      "(521.933, 298.286, 4.22)\n",
      "5.563\n",
      "(0.445, 0.286, 0.17, 0.082)\n"
     ]
    }
   ],
   "source": [
    "sentence = \"Recordare igitur illum, M. Antoni, diem, quo sustulisti; pone ante oculos laetitiam senatus populique Romani, confer cum hac tua tuorumque; tum intelleges, quantum inter lucrum et laudem intersit. Sed nimirum, ut quidam morbo aliquo et sensus suavitatem cibi non sentiunt, sic libidinosi, avari, verae laudis non habent. Sed si te laus ad recte faciendum non potest, ne metus quidem a foedissimis factis potest avocare? Iudicia non metuis, si propter innocentiam, laudo, sin propter vim, non intellegis, qui isto modo iudicia non timeat, ei quid timendum sit? Quodsi non metuis viros fortis egregiosque civis, quod a corpore tuo prohibentur armis, tui te, mihi crede, diutius non ferent. Quae est autem vita dies et noctes timere a suis? Nisi vero aut maioribus habes beneficiis, quam ille quosdam habuit ex iis, a quibus est interfectus, aut tu es ulla re cum eo comparandus. Fuit in illo ingenium, ratio, memoria, litterae, cura, cogitatio, diligentia; res bello gesserat, quamvis rei publicae calamitosas, at tamen magnas; multos annos regnare meditatus, magno labore, magnis periculis, quod cogitarat effecerat; muneribus, monumentis, epulis multitudinem imperitam; suos praemiis, adversarios clementiae specie devinxerat.\"\n",
    "print(count_rank(sentence))\n",
    "print(count_grouprank(sentence))\n",
    "print(count_content(sentence))\n",
    "print(count_content_group(sentence))\n",
    "print(count_words(sentence))\n",
    "print(count_grouprank_words(sentence))\n",
    "print(count_content_words(sentence))\n",
    "print(count_grouprank_contentwords(sentence))\n",
    "print(rare_words(sentence))"
   ]
  },
  {
   "cell_type": "code",
   "execution_count": 81,
   "id": "a8fdbfde",
   "metadata": {},
   "outputs": [
    {
     "name": "stdout",
     "output_type": "stream",
     "text": [
      "(272.04, 8351.606, 6.617, 1.021)\n",
      "3.296\n",
      "(391.329, 1079.671, 5.149)\n",
      "4.368\n",
      "(374.434, 4029.796, 5.046)\n",
      "4.186\n",
      "(511.757, 204.243, 3.325)\n",
      "5.428\n",
      "(0.513, 0.385, 0.257, 0.137)\n"
     ]
    }
   ],
   "source": [
    "sentence = \"Angit me Fanniae valetudo. Contraxit hanc, dum assidet Iuniae virgini, sponte primum, est enim affinis, deinde etiam ex auctoritate pontificum. Nam virgines, cum vi morbi atrio Vestae coguntur excedere, matronarum curae custodiaeque mandantur. Quo munere Fannia dum sedulo fungitur, hoc discrimine implicita est. Insident febres, tussis increscit; summa macies, summa defectio; animus tantum et spiritus viget Helvidio marito, Thrasea patre dignissimus; reliqua labuntur meque non metu tantum, verum etiam dolore conficiunt. Doleo enim feminam maximam eripi oculis civitatis, nescio, an aliquid simile visuris. Quae castitas illi, quae sanctitas, quanta gravitas, quanta constantia! Bis maritum secuta in exsilium est, tertio ipsa propter maritum relegata. Eadem quam iucunda, quam comis, quam denique, quod paucis datum est, non minus amabilis quam veneranda! Eritne, quam postea uxoribus nostris ostentare possimus? Erit, a qua viri quoque fortitudinis exempla sumamus, quam sic cernentes audientesque miremur, ut illas, quae leguntur? Ac mihi domus ipsa nutare videtur, licet adhuc posteros habeat. Me quidem illud etiam affligit et torquet, quod matrem eius rursus videor amittere. Quam haec sic auferet secum, meque et novo pariter et rescisso vulnere afficiet. Utramque colui, utramque dilexi. Habuerunt officia mea in secundis, habuerunt in adversis. Non feci tamen paria; atque eo magis hanc cupio servari, ut mihi solvendi tempora supersint. In his eram curis, cum scriberem ad te; quas si deus aliquis in gaudium verterit, de metu non querar. Vale.\"\n",
    "print(count_rank(sentence))\n",
    "print(count_grouprank(sentence))\n",
    "print(count_content(sentence))\n",
    "print(count_content_group(sentence))\n",
    "print(count_words(sentence))\n",
    "print(count_grouprank_words(sentence))\n",
    "print(count_content_words(sentence))\n",
    "print(count_grouprank_contentwords(sentence))\n",
    "print(rare_words(sentence))"
   ]
  },
  {
   "cell_type": "code",
   "execution_count": 82,
   "id": "8f5f31d7",
   "metadata": {},
   "outputs": [
    {
     "name": "stdout",
     "output_type": "stream",
     "text": [
      "(255.037, 8773.684, 6.822, 0.509)\n",
      "3.135\n",
      "(374.709, 1155.95, 5.346)\n",
      "4.206\n",
      "(364.484, 4235.423, 5.244)\n",
      "4.102\n",
      "(507.298, 219.34, 3.493)\n",
      "5.397\n",
      "(0.502, 0.367, 0.237, 0.112)\n"
     ]
    }
   ],
   "source": [
    "sentence = \"Angit me Fanniae valetudo. hanc, dum assidet Iuniae virgini, sponte primum est enim affinis, deinde etiam ex auctoritate pontificum. Nam virgines, cum vi morbi atrio Vestae coguntur excedere, matronarum curae custodiaeque mandantur. Quo munere Fannia dum sedulo fungitur, hoc discrimine implicita est. Insident; summa macies, summa; animus tantum et spiritus viget marito, patre dignissimus; reliqua labuntur meque non metu tantum, verum etiam dolore conficiunt. Doleo enim feminam maximam eripi oculis civitatis, nescio, an aliquid simile visuris. Quae castitas illi, quae quanta gravitas, quanta constantia! Bis maritum secuta in exsilium est, tertio ipsa propter maritum. Eadem quam iucunda, quam comis, quam denique, quod paucis datum est, non minus amabilis quam veneranda! Eritne, quam postea uxoribus nostris ostentare possimus? Erit, a qua viri quoque fortitudinis exempla sumamus, quam sic cernentes audientesque miremur, ut illas, quae leguntur? Ac mihi domus ipsa videtur, licet adhuc posteros habeat. Me quidem illud etiam affligit et torquet, quod matrem eius rursus videor amittere. Quam haec sic auferet secum, meque et novo pariter et rescisso vulnere afficiet. Utramque colui, utramque dilexi. Habuerunt officia mea in secundis, habuerunt in adversis. Non feci tamen; atque eo magis hanc cupio servari, ut mihi solvendi tempora supersint. In his eram curis, cum scriberem ad te; quas si deus aliquis in gaudium verterit, de metu non querar. Vale.\"\n",
    "print(count_rank(sentence))\n",
    "print(count_grouprank(sentence))\n",
    "print(count_content(sentence))\n",
    "print(count_content_group(sentence))\n",
    "print(count_words(sentence))\n",
    "print(count_grouprank_words(sentence))\n",
    "print(count_content_words(sentence))\n",
    "print(count_grouprank_contentwords(sentence))\n",
    "print(rare_words(sentence))"
   ]
  },
  {
   "cell_type": "code",
   "execution_count": 83,
   "id": "b325dd0d",
   "metadata": {},
   "outputs": [
    {
     "name": "stdout",
     "output_type": "stream",
     "text": [
      "(295.883, 8695.776, 6.326, 0.625)\n",
      "3.507\n",
      "(394.584, 1052.302, 5.071)\n",
      "4.389\n",
      "(392.478, 2715.815, 4.638)\n",
      "4.307\n",
      "(504.376, 261.859, 3.252)\n",
      "5.329\n",
      "(0.541, 0.42, 0.283, 0.171)\n"
     ]
    }
   ],
   "source": [
    "sentence = \"Ordior a cultu; cultis bene Liber ab uvis provenit, et culto stat seges alta solo. Forma dei munus: forma quota quaeque superbit? Pars vestrum tali munere magna caret. Cura dabit faciem; facies neglecta peribit, Idaliae similis sit licet illa deae. Corpora si veteres non sic coluere puellae, nec veteres cultos sic habuere viros; Si fuit Andromache tunicas induta valentes, quid mirum? Duri militis uxor erat. Scilicet Aiaci, coniunx, ornata venires, cui tegimen septem terga fuere boum? Simplicitas rudis ante fuit: nunc aurea Roma est, et domiti magnas possidet orbis opes. Aspice, quae nunc sunt, Capitolia, quaeque fuerunt: alterius dices illa fuisse Iovis. Curia, concilio quae nunc dignissima tanto, de stipula Tatio regna tenente fuit. Quae nunc sub Phoebo ducibusque Palatia fulgent, quid nisi araturis pascua bubus erant? Prisca iuvent alios, ego me nunc denique natum gratulor: haec aetas moribus apta meis, non quia nunc terrae lentum subducitur aurum lectaque diverso litore concha venit; nec quia decrescunt effosso marmore montes, nec quia caeruleae mole fugantur aquae; sed quia cultus adest nec nostros mansit in annos rusticitas, priscis illa superstes avis. Munditiis capimur: non sint sine lege capilli! Admotae formam dantque negantque manus. Nec genus ornatus unum est: quod quamque decebit, eligat, et speculum consulat ante suum!\"\n",
    "print(count_rank(sentence))\n",
    "print(count_grouprank(sentence))\n",
    "print(count_content(sentence))\n",
    "print(count_content_group(sentence))\n",
    "print(count_words(sentence))\n",
    "print(count_grouprank_words(sentence))\n",
    "print(count_content_words(sentence))\n",
    "print(count_grouprank_contentwords(sentence))\n",
    "print(rare_words(sentence))"
   ]
  },
  {
   "cell_type": "code",
   "execution_count": 84,
   "id": "97dc47e2",
   "metadata": {},
   "outputs": [
    {
     "name": "stdout",
     "output_type": "stream",
     "text": [
      "(281.87, 9616.962, 6.784, 0.257)\n",
      "3.389\n",
      "(387.654, 1196.577, 5.55)\n",
      "4.338\n",
      "(395.2, 3005.93, 4.992)\n",
      "4.362\n",
      "(524.746, 298.3, 3.565)\n",
      "5.562\n",
      "(0.541, 0.411, 0.265, 0.146)\n"
     ]
    }
   ],
   "source": [
    "sentence = \"Ordior a cultu; cultis bene ab uvis provenit, et culto stat seges alta solo. Forma dei munus: forma Pars vestrum tali munere magna caret. Cura dabit faciem; facies neglecta peribit, similis sit licet illa. Corpora si veteres non sic coluere puellae, nec veteres cultos sic habuere viros; Si fuit tunicas induta, quid mirum? Duri militis uxor erat. Scilicet, coniunx, ornata venires, cui tegimen septem terga fuere boum? rudis ante fuit: nunc aurea Roma est, et domiti magnas possidet orbis opes. Aspice, quae nunc sunt, Capitolia, quaeque fuerunt: alterius dices illa fuisse Iovis. Curia, concilio quae nunc dignissima tanto, de regna tenente fuit. Quae nunc sub ducibusque fulgent, quid nisi araturis bubus erant? Prisca iuvent alios, ego me nunc denique natum gratulor: haec aetas moribus apta meis, non quia nunc terrae lentum subducitur aurum lectaque diverso litore concha venit; nec quia effosso marmore montes, nec quia caeruleae mole fugantur aquae; sed quia cultus adest nec nostros mansit in annos priscis illa avis. capimur: non sint sine lege capilli! Admotae formam dantque negantque manus. Nec genus ornatus unum est: quod quamque decebit, eligat, et consulat ante suum!\"\n",
    "print(count_rank(sentence))\n",
    "print(count_grouprank(sentence))\n",
    "print(count_content(sentence))\n",
    "print(count_content_group(sentence))\n",
    "print(count_words(sentence))\n",
    "print(count_grouprank_words(sentence))\n",
    "print(count_content_words(sentence))\n",
    "print(count_grouprank_contentwords(sentence))\n",
    "print(rare_words(sentence))"
   ]
  },
  {
   "cell_type": "code",
   "execution_count": 85,
   "id": "3aa176ff",
   "metadata": {},
   "outputs": [
    {
     "name": "stdout",
     "output_type": "stream",
     "text": [
      "(243.772, 10516.674, 6.644, 1.109)\n",
      "2.963\n",
      "(354.175, 1220.035, 5.039)\n",
      "3.909\n",
      "(356.833, 5764.47, 5.126)\n",
      "3.981\n",
      "(509.741, 220.217, 3.161)\n",
      "5.343\n",
      "(0.456, 0.353, 0.195, 0.121)\n"
     ]
    }
   ],
   "source": [
    "sentence = \"Philosophum audio et quidem quintum iam diem habeo, ex quo in scholam eo et ab octava disputantem audio. Bona inquis aetate! Quidni bona? Quid autem stultius est quam, quia diu non didiceris, non discere? Quid ergo? Idem faciam, quod trossuli et iuvenes? Bene mecum agitur, si hoc unum senectutem meam dedecet: Omnis aetatis homines haec schola admittit. In hoc senescamus, ut iuvenes sequamur? In theatrum senex ibo et in circum deferar et nullum par sine me depugnabit ad philosophum ire erubescam? Tamdiu discendum est, quamdiu nescias; si proverbio credimus, quamdiu vivas. Ego tamen illic aliquid et doceo. Quaeris, quid doceam? Etiam seni esse discendum. Pudet autem me generis humani, quotiens scholam intravi. Praeter ipsum theatrum Neapolitanorum, ut scis, transeundum est Metronactis petenti domum. Illud quidem fartum est, et ingenti studio, quis sit pythaules bonus, iudicatur; habet tubicen quoque Graecus concursum. At in illo loco, in quo vir bonus quaeritur, paucissimi sedent, et hi plerisque videntur nihil boni negotii habere, quod agant; inepti et inertes vocantur. Mihi contingat iste derisus: Aequo animo audienda sunt imperitorum convicia et ad honesta vadenti contemnendus est ipse contemptus. Perge, Lucili, et propera, ne tibi accidat, quod mihi, ut senex discas; immo ideo magis propera, quoniam id nunc aggressus es, quod perdiscere vix senex possis. Quantum inquis proficiam? Quantum temptaveris! Vale.\"\n",
    "print(count_rank(sentence))\n",
    "print(count_grouprank(sentence))\n",
    "print(count_content(sentence))\n",
    "print(count_content_group(sentence))\n",
    "print(count_words(sentence))\n",
    "print(count_grouprank_words(sentence))\n",
    "print(count_content_words(sentence))\n",
    "print(count_grouprank_contentwords(sentence))\n",
    "print(rare_words(sentence))"
   ]
  },
  {
   "cell_type": "code",
   "execution_count": 86,
   "id": "0110d6c8",
   "metadata": {},
   "outputs": [
    {
     "name": "stdout",
     "output_type": "stream",
     "text": [
      "(208.061, 11420.597, 6.997, 0.175)\n",
      "2.612\n",
      "(312.208, 1357.816, 5.387)\n",
      "3.48\n",
      "(333.684, 6319.883, 5.481)\n",
      "3.781\n",
      "(495.792, 250.016, 3.441)\n",
      "5.224\n",
      "(0.434, 0.321, 0.153, 0.071)\n"
     ]
    }
   ],
   "source": [
    "sentence = \"Philosophum audio et quidem quintum iam diem habeo, ex quo in scholam eo et ab octava disputantem audio. Bona inquis aetate! bona? Quid autem stultius est quam, quia diu non didiceris, non discere? Quid ergo? Idem faciam, quod et iuvenes? si hoc unum senectutem meam: Omnis aetatis homines haec schola admittit. In hoc ut iuvenes sequamur? In theatrum senex ibo et in circum deferar et nullum par sine me ad philosophum ire? Tamdiu discendum est, quamdiu nescias; si credimus, quamdiu vivas. Ego tamen illic aliquid et doceo. Quaeris, quid doceam? Etiam seni esse discendum. Pudet autem me generis humani, quotiens scholam intravi. Praeter ipsum theatrum, ut scis, transeundum est petenti domum. Illud quidem est, et ingenti studio, quis sit bonus, iudicatur; habet quoque Graecus concursum. At in illo loco, in quo vir bonus quaeritur, paucissimi sedent, et hi plerisque videntur nihil boni negotii habere, quod agant; inepti et inertes vocantur. Mihi contingat iste: Aequo animo audienda sunt imperitorum et ad honesta vadenti contemnendus est ipse. Perge, Lucili, et propera, ne tibi accidat, quod mihi, ut senex discas; immo ideo magis propera, quoniam id nunc aggressus es, quod vix senex possis. Quantum inquis proficiam? Quantum temptaveris! Vale.\"\n",
    "print(count_rank(sentence))\n",
    "print(count_grouprank(sentence))\n",
    "print(count_content(sentence))\n",
    "print(count_content_group(sentence))\n",
    "print(count_words(sentence))\n",
    "print(count_grouprank_words(sentence))\n",
    "print(count_content_words(sentence))\n",
    "print(count_grouprank_contentwords(sentence))\n",
    "print(rare_words(sentence))"
   ]
  },
  {
   "cell_type": "code",
   "execution_count": 87,
   "id": "65cb3fbf",
   "metadata": {},
   "outputs": [
    {
     "name": "stdout",
     "output_type": "stream",
     "text": [
      "(334.445, 5300.916, 5.993, 0.987)\n",
      "3.861\n",
      "(401.415, 1112.759, 5.182)\n",
      "4.472\n",
      "(461.559, 3020.672, 4.203)\n",
      "4.979\n",
      "(534.979, 203.672, 3.267)\n",
      "5.646\n",
      "(0.597, 0.487, 0.353, 0.168)\n"
     ]
    }
   ],
   "source": [
    "sentence = \"At me tum primum saevus circumstetit horror. Obstipui; subiit cari genitoris imago, ut regem aequaevum crudeli vulnere vidi vitam exhalantem, subiit deserta Creusa et direpta domus et parvi casus Iuli. Atque ubi iam patriae perventum ad limina sedis antiquasque domos, genitor, quem tollere in altos optabam primum montis primumque petebam, abnegat excisa vitam producere Troia exsiliumque pati. Vos o, quibus integer aevi sanguis, ait, solidaeque suo stant robore vires, vos agitate fugam! Me si caelicolae voluissent ducere vitam, has mihi servassent sedes. Satis una superque vidimus excidia et captae superavimus urbi. Talia perstabat memorans fixusque manebat. Nos contra effusi lacrimis coniunxque Creusa Ascaniusque omnisque domus, ne vertere secum cuncta pater fatoque urgenti incumbere vellet. Abnegat inceptoque et sedibus haeret in isdem. Mene efferre pedem, genitor, te posse relicto sperasti tantumque nefas patrio excidit ore? Si nihil ex tanta superis placet urbe relinqui, et sedet hoc animo perituraeque addere Troiae teque tuosque iuvat, patet isti ianua leto: Arma, viri, ferte arma! Vocat lux ultima victos. Reddite me Danais! Sinite instaurata revisam proelia! Numquam omnes hodie moriemur inulti.  Hinc ferro accingor rursus clipeoque sinistram insertabam aptans meque extra tecta ferebam. Ecce autem complexa pedes in limine coniunx haerebat, parvumque patri tendebat Iulum: Si periturus abis, et nos rape in omnia tecum! Sin aliquam expertus sumptis spem ponis in armis, hanc primum tutare domum! Cui parvus Iulus, cui pater et coniunx quondam tua dicta relinquor? Talia vociferans gemitu tectum omne replebat.\"\n",
    "print(count_rank(sentence))\n",
    "print(count_grouprank(sentence))\n",
    "print(count_content(sentence))\n",
    "print(count_content_group(sentence))\n",
    "print(count_words(sentence))\n",
    "print(count_grouprank_words(sentence))\n",
    "print(count_content_words(sentence))\n",
    "print(count_grouprank_contentwords(sentence))\n",
    "print(rare_words(sentence))"
   ]
  },
  {
   "cell_type": "code",
   "execution_count": 88,
   "id": "2c504d82",
   "metadata": {},
   "outputs": [
    {
     "name": "stdout",
     "output_type": "stream",
     "text": [
      "(307.701, 5684.986, 6.225, 0.298)\n",
      "3.593\n",
      "(374.607, 1189.618, 5.393)\n",
      "4.197\n",
      "(451.896, 3251.303, 4.426)\n",
      "4.9\n",
      "(529.994, 220.978, 3.454)\n",
      "5.612\n",
      "(0.584, 0.466, 0.321, 0.127)\n"
     ]
    }
   ],
   "source": [
    "sentence = \"At me tum primum saevus circumstetit horror. Obstipui; subiit cari genitoris imago, ut regem crudeli vulnere vidi vitam, subiit deserta et direpta domus et parvi casus Iuli. Atque ubi iam patriae perventum ad limina sedis antiquasque domos, genitor, quem tollere in altos optabam primum montis primumque petebam, vitam producere Troia exsiliumque pati. Vos o, quibus integer aevi sanguis, ait, solidaeque suo stant robore vires, vos agitate fugam! Me si voluissent ducere vitam, has mihi servassent sedes. una vidimus excidia et captae urbi. Talia perstabat memorans fixusque manebat. Nos contra effusi lacrimis coniunxque Creusa Ascaniusque omnisque domus, ne vertere secum cuncta pater fatoque urgenti vellet. inceptoque et sedibus haeret in isdem. Mene efferre pedem, genitor, te posse relicto sperasti tantumque nefas patrio excidit ore? Si nihil ex tanta superis placet urbe relinqui, et sedet hoc animo perituraeque addere Troiae teque tuosque iuvat, patet ianua leto: Arma, viri, ferte arma! Vocat lux ultima victos. Reddite me Danais! Sinite instaurata proelia! Numquam omnes hodie moriemur inulti.  Hinc ferro rursus clipeoque sinistram meque extra tecta ferebam. Ecce autem complexa pedes in limine coniunx haerebat, parvumque patri tendebat Iulum: Si periturus abis, et nos rape in omnia tecum! Sin aliquam expertus sumptis spem ponis in armis, hanc primum tutare domum! Cui parvus Iulus, cui pater et coniunx quondam tua dicta relinquor? Talia gemitu tectum omne replebat.\"\n",
    "print(count_rank(sentence))\n",
    "print(count_grouprank(sentence))\n",
    "print(count_content(sentence))\n",
    "print(count_content_group(sentence))\n",
    "print(count_words(sentence))\n",
    "print(count_grouprank_words(sentence))\n",
    "print(count_content_words(sentence))\n",
    "print(count_grouprank_contentwords(sentence))\n",
    "print(rare_words(sentence))"
   ]
  },
  {
   "cell_type": "code",
   "execution_count": 89,
   "id": "c663f76b",
   "metadata": {},
   "outputs": [
    {
     "name": "stdout",
     "output_type": "stream",
     "text": [
      "(277.441, 8582.873, 6.399, 0.48)\n",
      "3.336\n",
      "(374.062, 1177.553, 5.087)\n",
      "4.193\n",
      "(383.514, 4901.436, 5.039)\n",
      "4.277\n",
      "(506.193, 204.882, 3.533)\n",
      "5.373\n",
      "(0.514, 0.391, 0.277, 0.155)\n"
     ]
    }
   ],
   "source": [
    "sentence = \"Tulit enim Romana regia sceleris tragici exemplum, ut taedio regum maturior veniret libertas: L. Tarquinius fratrem habuerat Arruntem Tarquinium, mitis ingenii iuvenem. His duobus duae Tulliae regis filiae nupserant, et ipsae longe dispares moribus. Forte ita inciderat, ne duo violenta ingenia matrimonio iungerentur. Angebatur ferox Tullia nihil materiae in viro neque ad cupiditatem neque ad audaciam esse; tota in alterum aversa Tarquinium eum mirari, eum virum dicere ac regio sanguine ortum. Contrahit celeriter similitudo eos, ut fere fit: Malum malo aptissimum; sed initium turbandi omnia a femina ortum est. Ea nullis verborum contumeliis parcere de viro ad fratrem, de sorore ad virum. Celeriter adulescentem suae temeritatis implet; L. Tarquinius et Tullia minor prope continuatis funeribus cum domos vacuas novo matrimonio fecissent, iunguntur nuptiis. Iam ab scelere ad aliud spectare mulier scelus. Nec nocte nec interdiu virum conquiescere pati, ne gratuita praeterita parricidia essent: Si tu is es, cui nuptam esse me arbitror, et virum et regem appello. Quin accingeris? Di te penates patriique et patris imago et domus regia et in domo regale solium et nomen Tarquinium creat vocatque regem. Aut si ad haec parum est animi, quid frustraris civitatem? Devolvere retro ad stirpem! His muliebribus instinctus furiis Tarquinius circumire et prensare minorum maxime gentium patres. Postremo, ut iam agendae rei tempus visum est, stipatus agmine armatorum in forum inrupit.\"\n",
    "print(count_rank(sentence))\n",
    "print(count_grouprank(sentence))\n",
    "print(count_content(sentence))\n",
    "print(count_content_group(sentence))\n",
    "print(count_words(sentence))\n",
    "print(count_grouprank_words(sentence))\n",
    "print(count_content_words(sentence))\n",
    "print(count_grouprank_contentwords(sentence))\n",
    "print(rare_words(sentence))"
   ]
  },
  {
   "cell_type": "code",
   "execution_count": 90,
   "id": "41bf9b1b",
   "metadata": {},
   "outputs": [
    {
     "name": "stdout",
     "output_type": "stream",
     "text": [
      "(255.976, 8824.63, 6.55, 0.29)\n",
      "3.125\n",
      "(349.553, 1258.847, 5.231)\n",
      "3.947\n",
      "(371.692, 4933.909, 5.182)\n",
      "4.173\n",
      "(496.247, 219.153, 3.66)\n",
      "5.287\n",
      "(0.5, 0.37, 0.25, 0.125)\n"
     ]
    }
   ],
   "source": [
    "sentence = \"Tulit enim Romana regia sceleris tragici exemplum, ut taedio regum maturior veniret libertas: L. Tarquinius fratrem habuerat Arruntem Tarquinium, mitis ingenii iuvenem. His duobus duae Tulliae regis filiae nupserant, et ipsae longe dispares moribus. Forte ita inciderat, ne duo violenta ingenia matrimonio iungerentur. Angebatur ferox Tullia nihil in viro neque ad cupiditatem neque ad audaciam esse; tota in alterum aversa eum mirari, eum virum dicere ac regio sanguine ortum. Contrahit celeriter similitudo eos, ut fere fit: Malum malo aptissimum; sed initium turbandi omnia a femina ortum est. Ea nullis verborum contumeliis parcere de viro ad fratrem, de sorore ad virum. Celeriter adulescentem suae temeritatis; L. Tarquinius et Tullia minor prope continuatis funeribus cum domos vacuas novo matrimonio fecissent, iunguntur nuptiis. Iam ab scelere ad aliud spectare mulier scelus. Nec nocte nec interdiu virum conquiescere pati, ne praeterita essent: Si tu is es, cui nuptam esse me arbitror, et virum et regem appello. Quin accingeris? Di te penates patriique et patris imago et domus regia et in domo regale solium et nomen Tarquinium creat vocatque regem. Aut si ad haec parum est animi, quid civitatem? retro ad stirpem! His muliebribus furiis Tarquinius minorum maxime gentium patres. Postremo, ut iam agendae rei tempus visum est, agmine armatorum in forum inrupit.\"\n",
    "print(count_rank(sentence))\n",
    "print(count_grouprank(sentence))\n",
    "print(count_content(sentence))\n",
    "print(count_content_group(sentence))\n",
    "print(count_words(sentence))\n",
    "print(count_grouprank_words(sentence))\n",
    "print(count_content_words(sentence))\n",
    "print(count_grouprank_contentwords(sentence))\n",
    "print(rare_words(sentence))"
   ]
  },
  {
   "cell_type": "code",
   "execution_count": 10,
   "id": "395d98c6",
   "metadata": {},
   "outputs": [
    {
     "name": "stdout",
     "output_type": "stream",
     "text": [
      "(382.194, 5954.274, 6.221, 0.577)\n",
      "4.36\n",
      "(467.413, 908.527, 5.368)\n",
      "5.147\n",
      "(478.403, 4901.656, 4.472)\n",
      "5.177\n",
      "(586.453, 164.067, 3.256)\n",
      "6.153\n",
      "(0.672, 0.554, 0.398, 0.226)\n"
     ]
    }
   ],
   "source": [
    "sentence = \"quattuor principes ferro interempti: trina bella civilia, plura externa ac plerumque permixta: prosperae in Oriente, adversae in Occidente res: turbatum Illyricum, Galliae nutantes, perdomita Britannia et statim omissa: coortae in nos Sarmatarum ac Sueborum gentes, nobilitatus cladibus mutuis Dacus, mota prope etiam Parthorum arma falsi Neronis ludibrio. iam vero Italia novis cladibus vel post longam saeculorum seriem repetitis adflicta. haustae aut obrutae urbes, fecundissima Campaniae ora; et urbs incendiis vastata, consumptis, antiquissimis delubris, ipso Capitolio civium manibus incenso. pollutae caerimoniae, magna adulteria: plenum exiliimare, infecti caedibus scopuli. atrocius in urbe saevitum: nobilitas, opes, omissi gestique honores pro crimine et ob virtutes certissimum exitium. nec minus praemia delatorum invisa quam scelera, cum alii sacerdotia et consulatus ut spolia adepti, procurationes alii et interiorem potentiam, agerent verterent cuncta odio et terrore. corrupti in dominos servi, in patronos liberti; et quibus deerat inimicus per amicos oppressi. Non tamen adeo virtutum sterile saeculum ut non et bona exempla prodiderit. comitatae profugos liberos matres, secutae maritos in exilia coniuges: propinqui audentes, constantes generi, contumax etiam adversus tormenta servorum fides; supremae clarorum virorum necessitates fortiter toleratae et laudatis antiquorum mortibus pares exitus.\"\n",
    "print(count_rank(sentence))\n",
    "print(count_grouprank(sentence))\n",
    "print(count_content(sentence))\n",
    "print(count_content_group(sentence))\n",
    "print(count_words(sentence))\n",
    "print(count_grouprank_words(sentence))\n",
    "print(count_content_words(sentence))\n",
    "print(count_grouprank_contentwords(sentence))\n",
    "print(rare_words(sentence))"
   ]
  },
  {
   "cell_type": "code",
   "execution_count": 11,
   "id": "ce216409",
   "metadata": {},
   "outputs": [
    {
     "name": "stdout",
     "output_type": "stream",
     "text": [
      "(361.463, 6314.6, 6.362, 0.456)\n",
      "4.154\n",
      "(448.058, 962.871, 5.479)\n",
      "4.95\n",
      "(468.451, 5208.794, 4.653)\n",
      "5.091\n",
      "(582.475, 175.835, 3.387)\n",
      "6.122\n",
      "(0.657, 0.537, 0.371, 0.2)\n"
     ]
    }
   ],
   "source": [
    "sentence = \"quattuor principes ferro interempti: trina bella civilia, plura externa ac plerumque permixta: prosperae in Oriente, adversae in Occidente res: turbatum Illyricum, Galliae nutantes, perdomita Britannia et statim omissa: coortae in nos Sarmatarum ac Sueborum gentes, cladibus mutuis, mota prope etiam Parthorum arma falsi Neronis ludibrio. iam vero Italia novis cladibus vel post longam saeculorum seriem repetitis adflicta. haustae aut obrutae urbes, fecundissima Campaniae ora; et urbs incendiis vastata, consumptis, antiquissimis delubris, ipso Capitolio civium manibus incenso. pollutae caerimoniae, magna adulteria: plenum exiliimare, infecti caedibus scopuli. atrocius in urbe saevitum: nobilitas, opes, omissi gestique honores pro crimine et ob virtutes certissimum exitium. nec minus praemia invisa quam scelera, cum alii sacerdotia et consulatus ut adepti, alii et, agerent verterent cuncta odio et terrore. corrupti in dominos servi, in patronos liberti; et quibus deerat inimicus per amicos oppressi. Non tamen adeo virtutum saeculum ut non et bona exempla. profugos liberos matres, secutae maritos in exilia coniuges: propinqui audentes, constantes generi, contumax etiam adversus tormenta servorum fides; clarorum virorum necessitates fortiter toleratae et laudatis antiquorum mortibus pares exitus.\"\n",
    "print(count_rank(sentence))\n",
    "print(count_grouprank(sentence))\n",
    "print(count_content(sentence))\n",
    "print(count_content_group(sentence))\n",
    "print(count_words(sentence))\n",
    "print(count_grouprank_words(sentence))\n",
    "print(count_content_words(sentence))\n",
    "print(count_grouprank_contentwords(sentence))\n",
    "print(rare_words(sentence))"
   ]
  },
  {
   "cell_type": "code",
   "execution_count": 12,
   "id": "12ac7ce3",
   "metadata": {},
   "outputs": [
    {
     "name": "stdout",
     "output_type": "stream",
     "text": [
      "(253.883, 10364.229, 6.825, 0.53)\n",
      "3.098\n",
      "(361.504, 1404.374, 5.4)\n",
      "4.043\n",
      "(360.161, 4791.722, 5.192)\n",
      "4.044\n",
      "(506.065, 202.36, 3.424)\n",
      "5.353\n",
      "(0.493, 0.38, 0.205, 0.137)\n"
     ]
    }
   ],
   "source": [
    "sentence = \"Proinde videamus, quos Romanorum mores et quam ob causam Deus verus ad augendum imperium adiuvare dignatus est, in cuius potestate sunt etiam regna terrena. Veteres igitur primique Romani, quantum eorum docet et commendat historia, quamvis ut aliae gentes excepta una populi Hebraeorum deos falsos colerent et non Deo victimas, sed daemoniis immolarent, tamen ‚laudis avidi, pecuiniae liberales erant, gloriam ingentem, divitias honestas volebant‘; hanc ardentissime dilexerunt, propter hanc vivere voluerunt, pro hac emori non dubitaverunt; ceteras cupiditates huius unius ingenti cupiditate presserunt. Ipsam denique patriam suam, quoniam servire videbatur inglorius, dominari vero atque imperare gloriosum, prius omni studio liberam, deinde dominam esse concupiverunt. Hinc est quod regalem dominationem non ferentes ‚annua imperia binosque imperatores sibi fecerunt, qui consules appellati sunt a consulendo, non reges aut domini a regnando atque dominando‘; cum et reges utique a regendo dicti melius videantur, ut regnum a regibus, reges autem, ut dictum est, a regendo; sed fastus regius non disciplina putata est regentis vel benivolentia consulentis, sed superbia dominantis. Expulso itaque rege Tarquinio et consulibus institutis secutum est, quod idem auctor in Romanorum laudibus posuit, quod ‚civitas incredibile memoratu est adepta libertate quantum brevi creverit; tanta cupido gloriae incesserat.‘ Ista ergo laudis aviditas et cupido gloriae multa illa miranda fecit.\"\n",
    "print(count_rank(sentence))\n",
    "print(count_grouprank(sentence))\n",
    "print(count_content(sentence))\n",
    "print(count_content_group(sentence))\n",
    "print(count_words(sentence))\n",
    "print(count_grouprank_words(sentence))\n",
    "print(count_content_words(sentence))\n",
    "print(count_grouprank_contentwords(sentence))\n",
    "print(rare_words(sentence))"
   ]
  },
  {
   "cell_type": "code",
   "execution_count": 13,
   "id": "a53caf82",
   "metadata": {},
   "outputs": [
    {
     "name": "stdout",
     "output_type": "stream",
     "text": [
      "(240.645, 10618.985, 6.889, 0.467)\n",
      "2.965\n",
      "(345.761, 1450.284, 5.443)\n",
      "3.881\n",
      "(354.085, 4910.655, 5.256)\n",
      "3.99\n",
      "(502.44, 208.627, 3.455)\n",
      "5.321\n",
      "(0.48, 0.365, 0.19, 0.125)\n"
     ]
    }
   ],
   "source": [
    "sentence = \"Proinde videamus, quos Romanorum mores et quam ob causam Deus verus ad augendum imperium adiuvare dignatus est, in cuius potestate sunt etiam regna terrena. Veteres igitur primique Romani, quantum eorum docet et commendat historia, quamvis ut aliae gentes excepta una populi Hebraeorum deos falsos colerent et non Deo victimas, sed daemoniis immolarent, tamen ‚laudis avidi, pecuiniae liberales erant, gloriam ingentem, divitias honestas volebant‘; hanc ardentissime dilexerunt, propter hanc vivere voluerunt, pro hac non dubitaverunt; ceteras cupiditates huius unius ingenti cupiditate. Ipsam denique patriam suam, quoniam servire videbatur, dominari vero atque imperare gloriosum, prius omni studio liberam, deinde dominam esse concupiverunt. Hinc est quod regalem dominationem non ferentes ‚annua imperia binosque imperatores sibi fecerunt, qui consules appellati sunt a consulendo, non reges aut domini a regnando atque dominando‘; cum et reges utique a regendo dicti melius videantur, ut regnum a regibus, reges autem, ut dictum est, a regendo; sed regius non putata est regentis vel benivolentia consulentis, sed superbia dominantis. Expulso itaque rege Tarquinio et consulibus institutis secutum est, quod idem auctor in Romanorum laudibus posuit, quod ‚civitas incredibile memoratu est adepta libertate quantum brevi creverit; tanta cupido gloriae incesserat.‘ Ista ergo laudis aviditas et cupido gloriae multa illa miranda fecit.\"\n",
    "print(count_rank(sentence))\n",
    "print(count_grouprank(sentence))\n",
    "print(count_content(sentence))\n",
    "print(count_content_group(sentence))\n",
    "print(count_words(sentence))\n",
    "print(count_grouprank_words(sentence))\n",
    "print(count_content_words(sentence))\n",
    "print(count_grouprank_contentwords(sentence))\n",
    "print(rare_words(sentence))"
   ]
  },
  {
   "cell_type": "code",
   "execution_count": 14,
   "id": "cdf4517a",
   "metadata": {},
   "outputs": [
    {
     "name": "stdout",
     "output_type": "stream",
     "text": [
      "(301.503, 8911.417, 7.222, 0.56)\n",
      "3.608\n",
      "(462.87, 1237.276, 5.85)\n",
      "5.122\n",
      "(379.085, 4482.658, 5.556)\n",
      "4.251\n",
      "(556.959, 282.301, 3.755)\n",
      "5.894\n",
      "(0.523, 0.417, 0.281, 0.171)\n"
     ]
    }
   ],
   "source": [
    "sentence = \"Nullum tamen clementia ex omnibus magis quam regem aut principem decet. Non est hic sine ratione populis urbibusque consensus sic protegendi amandique reges et se suaque iactandi, quocumque desideravit imperantis salus; nec haec vilitas sui est aut dementia pro uno capite tot milia excipere ferrum ac multis mortibus unam animam redimere nonnumquam senis et invalidi. Quemadmodum totum corpus animo deservit et, cum hoc tanto maius tantoque speciosius sit, ille in occulto maneat tenuis et in qua sede latitet incertus, tamen manus, pedes, oculi negotium illi gerunt, illum haec cutis munit, illius iussu iacemus aut inquieti discurrimus, cum ille imperavit, sive avarus dominus est, mare lucri causa scrutamur, sive ambitiosus, iam dudum dextram flammis obiecimus aut voluntarii terram subsiluimus, sic haec immensa multitudo unius animae circumdata illius spiritu regitur, illius ratione flectitur pressura se ac fractura viribus suis, nisi consilio sustineretur. Suam itaque incolumitatem amant, cum pro uno homine denas legiones in aciem deducunt, cum in primam frontem procurrunt et adversa volneribus pectora ferunt, ne imperatoris sui signa vertantur. Ille est enim vinculum, per quod res publica cohaeret, ille spiritus vitalis, quem haec tot milia trahunt nihil ipsa per se futura nisi onus et praeda, si mens illa imperii subtrahatur.\"\n",
    "print(count_rank(sentence))\n",
    "print(count_grouprank(sentence))\n",
    "print(count_content(sentence))\n",
    "print(count_content_group(sentence))\n",
    "print(count_words(sentence))\n",
    "print(count_grouprank_words(sentence))\n",
    "print(count_content_words(sentence))\n",
    "print(count_grouprank_contentwords(sentence))\n",
    "print(rare_words(sentence))"
   ]
  },
  {
   "cell_type": "code",
   "execution_count": 15,
   "id": "1580a2b1",
   "metadata": {},
   "outputs": [
    {
     "name": "stdout",
     "output_type": "stream",
     "text": [
      "(277.144, 9412.303, 7.383, 0.329)\n",
      "3.367\n",
      "(437.83, 1324.339, 5.986)\n",
      "4.866\n",
      "(362.138, 4741.622, 5.752)\n",
      "4.096\n",
      "(545.982, 304.455, 3.908)\n",
      "5.795\n",
      "(0.495, 0.388, 0.255, 0.149)\n"
     ]
    }
   ],
   "source": [
    "sentence = \"Nullum tamen clementia ex omnibus magis quam regem aut principem decet. Non est hic sine ratione populis urbibusque consensus sic protegendi amandique reges et se suaque, quocumque desideravit imperantis salus; nec haec sui est aut dementia pro uno capite tot milia excipere ferrum ac multis mortibus unam animam redimere nonnumquam senis et invalidi. Quemadmodum totum corpus animo deservit et, cum hoc tanto maius tantoque speciosius sit, ille in occulto maneat tenuis et in qua sede incertus, tamen manus, pedes, oculi negotium illi gerunt, illum haec munit, illius iussu iacemus aut inquieti discurrimus, cum ille imperavit, sive avarus dominus est, mare lucri causa scrutamur, sive ambitiosus, iam dudum dextram flammis obiecimus aut voluntarii sic haec immensa multitudo unius animae circumdata illius spiritu regitur, illius ratione flectitur se ac fractura viribus suis, nisi consilio sustineretur. Suam itaque incolumitatem amant, cum pro uno homine legiones in aciem deducunt, cum in primam frontem procurrunt et adversa volneribus pectora ferunt, ne imperatoris sui signa vertantur. Ille est enim vinculum, per quod res publica cohaeret, ille, quem haec tot milia nihil ipsa per se futura nisi onus et praeda, si mens illa imperii subtrahatur.\"\n",
    "print(count_rank(sentence))\n",
    "print(count_grouprank(sentence))\n",
    "print(count_content(sentence))\n",
    "print(count_content_group(sentence))\n",
    "print(count_words(sentence))\n",
    "print(count_grouprank_words(sentence))\n",
    "print(count_content_words(sentence))\n",
    "print(count_grouprank_contentwords(sentence))\n",
    "print(rare_words(sentence))"
   ]
  },
  {
   "cell_type": "code",
   "execution_count": null,
   "id": "ff05c79b",
   "metadata": {},
   "outputs": [],
   "source": []
  }
 ],
 "metadata": {
  "kernelspec": {
   "display_name": "Python 3 (ipykernel)",
   "language": "python",
   "name": "python3"
  },
  "language_info": {
   "codemirror_mode": {
    "name": "ipython",
    "version": 3
   },
   "file_extension": ".py",
   "mimetype": "text/x-python",
   "name": "python",
   "nbconvert_exporter": "python",
   "pygments_lexer": "ipython3",
   "version": "3.10.9"
  }
 },
 "nbformat": 4,
 "nbformat_minor": 5
}
